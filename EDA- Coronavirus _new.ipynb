{
 "cells": [
  {
   "cell_type": "code",
   "execution_count": 1,
   "metadata": {},
   "outputs": [],
   "source": [
    "import numpy as np \n",
    "import pandas as pd \n",
    "import matplotlib.pyplot as plt\n",
    "plt.style.use('fivethirtyeight')\n",
    "import seaborn as sns\n",
    "import math\n",
    "from matplotlib.ticker import MaxNLocator\n",
    "import csv\n",
    "import folium\n",
    "from folium.plugins import FastMarkerCluster"
   ]
  },
  {
   "cell_type": "code",
   "execution_count": 2,
   "metadata": {},
   "outputs": [
    {
     "data": {
      "text/html": [
       "<div>\n",
       "<style scoped>\n",
       "    .dataframe tbody tr th:only-of-type {\n",
       "        vertical-align: middle;\n",
       "    }\n",
       "\n",
       "    .dataframe tbody tr th {\n",
       "        vertical-align: top;\n",
       "    }\n",
       "\n",
       "    .dataframe thead th {\n",
       "        text-align: right;\n",
       "    }\n",
       "</style>\n",
       "<table border=\"1\" class=\"dataframe\">\n",
       "  <thead>\n",
       "    <tr style=\"text-align: right;\">\n",
       "      <th></th>\n",
       "      <th>id</th>\n",
       "      <th>sex</th>\n",
       "      <th>birth_year</th>\n",
       "      <th>country</th>\n",
       "      <th>region</th>\n",
       "      <th>disease</th>\n",
       "      <th>group</th>\n",
       "      <th>infection_reason</th>\n",
       "      <th>infection_order</th>\n",
       "      <th>infected_by</th>\n",
       "      <th>contact_number</th>\n",
       "      <th>confirmed_date</th>\n",
       "      <th>released_date</th>\n",
       "      <th>deceased_date</th>\n",
       "      <th>state</th>\n",
       "    </tr>\n",
       "  </thead>\n",
       "  <tbody>\n",
       "    <tr>\n",
       "      <th>0</th>\n",
       "      <td>1</td>\n",
       "      <td>female</td>\n",
       "      <td>1984.0</td>\n",
       "      <td>China</td>\n",
       "      <td>filtered at airport</td>\n",
       "      <td>NaN</td>\n",
       "      <td>NaN</td>\n",
       "      <td>visit to Wuhan</td>\n",
       "      <td>1.0</td>\n",
       "      <td>NaN</td>\n",
       "      <td>45.0</td>\n",
       "      <td>2020-01-20</td>\n",
       "      <td>2020-02-06</td>\n",
       "      <td>NaN</td>\n",
       "      <td>released</td>\n",
       "    </tr>\n",
       "    <tr>\n",
       "      <th>1</th>\n",
       "      <td>2</td>\n",
       "      <td>male</td>\n",
       "      <td>1964.0</td>\n",
       "      <td>Korea</td>\n",
       "      <td>filtered at airport</td>\n",
       "      <td>NaN</td>\n",
       "      <td>NaN</td>\n",
       "      <td>visit to Wuhan</td>\n",
       "      <td>1.0</td>\n",
       "      <td>NaN</td>\n",
       "      <td>75.0</td>\n",
       "      <td>2020-01-24</td>\n",
       "      <td>2020-02-05</td>\n",
       "      <td>NaN</td>\n",
       "      <td>released</td>\n",
       "    </tr>\n",
       "    <tr>\n",
       "      <th>2</th>\n",
       "      <td>3</td>\n",
       "      <td>male</td>\n",
       "      <td>1966.0</td>\n",
       "      <td>Korea</td>\n",
       "      <td>capital area</td>\n",
       "      <td>NaN</td>\n",
       "      <td>NaN</td>\n",
       "      <td>visit to Wuhan</td>\n",
       "      <td>1.0</td>\n",
       "      <td>NaN</td>\n",
       "      <td>16.0</td>\n",
       "      <td>2020-01-26</td>\n",
       "      <td>2020-02-12</td>\n",
       "      <td>NaN</td>\n",
       "      <td>released</td>\n",
       "    </tr>\n",
       "    <tr>\n",
       "      <th>3</th>\n",
       "      <td>4</td>\n",
       "      <td>male</td>\n",
       "      <td>1964.0</td>\n",
       "      <td>Korea</td>\n",
       "      <td>capital area</td>\n",
       "      <td>NaN</td>\n",
       "      <td>NaN</td>\n",
       "      <td>visit to Wuhan</td>\n",
       "      <td>1.0</td>\n",
       "      <td>NaN</td>\n",
       "      <td>95.0</td>\n",
       "      <td>2020-01-27</td>\n",
       "      <td>2020-02-09</td>\n",
       "      <td>NaN</td>\n",
       "      <td>released</td>\n",
       "    </tr>\n",
       "    <tr>\n",
       "      <th>4</th>\n",
       "      <td>5</td>\n",
       "      <td>male</td>\n",
       "      <td>1987.0</td>\n",
       "      <td>Korea</td>\n",
       "      <td>capital area</td>\n",
       "      <td>NaN</td>\n",
       "      <td>NaN</td>\n",
       "      <td>visit to Wuhan</td>\n",
       "      <td>1.0</td>\n",
       "      <td>NaN</td>\n",
       "      <td>31.0</td>\n",
       "      <td>2020-01-30</td>\n",
       "      <td>2020-03-02</td>\n",
       "      <td>NaN</td>\n",
       "      <td>released</td>\n",
       "    </tr>\n",
       "  </tbody>\n",
       "</table>\n",
       "</div>"
      ],
      "text/plain": [
       "   id     sex  birth_year country               region  disease group  \\\n",
       "0   1  female      1984.0   China  filtered at airport      NaN   NaN   \n",
       "1   2    male      1964.0   Korea  filtered at airport      NaN   NaN   \n",
       "2   3    male      1966.0   Korea         capital area      NaN   NaN   \n",
       "3   4    male      1964.0   Korea         capital area      NaN   NaN   \n",
       "4   5    male      1987.0   Korea         capital area      NaN   NaN   \n",
       "\n",
       "  infection_reason  infection_order  infected_by  contact_number  \\\n",
       "0   visit to Wuhan              1.0          NaN            45.0   \n",
       "1   visit to Wuhan              1.0          NaN            75.0   \n",
       "2   visit to Wuhan              1.0          NaN            16.0   \n",
       "3   visit to Wuhan              1.0          NaN            95.0   \n",
       "4   visit to Wuhan              1.0          NaN            31.0   \n",
       "\n",
       "  confirmed_date released_date deceased_date     state  \n",
       "0     2020-01-20    2020-02-06           NaN  released  \n",
       "1     2020-01-24    2020-02-05           NaN  released  \n",
       "2     2020-01-26    2020-02-12           NaN  released  \n",
       "3     2020-01-27    2020-02-09           NaN  released  \n",
       "4     2020-01-30    2020-03-02           NaN  released  "
      ]
     },
     "execution_count": 2,
     "metadata": {},
     "output_type": "execute_result"
    }
   ],
   "source": [
    "patient= pd.read_csv(r\"C:\\Users\\Tatiksha\\Documents\\Customer Social Analytics\\Final Project\\patient_new.csv\", encoding= 'utf8')\n",
    "patient.head()"
   ]
  },
  {
   "cell_type": "code",
   "execution_count": 3,
   "metadata": {},
   "outputs": [
    {
     "data": {
      "text/html": [
       "<div>\n",
       "<style scoped>\n",
       "    .dataframe tbody tr th:only-of-type {\n",
       "        vertical-align: middle;\n",
       "    }\n",
       "\n",
       "    .dataframe tbody tr th {\n",
       "        vertical-align: top;\n",
       "    }\n",
       "\n",
       "    .dataframe thead th {\n",
       "        text-align: right;\n",
       "    }\n",
       "</style>\n",
       "<table border=\"1\" class=\"dataframe\">\n",
       "  <thead>\n",
       "    <tr style=\"text-align: right;\">\n",
       "      <th></th>\n",
       "      <th>id</th>\n",
       "      <th>date</th>\n",
       "      <th>province</th>\n",
       "      <th>city</th>\n",
       "      <th>visit</th>\n",
       "      <th>latitude</th>\n",
       "      <th>longitude</th>\n",
       "      <th>order</th>\n",
       "    </tr>\n",
       "  </thead>\n",
       "  <tbody>\n",
       "    <tr>\n",
       "      <th>0</th>\n",
       "      <td>1</td>\n",
       "      <td>1/19/2020</td>\n",
       "      <td>Incheon</td>\n",
       "      <td>Jung-gu</td>\n",
       "      <td>airport</td>\n",
       "      <td>37.460459</td>\n",
       "      <td>126.440680</td>\n",
       "      <td>1</td>\n",
       "    </tr>\n",
       "    <tr>\n",
       "      <th>1</th>\n",
       "      <td>1</td>\n",
       "      <td>1/20/2020</td>\n",
       "      <td>Incheon</td>\n",
       "      <td>Seo-gu</td>\n",
       "      <td>hospital_isolated</td>\n",
       "      <td>37.478832</td>\n",
       "      <td>126.668558</td>\n",
       "      <td>2</td>\n",
       "    </tr>\n",
       "    <tr>\n",
       "      <th>2</th>\n",
       "      <td>2</td>\n",
       "      <td>1/22/2020</td>\n",
       "      <td>Gyeonggi-do</td>\n",
       "      <td>Gimpo-si</td>\n",
       "      <td>airport</td>\n",
       "      <td>37.562143</td>\n",
       "      <td>126.801884</td>\n",
       "      <td>1</td>\n",
       "    </tr>\n",
       "    <tr>\n",
       "      <th>3</th>\n",
       "      <td>2</td>\n",
       "      <td>1/23/2020</td>\n",
       "      <td>Seoul</td>\n",
       "      <td>Jung-gu</td>\n",
       "      <td>hospital_isolated</td>\n",
       "      <td>37.567454</td>\n",
       "      <td>127.005627</td>\n",
       "      <td>2</td>\n",
       "    </tr>\n",
       "    <tr>\n",
       "      <th>4</th>\n",
       "      <td>3</td>\n",
       "      <td>1/20/2020</td>\n",
       "      <td>Incheon</td>\n",
       "      <td>Jung-gu</td>\n",
       "      <td>airport</td>\n",
       "      <td>37.460459</td>\n",
       "      <td>126.440680</td>\n",
       "      <td>1</td>\n",
       "    </tr>\n",
       "  </tbody>\n",
       "</table>\n",
       "</div>"
      ],
      "text/plain": [
       "   id       date     province      city              visit   latitude  \\\n",
       "0   1  1/19/2020      Incheon   Jung-gu            airport  37.460459   \n",
       "1   1  1/20/2020      Incheon    Seo-gu  hospital_isolated  37.478832   \n",
       "2   2  1/22/2020  Gyeonggi-do  Gimpo-si            airport  37.562143   \n",
       "3   2  1/23/2020        Seoul   Jung-gu  hospital_isolated  37.567454   \n",
       "4   3  1/20/2020      Incheon   Jung-gu            airport  37.460459   \n",
       "\n",
       "    longitude  order  \n",
       "0  126.440680      1  \n",
       "1  126.668558      2  \n",
       "2  126.801884      1  \n",
       "3  127.005627      2  \n",
       "4  126.440680      1  "
      ]
     },
     "execution_count": 3,
     "metadata": {},
     "output_type": "execute_result"
    }
   ],
   "source": [
    "route= pd.read_csv(r\"C:\\Users\\Tatiksha\\Documents\\Customer Social Analytics\\Final Project\\route_new.csv\", encoding= 'utf8')\n",
    "route.head()"
   ]
  },
  {
   "cell_type": "code",
   "execution_count": 4,
   "metadata": {},
   "outputs": [
    {
     "data": {
      "text/html": [
       "<div>\n",
       "<style scoped>\n",
       "    .dataframe tbody tr th:only-of-type {\n",
       "        vertical-align: middle;\n",
       "    }\n",
       "\n",
       "    .dataframe tbody tr th {\n",
       "        vertical-align: top;\n",
       "    }\n",
       "\n",
       "    .dataframe thead th {\n",
       "        text-align: right;\n",
       "    }\n",
       "</style>\n",
       "<table border=\"1\" class=\"dataframe\">\n",
       "  <thead>\n",
       "    <tr style=\"text-align: right;\">\n",
       "      <th></th>\n",
       "      <th>date</th>\n",
       "      <th>acc_test</th>\n",
       "      <th>acc_negative</th>\n",
       "      <th>acc_confirmed</th>\n",
       "      <th>acc_released</th>\n",
       "      <th>acc_deceased</th>\n",
       "      <th>new_test</th>\n",
       "      <th>new_negative</th>\n",
       "      <th>new_confirmed</th>\n",
       "      <th>new_released</th>\n",
       "      <th>new_deceased</th>\n",
       "    </tr>\n",
       "  </thead>\n",
       "  <tbody>\n",
       "    <tr>\n",
       "      <th>0</th>\n",
       "      <td>2020-01-20</td>\n",
       "      <td>1</td>\n",
       "      <td>0</td>\n",
       "      <td>1</td>\n",
       "      <td>0</td>\n",
       "      <td>0</td>\n",
       "      <td>1</td>\n",
       "      <td>0</td>\n",
       "      <td>1</td>\n",
       "      <td>0</td>\n",
       "      <td>0</td>\n",
       "    </tr>\n",
       "    <tr>\n",
       "      <th>1</th>\n",
       "      <td>2020-01-21</td>\n",
       "      <td>1</td>\n",
       "      <td>0</td>\n",
       "      <td>1</td>\n",
       "      <td>0</td>\n",
       "      <td>0</td>\n",
       "      <td>0</td>\n",
       "      <td>0</td>\n",
       "      <td>0</td>\n",
       "      <td>0</td>\n",
       "      <td>0</td>\n",
       "    </tr>\n",
       "    <tr>\n",
       "      <th>2</th>\n",
       "      <td>2020-01-22</td>\n",
       "      <td>4</td>\n",
       "      <td>3</td>\n",
       "      <td>1</td>\n",
       "      <td>0</td>\n",
       "      <td>0</td>\n",
       "      <td>3</td>\n",
       "      <td>3</td>\n",
       "      <td>0</td>\n",
       "      <td>0</td>\n",
       "      <td>0</td>\n",
       "    </tr>\n",
       "    <tr>\n",
       "      <th>3</th>\n",
       "      <td>2020-01-23</td>\n",
       "      <td>22</td>\n",
       "      <td>21</td>\n",
       "      <td>1</td>\n",
       "      <td>0</td>\n",
       "      <td>0</td>\n",
       "      <td>18</td>\n",
       "      <td>18</td>\n",
       "      <td>0</td>\n",
       "      <td>0</td>\n",
       "      <td>0</td>\n",
       "    </tr>\n",
       "    <tr>\n",
       "      <th>4</th>\n",
       "      <td>2020-01-24</td>\n",
       "      <td>27</td>\n",
       "      <td>25</td>\n",
       "      <td>2</td>\n",
       "      <td>0</td>\n",
       "      <td>0</td>\n",
       "      <td>5</td>\n",
       "      <td>4</td>\n",
       "      <td>1</td>\n",
       "      <td>0</td>\n",
       "      <td>0</td>\n",
       "    </tr>\n",
       "  </tbody>\n",
       "</table>\n",
       "</div>"
      ],
      "text/plain": [
       "         date  acc_test  acc_negative  acc_confirmed  acc_released  \\\n",
       "0  2020-01-20         1             0              1             0   \n",
       "1  2020-01-21         1             0              1             0   \n",
       "2  2020-01-22         4             3              1             0   \n",
       "3  2020-01-23        22            21              1             0   \n",
       "4  2020-01-24        27            25              2             0   \n",
       "\n",
       "   acc_deceased  new_test  new_negative  new_confirmed  new_released  \\\n",
       "0             0         1             0              1             0   \n",
       "1             0         0             0              0             0   \n",
       "2             0         3             3              0             0   \n",
       "3             0        18            18              0             0   \n",
       "4             0         5             4              1             0   \n",
       "\n",
       "   new_deceased  \n",
       "0             0  \n",
       "1             0  \n",
       "2             0  \n",
       "3             0  \n",
       "4             0  "
      ]
     },
     "execution_count": 4,
     "metadata": {},
     "output_type": "execute_result"
    }
   ],
   "source": [
    "time= pd.read_csv(r\"C:\\Users\\Tatiksha\\Documents\\Customer Social Analytics\\Final Project\\time.csv\", encoding= 'utf8')\n",
    "time.head()"
   ]
  },
  {
   "cell_type": "code",
   "execution_count": 5,
   "metadata": {},
   "outputs": [
    {
     "data": {
      "text/html": [
       "<div style=\"width:100%;\"><div style=\"position:relative;width:100%;height:0;padding-bottom:60%;\"><iframe src=\"data:text/html;charset=utf-8;base64,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\" style=\"position:absolute;width:100%;height:100%;left:0;top:0;border:none !important;\" allowfullscreen webkitallowfullscreen mozallowfullscreen></iframe></div></div>"
      ],
      "text/plain": [
       "<folium.folium.Map at 0x2e3e1ac52b0>"
      ]
     },
     "execution_count": 5,
     "metadata": {},
     "output_type": "execute_result"
    }
   ],
   "source": [
    "lats = route['latitude'].tolist()\n",
    "lons = route['longitude'].tolist()\n",
    "locations = list(zip(lats, lons))\n",
    "\n",
    "\n",
    "\n",
    "map1 = folium.Map(location=[37.52, 126.99])\n",
    "FastMarkerCluster(data=locations).add_to(map1)\n",
    "map1"
   ]
  },
  {
   "cell_type": "code",
   "execution_count": 6,
   "metadata": {},
   "outputs": [
    {
     "data": {
      "text/html": [
       "        <script type=\"text/javascript\">\n",
       "        window.PlotlyConfig = {MathJaxConfig: 'local'};\n",
       "        if (window.MathJax) {MathJax.Hub.Config({SVG: {font: \"STIX-Web\"}});}\n",
       "        if (typeof require !== 'undefined') {\n",
       "        require.undef(\"plotly\");\n",
       "        requirejs.config({\n",
       "            paths: {\n",
       "                'plotly': ['https://cdn.plot.ly/plotly-latest.min']\n",
       "            }\n",
       "        });\n",
       "        require(['plotly'], function(Plotly) {\n",
       "            window._Plotly = Plotly;\n",
       "        });\n",
       "        }\n",
       "        </script>\n",
       "        "
      ]
     },
     "metadata": {},
     "output_type": "display_data"
    }
   ],
   "source": [
    "import plotly as py\n",
    "import plotly.express as px\n",
    "import plotly.graph_objs as go\n",
    "from plotly.subplots import make_subplots\n",
    "from plotly.offline import download_plotlyjs, init_notebook_mode, plot, iplot\n",
    "init_notebook_mode(connected=True) "
   ]
  },
  {
   "cell_type": "code",
   "execution_count": 7,
   "metadata": {},
   "outputs": [
    {
     "data": {
      "text/html": [
       "<div>\n",
       "<style scoped>\n",
       "    .dataframe tbody tr th:only-of-type {\n",
       "        vertical-align: middle;\n",
       "    }\n",
       "\n",
       "    .dataframe tbody tr th {\n",
       "        vertical-align: top;\n",
       "    }\n",
       "\n",
       "    .dataframe thead th {\n",
       "        text-align: right;\n",
       "    }\n",
       "</style>\n",
       "<table border=\"1\" class=\"dataframe\">\n",
       "  <thead>\n",
       "    <tr style=\"text-align: right;\">\n",
       "      <th></th>\n",
       "      <th>SNo</th>\n",
       "      <th>ObservationDate</th>\n",
       "      <th>Province/State</th>\n",
       "      <th>Country/Region</th>\n",
       "      <th>Last Update</th>\n",
       "      <th>Confirmed</th>\n",
       "      <th>Deaths</th>\n",
       "      <th>Recovered</th>\n",
       "    </tr>\n",
       "  </thead>\n",
       "  <tbody>\n",
       "    <tr>\n",
       "      <th>0</th>\n",
       "      <td>1</td>\n",
       "      <td>01/22/2020</td>\n",
       "      <td>Anhui</td>\n",
       "      <td>Mainland China</td>\n",
       "      <td>1/22/2020 17:00</td>\n",
       "      <td>1.0</td>\n",
       "      <td>0.0</td>\n",
       "      <td>0.0</td>\n",
       "    </tr>\n",
       "    <tr>\n",
       "      <th>1</th>\n",
       "      <td>2</td>\n",
       "      <td>01/22/2020</td>\n",
       "      <td>Beijing</td>\n",
       "      <td>Mainland China</td>\n",
       "      <td>1/22/2020 17:00</td>\n",
       "      <td>14.0</td>\n",
       "      <td>0.0</td>\n",
       "      <td>0.0</td>\n",
       "    </tr>\n",
       "    <tr>\n",
       "      <th>2</th>\n",
       "      <td>3</td>\n",
       "      <td>01/22/2020</td>\n",
       "      <td>Chongqing</td>\n",
       "      <td>Mainland China</td>\n",
       "      <td>1/22/2020 17:00</td>\n",
       "      <td>6.0</td>\n",
       "      <td>0.0</td>\n",
       "      <td>0.0</td>\n",
       "    </tr>\n",
       "    <tr>\n",
       "      <th>3</th>\n",
       "      <td>4</td>\n",
       "      <td>01/22/2020</td>\n",
       "      <td>Fujian</td>\n",
       "      <td>Mainland China</td>\n",
       "      <td>1/22/2020 17:00</td>\n",
       "      <td>1.0</td>\n",
       "      <td>0.0</td>\n",
       "      <td>0.0</td>\n",
       "    </tr>\n",
       "    <tr>\n",
       "      <th>4</th>\n",
       "      <td>5</td>\n",
       "      <td>01/22/2020</td>\n",
       "      <td>Gansu</td>\n",
       "      <td>Mainland China</td>\n",
       "      <td>1/22/2020 17:00</td>\n",
       "      <td>0.0</td>\n",
       "      <td>0.0</td>\n",
       "      <td>0.0</td>\n",
       "    </tr>\n",
       "  </tbody>\n",
       "</table>\n",
       "</div>"
      ],
      "text/plain": [
       "   SNo ObservationDate Province/State  Country/Region      Last Update  \\\n",
       "0    1      01/22/2020          Anhui  Mainland China  1/22/2020 17:00   \n",
       "1    2      01/22/2020        Beijing  Mainland China  1/22/2020 17:00   \n",
       "2    3      01/22/2020      Chongqing  Mainland China  1/22/2020 17:00   \n",
       "3    4      01/22/2020         Fujian  Mainland China  1/22/2020 17:00   \n",
       "4    5      01/22/2020          Gansu  Mainland China  1/22/2020 17:00   \n",
       "\n",
       "   Confirmed  Deaths  Recovered  \n",
       "0        1.0     0.0        0.0  \n",
       "1       14.0     0.0        0.0  \n",
       "2        6.0     0.0        0.0  \n",
       "3        1.0     0.0        0.0  \n",
       "4        0.0     0.0        0.0  "
      ]
     },
     "execution_count": 7,
     "metadata": {},
     "output_type": "execute_result"
    }
   ],
   "source": [
    "df= pd.read_csv(r\"C:\\Users\\Tatiksha\\Documents\\Customer Social Analytics\\Final Project\\covid_19_data.csv\", encoding= 'utf8')\n",
    "df.head()"
   ]
  },
  {
   "cell_type": "code",
   "execution_count": 8,
   "metadata": {},
   "outputs": [
    {
     "data": {
      "text/html": [
       "<div>\n",
       "<style scoped>\n",
       "    .dataframe tbody tr th:only-of-type {\n",
       "        vertical-align: middle;\n",
       "    }\n",
       "\n",
       "    .dataframe tbody tr th {\n",
       "        vertical-align: top;\n",
       "    }\n",
       "\n",
       "    .dataframe thead th {\n",
       "        text-align: right;\n",
       "    }\n",
       "</style>\n",
       "<table border=\"1\" class=\"dataframe\">\n",
       "  <thead>\n",
       "    <tr style=\"text-align: right;\">\n",
       "      <th></th>\n",
       "      <th>SNo</th>\n",
       "      <th>Date</th>\n",
       "      <th>Province/State</th>\n",
       "      <th>Country</th>\n",
       "      <th>Last Update</th>\n",
       "      <th>Confirmed</th>\n",
       "      <th>Deaths</th>\n",
       "      <th>Recovered</th>\n",
       "    </tr>\n",
       "  </thead>\n",
       "  <tbody>\n",
       "    <tr>\n",
       "      <th>0</th>\n",
       "      <td>1</td>\n",
       "      <td>01/22/2020</td>\n",
       "      <td>Anhui</td>\n",
       "      <td>Mainland China</td>\n",
       "      <td>1/22/2020 17:00</td>\n",
       "      <td>1.0</td>\n",
       "      <td>0.0</td>\n",
       "      <td>0.0</td>\n",
       "    </tr>\n",
       "    <tr>\n",
       "      <th>1</th>\n",
       "      <td>2</td>\n",
       "      <td>01/22/2020</td>\n",
       "      <td>Beijing</td>\n",
       "      <td>Mainland China</td>\n",
       "      <td>1/22/2020 17:00</td>\n",
       "      <td>14.0</td>\n",
       "      <td>0.0</td>\n",
       "      <td>0.0</td>\n",
       "    </tr>\n",
       "    <tr>\n",
       "      <th>2</th>\n",
       "      <td>3</td>\n",
       "      <td>01/22/2020</td>\n",
       "      <td>Chongqing</td>\n",
       "      <td>Mainland China</td>\n",
       "      <td>1/22/2020 17:00</td>\n",
       "      <td>6.0</td>\n",
       "      <td>0.0</td>\n",
       "      <td>0.0</td>\n",
       "    </tr>\n",
       "    <tr>\n",
       "      <th>3</th>\n",
       "      <td>4</td>\n",
       "      <td>01/22/2020</td>\n",
       "      <td>Fujian</td>\n",
       "      <td>Mainland China</td>\n",
       "      <td>1/22/2020 17:00</td>\n",
       "      <td>1.0</td>\n",
       "      <td>0.0</td>\n",
       "      <td>0.0</td>\n",
       "    </tr>\n",
       "    <tr>\n",
       "      <th>4</th>\n",
       "      <td>5</td>\n",
       "      <td>01/22/2020</td>\n",
       "      <td>Gansu</td>\n",
       "      <td>Mainland China</td>\n",
       "      <td>1/22/2020 17:00</td>\n",
       "      <td>0.0</td>\n",
       "      <td>0.0</td>\n",
       "      <td>0.0</td>\n",
       "    </tr>\n",
       "  </tbody>\n",
       "</table>\n",
       "</div>"
      ],
      "text/plain": [
       "   SNo        Date Province/State         Country      Last Update  Confirmed  \\\n",
       "0    1  01/22/2020          Anhui  Mainland China  1/22/2020 17:00        1.0   \n",
       "1    2  01/22/2020        Beijing  Mainland China  1/22/2020 17:00       14.0   \n",
       "2    3  01/22/2020      Chongqing  Mainland China  1/22/2020 17:00        6.0   \n",
       "3    4  01/22/2020         Fujian  Mainland China  1/22/2020 17:00        1.0   \n",
       "4    5  01/22/2020          Gansu  Mainland China  1/22/2020 17:00        0.0   \n",
       "\n",
       "   Deaths  Recovered  \n",
       "0     0.0        0.0  \n",
       "1     0.0        0.0  \n",
       "2     0.0        0.0  \n",
       "3     0.0        0.0  \n",
       "4     0.0        0.0  "
      ]
     },
     "execution_count": 8,
     "metadata": {},
     "output_type": "execute_result"
    }
   ],
   "source": [
    "df = df.rename(columns={'Country/Region':'Country'})\n",
    "df = df.rename(columns={'ObservationDate':'Date'})\n",
    "df.head()"
   ]
  },
  {
   "cell_type": "code",
   "execution_count": 9,
   "metadata": {},
   "outputs": [
    {
     "data": {
      "text/html": [
       "<div>\n",
       "<style scoped>\n",
       "    .dataframe tbody tr th:only-of-type {\n",
       "        vertical-align: middle;\n",
       "    }\n",
       "\n",
       "    .dataframe tbody tr th {\n",
       "        vertical-align: top;\n",
       "    }\n",
       "\n",
       "    .dataframe thead th {\n",
       "        text-align: right;\n",
       "    }\n",
       "</style>\n",
       "<table border=\"1\" class=\"dataframe\">\n",
       "  <thead>\n",
       "    <tr style=\"text-align: right;\">\n",
       "      <th></th>\n",
       "      <th>Date</th>\n",
       "      <th>Country</th>\n",
       "      <th>SNo</th>\n",
       "      <th>Confirmed</th>\n",
       "      <th>Deaths</th>\n",
       "      <th>Recovered</th>\n",
       "    </tr>\n",
       "  </thead>\n",
       "  <tbody>\n",
       "    <tr>\n",
       "      <th>0</th>\n",
       "      <td>01/22/2020</td>\n",
       "      <td>Japan</td>\n",
       "      <td>36</td>\n",
       "      <td>2.0</td>\n",
       "      <td>0.0</td>\n",
       "      <td>0.0</td>\n",
       "    </tr>\n",
       "    <tr>\n",
       "      <th>1</th>\n",
       "      <td>01/22/2020</td>\n",
       "      <td>Macau</td>\n",
       "      <td>21</td>\n",
       "      <td>1.0</td>\n",
       "      <td>0.0</td>\n",
       "      <td>0.0</td>\n",
       "    </tr>\n",
       "    <tr>\n",
       "      <th>2</th>\n",
       "      <td>01/22/2020</td>\n",
       "      <td>Mainland China</td>\n",
       "      <td>373</td>\n",
       "      <td>547.0</td>\n",
       "      <td>17.0</td>\n",
       "      <td>28.0</td>\n",
       "    </tr>\n",
       "    <tr>\n",
       "      <th>3</th>\n",
       "      <td>01/22/2020</td>\n",
       "      <td>South Korea</td>\n",
       "      <td>38</td>\n",
       "      <td>1.0</td>\n",
       "      <td>0.0</td>\n",
       "      <td>0.0</td>\n",
       "    </tr>\n",
       "    <tr>\n",
       "      <th>4</th>\n",
       "      <td>01/22/2020</td>\n",
       "      <td>Taiwan</td>\n",
       "      <td>29</td>\n",
       "      <td>1.0</td>\n",
       "      <td>0.0</td>\n",
       "      <td>0.0</td>\n",
       "    </tr>\n",
       "  </tbody>\n",
       "</table>\n",
       "</div>"
      ],
      "text/plain": [
       "         Date         Country  SNo  Confirmed  Deaths  Recovered\n",
       "0  01/22/2020           Japan   36        2.0     0.0        0.0\n",
       "1  01/22/2020           Macau   21        1.0     0.0        0.0\n",
       "2  01/22/2020  Mainland China  373      547.0    17.0       28.0\n",
       "3  01/22/2020     South Korea   38        1.0     0.0        0.0\n",
       "4  01/22/2020          Taiwan   29        1.0     0.0        0.0"
      ]
     },
     "execution_count": 9,
     "metadata": {},
     "output_type": "execute_result"
    }
   ],
   "source": [
    "df_countrydate = df[df['Confirmed']>0]\n",
    "df_countrydate = df_countrydate.groupby(['Date','Country']).sum().reset_index()\n",
    "df_countrydate.head()"
   ]
  },
  {
   "cell_type": "code",
   "execution_count": 10,
   "metadata": {},
   "outputs": [
    {
     "data": {
      "application/vnd.plotly.v1+json": {
       "config": {
        "plotlyServerURL": "https://plot.ly"
       },
       "data": [
        {
         "coloraxis": "coloraxis",
         "geo": "geo",
         "hoverlabel": {
          "namelength": 0
         },
         "hovertemplate": "<b>%{hovertext}</b><br><br>Date=01/22/2020<br>Country=%{location}<br>Confirmed=%{z}",
         "hovertext": [
          "Japan",
          "Macau",
          "Mainland China",
          "South Korea",
          "Taiwan",
          "Thailand",
          "US"
         ],
         "locationmode": "country names",
         "locations": [
          "Japan",
          "Macau",
          "Mainland China",
          "South Korea",
          "Taiwan",
          "Thailand",
          "US"
         ],
         "name": "",
         "type": "choropleth",
         "z": [
          2,
          1,
          547,
          1,
          1,
          2,
          1
         ]
        }
       ],
       "frames": [
        {
         "data": [
          {
           "coloraxis": "coloraxis",
           "geo": "geo",
           "hoverlabel": {
            "namelength": 0
           },
           "hovertemplate": "<b>%{hovertext}</b><br><br>Date=01/22/2020<br>Country=%{location}<br>Confirmed=%{z}",
           "hovertext": [
            "Japan",
            "Macau",
            "Mainland China",
            "South Korea",
            "Taiwan",
            "Thailand",
            "US"
           ],
           "locationmode": "country names",
           "locations": [
            "Japan",
            "Macau",
            "Mainland China",
            "South Korea",
            "Taiwan",
            "Thailand",
            "US"
           ],
           "name": "",
           "type": "choropleth",
           "z": [
            2,
            1,
            547,
            1,
            1,
            2,
            1
           ]
          }
         ],
         "name": "01/22/2020"
        },
        {
         "data": [
          {
           "coloraxis": "coloraxis",
           "geo": "geo",
           "hoverlabel": {
            "namelength": 0
           },
           "hovertemplate": "<b>%{hovertext}</b><br><br>Date=01/23/2020<br>Country=%{location}<br>Confirmed=%{z}",
           "hovertext": [
            "Hong Kong",
            "Japan",
            "Macau",
            "Mainland China",
            "Singapore",
            "South Korea",
            "Taiwan",
            "Thailand",
            "US",
            "Vietnam"
           ],
           "locationmode": "country names",
           "locations": [
            "Hong Kong",
            "Japan",
            "Macau",
            "Mainland China",
            "Singapore",
            "South Korea",
            "Taiwan",
            "Thailand",
            "US",
            "Vietnam"
           ],
           "name": "",
           "type": "choropleth",
           "z": [
            2,
            1,
            2,
            639,
            1,
            1,
            1,
            3,
            1,
            2
           ]
          }
         ],
         "name": "01/23/2020"
        },
        {
         "data": [
          {
           "coloraxis": "coloraxis",
           "geo": "geo",
           "hoverlabel": {
            "namelength": 0
           },
           "hovertemplate": "<b>%{hovertext}</b><br><br>Date=01/24/2020<br>Country=%{location}<br>Confirmed=%{z}",
           "hovertext": [
            "France",
            "Hong Kong",
            "Japan",
            "Macau",
            "Mainland China",
            "Singapore",
            "South Korea",
            "Taiwan",
            "Thailand",
            "US",
            "Vietnam"
           ],
           "locationmode": "country names",
           "locations": [
            "France",
            "Hong Kong",
            "Japan",
            "Macau",
            "Mainland China",
            "Singapore",
            "South Korea",
            "Taiwan",
            "Thailand",
            "US",
            "Vietnam"
           ],
           "name": "",
           "type": "choropleth",
           "z": [
            2,
            2,
            2,
            2,
            916,
            3,
            2,
            3,
            5,
            2,
            2
           ]
          }
         ],
         "name": "01/24/2020"
        },
        {
         "data": [
          {
           "coloraxis": "coloraxis",
           "geo": "geo",
           "hoverlabel": {
            "namelength": 0
           },
           "hovertemplate": "<b>%{hovertext}</b><br><br>Date=01/25/2020<br>Country=%{location}<br>Confirmed=%{z}",
           "hovertext": [
            "Australia",
            "France",
            "Hong Kong",
            "Japan",
            "Macau",
            "Mainland China",
            "Malaysia",
            "Nepal",
            "Singapore",
            "South Korea",
            "Taiwan",
            "Thailand",
            "US",
            "Vietnam"
           ],
           "locationmode": "country names",
           "locations": [
            "Australia",
            "France",
            "Hong Kong",
            "Japan",
            "Macau",
            "Mainland China",
            "Malaysia",
            "Nepal",
            "Singapore",
            "South Korea",
            "Taiwan",
            "Thailand",
            "US",
            "Vietnam"
           ],
           "name": "",
           "type": "choropleth",
           "z": [
            4,
            3,
            5,
            2,
            2,
            1399,
            3,
            1,
            3,
            2,
            3,
            7,
            2,
            2
           ]
          }
         ],
         "name": "01/25/2020"
        },
        {
         "data": [
          {
           "coloraxis": "coloraxis",
           "geo": "geo",
           "hoverlabel": {
            "namelength": 0
           },
           "hovertemplate": "<b>%{hovertext}</b><br><br>Date=01/26/2020<br>Country=%{location}<br>Confirmed=%{z}",
           "hovertext": [
            "Australia",
            "Canada",
            "France",
            "Hong Kong",
            "Japan",
            "Macau",
            "Mainland China",
            "Malaysia",
            "Nepal",
            "Singapore",
            "South Korea",
            "Taiwan",
            "Thailand",
            "US",
            "Vietnam"
           ],
           "locationmode": "country names",
           "locations": [
            "Australia",
            "Canada",
            "France",
            "Hong Kong",
            "Japan",
            "Macau",
            "Mainland China",
            "Malaysia",
            "Nepal",
            "Singapore",
            "South Korea",
            "Taiwan",
            "Thailand",
            "US",
            "Vietnam"
           ],
           "name": "",
           "type": "choropleth",
           "z": [
            4,
            1,
            3,
            8,
            4,
            5,
            2062,
            4,
            1,
            4,
            3,
            4,
            8,
            5,
            2
           ]
          }
         ],
         "name": "01/26/2020"
        },
        {
         "data": [
          {
           "coloraxis": "coloraxis",
           "geo": "geo",
           "hoverlabel": {
            "namelength": 0
           },
           "hovertemplate": "<b>%{hovertext}</b><br><br>Date=01/27/2020<br>Country=%{location}<br>Confirmed=%{z}",
           "hovertext": [
            "Australia",
            "Cambodia",
            "Canada",
            "France",
            "Hong Kong",
            "Ivory Coast",
            "Japan",
            "Macau",
            "Mainland China",
            "Malaysia",
            "Nepal",
            "Singapore",
            "South Korea",
            "Sri Lanka",
            "Taiwan",
            "Thailand",
            "US",
            "Vietnam"
           ],
           "locationmode": "country names",
           "locations": [
            "Australia",
            "Cambodia",
            "Canada",
            "France",
            "Hong Kong",
            "Ivory Coast",
            "Japan",
            "Macau",
            "Mainland China",
            "Malaysia",
            "Nepal",
            "Singapore",
            "South Korea",
            "Sri Lanka",
            "Taiwan",
            "Thailand",
            "US",
            "Vietnam"
           ],
           "name": "",
           "type": "choropleth",
           "z": [
            5,
            1,
            1,
            3,
            8,
            1,
            4,
            6,
            2863,
            4,
            1,
            5,
            4,
            1,
            5,
            8,
            5,
            2
           ]
          }
         ],
         "name": "01/27/2020"
        },
        {
         "data": [
          {
           "coloraxis": "coloraxis",
           "geo": "geo",
           "hoverlabel": {
            "namelength": 0
           },
           "hovertemplate": "<b>%{hovertext}</b><br><br>Date=01/28/2020<br>Country=%{location}<br>Confirmed=%{z}",
           "hovertext": [
            "Australia",
            "Cambodia",
            "Canada",
            "France",
            "Germany",
            "Hong Kong",
            "Japan",
            "Macau",
            "Mainland China",
            "Malaysia",
            "Nepal",
            "Singapore",
            "South Korea",
            "Sri Lanka",
            "Taiwan",
            "Thailand",
            "US",
            "Vietnam"
           ],
           "locationmode": "country names",
           "locations": [
            "Australia",
            "Cambodia",
            "Canada",
            "France",
            "Germany",
            "Hong Kong",
            "Japan",
            "Macau",
            "Mainland China",
            "Malaysia",
            "Nepal",
            "Singapore",
            "South Korea",
            "Sri Lanka",
            "Taiwan",
            "Thailand",
            "US",
            "Vietnam"
           ],
           "name": "",
           "type": "choropleth",
           "z": [
            5,
            1,
            2,
            4,
            4,
            8,
            7,
            7,
            5494,
            4,
            1,
            7,
            4,
            1,
            8,
            14,
            5,
            2
           ]
          }
         ],
         "name": "01/28/2020"
        },
        {
         "data": [
          {
           "coloraxis": "coloraxis",
           "geo": "geo",
           "hoverlabel": {
            "namelength": 0
           },
           "hovertemplate": "<b>%{hovertext}</b><br><br>Date=01/29/2020<br>Country=%{location}<br>Confirmed=%{z}",
           "hovertext": [
            "Australia",
            "Cambodia",
            "Canada",
            "Finland",
            "France",
            "Germany",
            "Hong Kong",
            "Japan",
            "Macau",
            "Mainland China",
            "Malaysia",
            "Nepal",
            "Singapore",
            "South Korea",
            "Sri Lanka",
            "Taiwan",
            "Thailand",
            "US",
            "United Arab Emirates",
            "Vietnam"
           ],
           "locationmode": "country names",
           "locations": [
            "Australia",
            "Cambodia",
            "Canada",
            "Finland",
            "France",
            "Germany",
            "Hong Kong",
            "Japan",
            "Macau",
            "Mainland China",
            "Malaysia",
            "Nepal",
            "Singapore",
            "South Korea",
            "Sri Lanka",
            "Taiwan",
            "Thailand",
            "US",
            "United Arab Emirates",
            "Vietnam"
           ],
           "name": "",
           "type": "choropleth",
           "z": [
            5,
            1,
            2,
            1,
            5,
            4,
            10,
            7,
            7,
            6070,
            7,
            1,
            7,
            4,
            1,
            8,
            14,
            5,
            4,
            2
           ]
          }
         ],
         "name": "01/29/2020"
        },
        {
         "data": [
          {
           "coloraxis": "coloraxis",
           "geo": "geo",
           "hoverlabel": {
            "namelength": 0
           },
           "hovertemplate": "<b>%{hovertext}</b><br><br>Date=01/30/2020<br>Country=%{location}<br>Confirmed=%{z}",
           "hovertext": [
            "Australia",
            "Cambodia",
            "Canada",
            "Finland",
            "France",
            "Germany",
            "Hong Kong",
            "India",
            "Japan",
            "Macau",
            "Mainland China",
            "Malaysia",
            "Nepal",
            "Philippines",
            "Singapore",
            "South Korea",
            "Sri Lanka",
            "Taiwan",
            "Thailand",
            "US",
            "United Arab Emirates",
            "Vietnam"
           ],
           "locationmode": "country names",
           "locations": [
            "Australia",
            "Cambodia",
            "Canada",
            "Finland",
            "France",
            "Germany",
            "Hong Kong",
            "India",
            "Japan",
            "Macau",
            "Mainland China",
            "Malaysia",
            "Nepal",
            "Philippines",
            "Singapore",
            "South Korea",
            "Sri Lanka",
            "Taiwan",
            "Thailand",
            "US",
            "United Arab Emirates",
            "Vietnam"
           ],
           "name": "",
           "type": "choropleth",
           "z": [
            9,
            1,
            3,
            1,
            5,
            4,
            10,
            1,
            11,
            7,
            8124,
            8,
            1,
            1,
            10,
            4,
            1,
            9,
            14,
            5,
            4,
            2
           ]
          }
         ],
         "name": "01/30/2020"
        },
        {
         "data": [
          {
           "coloraxis": "coloraxis",
           "geo": "geo",
           "hoverlabel": {
            "namelength": 0
           },
           "hovertemplate": "<b>%{hovertext}</b><br><br>Date=01/31/2020<br>Country=%{location}<br>Confirmed=%{z}",
           "hovertext": [
            "Australia",
            "Cambodia",
            "Canada",
            "Finland",
            "France",
            "Germany",
            "Hong Kong",
            "India",
            "Italy",
            "Japan",
            "Macau",
            "Mainland China",
            "Malaysia",
            "Nepal",
            "Philippines",
            "Russia",
            "Singapore",
            "South Korea",
            "Sri Lanka",
            "Sweden",
            "Taiwan",
            "Thailand",
            "UK",
            "US",
            "United Arab Emirates",
            "Vietnam"
           ],
           "locationmode": "country names",
           "locations": [
            "Australia",
            "Cambodia",
            "Canada",
            "Finland",
            "France",
            "Germany",
            "Hong Kong",
            "India",
            "Italy",
            "Japan",
            "Macau",
            "Mainland China",
            "Malaysia",
            "Nepal",
            "Philippines",
            "Russia",
            "Singapore",
            "South Korea",
            "Sri Lanka",
            "Sweden",
            "Taiwan",
            "Thailand",
            "UK",
            "US",
            "United Arab Emirates",
            "Vietnam"
           ],
           "name": "",
           "type": "choropleth",
           "z": [
            9,
            1,
            3,
            1,
            5,
            5,
            12,
            1,
            2,
            15,
            7,
            9783,
            8,
            1,
            1,
            2,
            13,
            11,
            1,
            1,
            10,
            19,
            2,
            6,
            4,
            2
           ]
          }
         ],
         "name": "01/31/2020"
        },
        {
         "data": [
          {
           "coloraxis": "coloraxis",
           "geo": "geo",
           "hoverlabel": {
            "namelength": 0
           },
           "hovertemplate": "<b>%{hovertext}</b><br><br>Date=02/01/2020<br>Country=%{location}<br>Confirmed=%{z}",
           "hovertext": [
            "Australia",
            "Cambodia",
            "Canada",
            "Finland",
            "France",
            "Germany",
            "Hong Kong",
            "India",
            "Italy",
            "Japan",
            "Macau",
            "Mainland China",
            "Malaysia",
            "Nepal",
            "Philippines",
            "Russia",
            "Singapore",
            "South Korea",
            "Spain",
            "Sri Lanka",
            "Sweden",
            "Taiwan",
            "Thailand",
            "UK",
            "US",
            "United Arab Emirates",
            "Vietnam"
           ],
           "locationmode": "country names",
           "locations": [
            "Australia",
            "Cambodia",
            "Canada",
            "Finland",
            "France",
            "Germany",
            "Hong Kong",
            "India",
            "Italy",
            "Japan",
            "Macau",
            "Mainland China",
            "Malaysia",
            "Nepal",
            "Philippines",
            "Russia",
            "Singapore",
            "South Korea",
            "Spain",
            "Sri Lanka",
            "Sweden",
            "Taiwan",
            "Thailand",
            "UK",
            "US",
            "United Arab Emirates",
            "Vietnam"
           ],
           "name": "",
           "type": "choropleth",
           "z": [
            12,
            1,
            4,
            1,
            6,
            8,
            13,
            1,
            2,
            20,
            7,
            11871,
            8,
            1,
            1,
            2,
            16,
            12,
            1,
            1,
            1,
            10,
            19,
            2,
            8,
            4,
            6
           ]
          }
         ],
         "name": "02/01/2020"
        },
        {
         "data": [
          {
           "coloraxis": "coloraxis",
           "geo": "geo",
           "hoverlabel": {
            "namelength": 0
           },
           "hovertemplate": "<b>%{hovertext}</b><br><br>Date=02/02/2020<br>Country=%{location}<br>Confirmed=%{z}",
           "hovertext": [
            "Australia",
            "Cambodia",
            "Canada",
            "Finland",
            "France",
            "Germany",
            "Hong Kong",
            "India",
            "Italy",
            "Japan",
            "Macau",
            "Mainland China",
            "Malaysia",
            "Nepal",
            "Philippines",
            "Russia",
            "Singapore",
            "South Korea",
            "Spain",
            "Sri Lanka",
            "Sweden",
            "Taiwan",
            "Thailand",
            "UK",
            "US",
            "United Arab Emirates",
            "Vietnam"
           ],
           "locationmode": "country names",
           "locations": [
            "Australia",
            "Cambodia",
            "Canada",
            "Finland",
            "France",
            "Germany",
            "Hong Kong",
            "India",
            "Italy",
            "Japan",
            "Macau",
            "Mainland China",
            "Malaysia",
            "Nepal",
            "Philippines",
            "Russia",
            "Singapore",
            "South Korea",
            "Spain",
            "Sri Lanka",
            "Sweden",
            "Taiwan",
            "Thailand",
            "UK",
            "US",
            "United Arab Emirates",
            "Vietnam"
           ],
           "name": "",
           "type": "choropleth",
           "z": [
            12,
            1,
            4,
            1,
            6,
            10,
            15,
            2,
            2,
            20,
            8,
            16607,
            8,
            1,
            2,
            2,
            18,
            15,
            1,
            1,
            1,
            10,
            19,
            2,
            8,
            5,
            6
           ]
          }
         ],
         "name": "02/02/2020"
        },
        {
         "data": [
          {
           "coloraxis": "coloraxis",
           "geo": "geo",
           "hoverlabel": {
            "namelength": 0
           },
           "hovertemplate": "<b>%{hovertext}</b><br><br>Date=02/03/2020<br>Country=%{location}<br>Confirmed=%{z}",
           "hovertext": [
            "Australia",
            "Cambodia",
            "Canada",
            "Finland",
            "France",
            "Germany",
            "Hong Kong",
            "India",
            "Italy",
            "Japan",
            "Macau",
            "Mainland China",
            "Malaysia",
            "Nepal",
            "Philippines",
            "Russia",
            "Singapore",
            "South Korea",
            "Spain",
            "Sri Lanka",
            "Sweden",
            "Taiwan",
            "Thailand",
            "UK",
            "US",
            "United Arab Emirates",
            "Vietnam"
           ],
           "locationmode": "country names",
           "locations": [
            "Australia",
            "Cambodia",
            "Canada",
            "Finland",
            "France",
            "Germany",
            "Hong Kong",
            "India",
            "Italy",
            "Japan",
            "Macau",
            "Mainland China",
            "Malaysia",
            "Nepal",
            "Philippines",
            "Russia",
            "Singapore",
            "South Korea",
            "Spain",
            "Sri Lanka",
            "Sweden",
            "Taiwan",
            "Thailand",
            "UK",
            "US",
            "United Arab Emirates",
            "Vietnam"
           ],
           "name": "",
           "type": "choropleth",
           "z": [
            12,
            1,
            4,
            1,
            6,
            12,
            15,
            3,
            2,
            20,
            8,
            19693,
            8,
            1,
            2,
            2,
            18,
            15,
            1,
            1,
            1,
            10,
            19,
            2,
            11,
            5,
            8
           ]
          }
         ],
         "name": "02/03/2020"
        },
        {
         "data": [
          {
           "coloraxis": "coloraxis",
           "geo": "geo",
           "hoverlabel": {
            "namelength": 0
           },
           "hovertemplate": "<b>%{hovertext}</b><br><br>Date=02/04/2020<br>Country=%{location}<br>Confirmed=%{z}",
           "hovertext": [
            "Australia",
            "Belgium",
            "Cambodia",
            "Canada",
            "Finland",
            "France",
            "Germany",
            "Hong Kong",
            "India",
            "Italy",
            "Japan",
            "Macau",
            "Mainland China",
            "Malaysia",
            "Nepal",
            "Philippines",
            "Russia",
            "Singapore",
            "South Korea",
            "Spain",
            "Sri Lanka",
            "Sweden",
            "Taiwan",
            "Thailand",
            "UK",
            "US",
            "United Arab Emirates",
            "Vietnam"
           ],
           "locationmode": "country names",
           "locations": [
            "Australia",
            "Belgium",
            "Cambodia",
            "Canada",
            "Finland",
            "France",
            "Germany",
            "Hong Kong",
            "India",
            "Italy",
            "Japan",
            "Macau",
            "Mainland China",
            "Malaysia",
            "Nepal",
            "Philippines",
            "Russia",
            "Singapore",
            "South Korea",
            "Spain",
            "Sri Lanka",
            "Sweden",
            "Taiwan",
            "Thailand",
            "UK",
            "US",
            "United Arab Emirates",
            "Vietnam"
           ],
           "name": "",
           "type": "choropleth",
           "z": [
            13,
            1,
            1,
            4,
            1,
            6,
            12,
            17,
            3,
            2,
            22,
            10,
            23680,
            10,
            1,
            2,
            2,
            24,
            16,
            1,
            1,
            1,
            11,
            25,
            2,
            11,
            5,
            8
           ]
          }
         ],
         "name": "02/04/2020"
        },
        {
         "data": [
          {
           "coloraxis": "coloraxis",
           "geo": "geo",
           "hoverlabel": {
            "namelength": 0
           },
           "hovertemplate": "<b>%{hovertext}</b><br><br>Date=02/05/2020<br>Country=%{location}<br>Confirmed=%{z}",
           "hovertext": [
            "Australia",
            "Belgium",
            "Cambodia",
            "Canada",
            "Finland",
            "France",
            "Germany",
            "Hong Kong",
            "India",
            "Italy",
            "Japan",
            "Macau",
            "Mainland China",
            "Malaysia",
            "Nepal",
            "Philippines",
            "Russia",
            "Singapore",
            "South Korea",
            "Spain",
            "Sri Lanka",
            "Sweden",
            "Taiwan",
            "Thailand",
            "UK",
            "US",
            "United Arab Emirates",
            "Vietnam"
           ],
           "locationmode": "country names",
           "locations": [
            "Australia",
            "Belgium",
            "Cambodia",
            "Canada",
            "Finland",
            "France",
            "Germany",
            "Hong Kong",
            "India",
            "Italy",
            "Japan",
            "Macau",
            "Mainland China",
            "Malaysia",
            "Nepal",
            "Philippines",
            "Russia",
            "Singapore",
            "South Korea",
            "Spain",
            "Sri Lanka",
            "Sweden",
            "Taiwan",
            "Thailand",
            "UK",
            "US",
            "United Arab Emirates",
            "Vietnam"
           ],
           "name": "",
           "type": "choropleth",
           "z": [
            13,
            1,
            1,
            5,
            1,
            6,
            12,
            21,
            3,
            2,
            22,
            10,
            27409,
            12,
            1,
            2,
            2,
            28,
            19,
            1,
            1,
            1,
            11,
            25,
            2,
            12,
            5,
            8
           ]
          }
         ],
         "name": "02/05/2020"
        },
        {
         "data": [
          {
           "coloraxis": "coloraxis",
           "geo": "geo",
           "hoverlabel": {
            "namelength": 0
           },
           "hovertemplate": "<b>%{hovertext}</b><br><br>Date=02/06/2020<br>Country=%{location}<br>Confirmed=%{z}",
           "hovertext": [
            "Australia",
            "Belgium",
            "Cambodia",
            "Canada",
            "Finland",
            "France",
            "Germany",
            "Hong Kong",
            "India",
            "Italy",
            "Japan",
            "Macau",
            "Mainland China",
            "Malaysia",
            "Nepal",
            "Philippines",
            "Russia",
            "Singapore",
            "South Korea",
            "Spain",
            "Sri Lanka",
            "Sweden",
            "Taiwan",
            "Thailand",
            "UK",
            "US",
            "United Arab Emirates",
            "Vietnam"
           ],
           "locationmode": "country names",
           "locations": [
            "Australia",
            "Belgium",
            "Cambodia",
            "Canada",
            "Finland",
            "France",
            "Germany",
            "Hong Kong",
            "India",
            "Italy",
            "Japan",
            "Macau",
            "Mainland China",
            "Malaysia",
            "Nepal",
            "Philippines",
            "Russia",
            "Singapore",
            "South Korea",
            "Spain",
            "Sri Lanka",
            "Sweden",
            "Taiwan",
            "Thailand",
            "UK",
            "US",
            "United Arab Emirates",
            "Vietnam"
           ],
           "name": "",
           "type": "choropleth",
           "z": [
            14,
            1,
            1,
            5,
            1,
            6,
            12,
            24,
            3,
            2,
            45,
            10,
            30553,
            12,
            1,
            2,
            2,
            28,
            23,
            1,
            1,
            1,
            16,
            25,
            2,
            12,
            5,
            10
           ]
          }
         ],
         "name": "02/06/2020"
        },
        {
         "data": [
          {
           "coloraxis": "coloraxis",
           "geo": "geo",
           "hoverlabel": {
            "namelength": 0
           },
           "hovertemplate": "<b>%{hovertext}</b><br><br>Date=02/07/2020<br>Country=%{location}<br>Confirmed=%{z}",
           "hovertext": [
            "Australia",
            "Belgium",
            "Cambodia",
            "Canada",
            "Finland",
            "France",
            "Germany",
            "Hong Kong",
            "India",
            "Italy",
            "Japan",
            "Macau",
            "Mainland China",
            "Malaysia",
            "Nepal",
            "Others",
            "Philippines",
            "Russia",
            "Singapore",
            "South Korea",
            "Spain",
            "Sri Lanka",
            "Sweden",
            "Taiwan",
            "Thailand",
            "UK",
            "US",
            "United Arab Emirates",
            "Vietnam"
           ],
           "locationmode": "country names",
           "locations": [
            "Australia",
            "Belgium",
            "Cambodia",
            "Canada",
            "Finland",
            "France",
            "Germany",
            "Hong Kong",
            "India",
            "Italy",
            "Japan",
            "Macau",
            "Mainland China",
            "Malaysia",
            "Nepal",
            "Others",
            "Philippines",
            "Russia",
            "Singapore",
            "South Korea",
            "Spain",
            "Sri Lanka",
            "Sweden",
            "Taiwan",
            "Thailand",
            "UK",
            "US",
            "United Arab Emirates",
            "Vietnam"
           ],
           "name": "",
           "type": "choropleth",
           "z": [
            15,
            1,
            1,
            7,
            1,
            6,
            13,
            25,
            3,
            3,
            25,
            10,
            34075,
            12,
            1,
            61,
            3,
            2,
            30,
            24,
            1,
            1,
            1,
            16,
            25,
            3,
            12,
            5,
            10
           ]
          }
         ],
         "name": "02/07/2020"
        },
        {
         "data": [
          {
           "coloraxis": "coloraxis",
           "geo": "geo",
           "hoverlabel": {
            "namelength": 0
           },
           "hovertemplate": "<b>%{hovertext}</b><br><br>Date=02/08/2020<br>Country=%{location}<br>Confirmed=%{z}",
           "hovertext": [
            "Australia",
            "Belgium",
            "Cambodia",
            "Canada",
            "Finland",
            "France",
            "Germany",
            "Hong Kong",
            "India",
            "Italy",
            "Japan",
            "Macau",
            "Mainland China",
            "Malaysia",
            "Nepal",
            "Others",
            "Philippines",
            "Russia",
            "Singapore",
            "South Korea",
            "Spain",
            "Sri Lanka",
            "Sweden",
            "Taiwan",
            "Thailand",
            "UK",
            "US",
            "United Arab Emirates",
            "Vietnam"
           ],
           "locationmode": "country names",
           "locations": [
            "Australia",
            "Belgium",
            "Cambodia",
            "Canada",
            "Finland",
            "France",
            "Germany",
            "Hong Kong",
            "India",
            "Italy",
            "Japan",
            "Macau",
            "Mainland China",
            "Malaysia",
            "Nepal",
            "Others",
            "Philippines",
            "Russia",
            "Singapore",
            "South Korea",
            "Spain",
            "Sri Lanka",
            "Sweden",
            "Taiwan",
            "Thailand",
            "UK",
            "US",
            "United Arab Emirates",
            "Vietnam"
           ],
           "name": "",
           "type": "choropleth",
           "z": [
            15,
            1,
            1,
            7,
            1,
            11,
            13,
            26,
            3,
            3,
            25,
            10,
            36778,
            16,
            1,
            61,
            3,
            2,
            33,
            24,
            1,
            1,
            1,
            17,
            32,
            3,
            12,
            7,
            13
           ]
          }
         ],
         "name": "02/08/2020"
        },
        {
         "data": [
          {
           "coloraxis": "coloraxis",
           "geo": "geo",
           "hoverlabel": {
            "namelength": 0
           },
           "hovertemplate": "<b>%{hovertext}</b><br><br>Date=02/09/2020<br>Country=%{location}<br>Confirmed=%{z}",
           "hovertext": [
            "Australia",
            "Belgium",
            "Cambodia",
            "Canada",
            "Finland",
            "France",
            "Germany",
            "Hong Kong",
            "India",
            "Italy",
            "Japan",
            "Macau",
            "Mainland China",
            "Malaysia",
            "Nepal",
            "Others",
            "Philippines",
            "Russia",
            "Singapore",
            "South Korea",
            "Spain",
            "Sri Lanka",
            "Sweden",
            "Taiwan",
            "Thailand",
            "UK",
            "US",
            "United Arab Emirates",
            "Vietnam"
           ],
           "locationmode": "country names",
           "locations": [
            "Australia",
            "Belgium",
            "Cambodia",
            "Canada",
            "Finland",
            "France",
            "Germany",
            "Hong Kong",
            "India",
            "Italy",
            "Japan",
            "Macau",
            "Mainland China",
            "Malaysia",
            "Nepal",
            "Others",
            "Philippines",
            "Russia",
            "Singapore",
            "South Korea",
            "Spain",
            "Sri Lanka",
            "Sweden",
            "Taiwan",
            "Thailand",
            "UK",
            "US",
            "United Arab Emirates",
            "Vietnam"
           ],
           "name": "",
           "type": "choropleth",
           "z": [
            15,
            1,
            1,
            7,
            1,
            11,
            14,
            29,
            3,
            3,
            26,
            10,
            39790,
            16,
            1,
            64,
            3,
            2,
            40,
            25,
            2,
            1,
            1,
            18,
            32,
            3,
            12,
            7,
            13
           ]
          }
         ],
         "name": "02/09/2020"
        },
        {
         "data": [
          {
           "coloraxis": "coloraxis",
           "geo": "geo",
           "hoverlabel": {
            "namelength": 0
           },
           "hovertemplate": "<b>%{hovertext}</b><br><br>Date=02/10/2020<br>Country=%{location}<br>Confirmed=%{z}",
           "hovertext": [
            "Australia",
            "Belgium",
            "Cambodia",
            "Canada",
            "Finland",
            "France",
            "Germany",
            "Hong Kong",
            "India",
            "Italy",
            "Japan",
            "Macau",
            "Mainland China",
            "Malaysia",
            "Nepal",
            "Others",
            "Philippines",
            "Russia",
            "Singapore",
            "South Korea",
            "Spain",
            "Sri Lanka",
            "Sweden",
            "Taiwan",
            "Thailand",
            "UK",
            "US",
            "United Arab Emirates",
            "Vietnam"
           ],
           "locationmode": "country names",
           "locations": [
            "Australia",
            "Belgium",
            "Cambodia",
            "Canada",
            "Finland",
            "France",
            "Germany",
            "Hong Kong",
            "India",
            "Italy",
            "Japan",
            "Macau",
            "Mainland China",
            "Malaysia",
            "Nepal",
            "Others",
            "Philippines",
            "Russia",
            "Singapore",
            "South Korea",
            "Spain",
            "Sri Lanka",
            "Sweden",
            "Taiwan",
            "Thailand",
            "UK",
            "US",
            "United Arab Emirates",
            "Vietnam"
           ],
           "name": "",
           "type": "choropleth",
           "z": [
            15,
            1,
            1,
            7,
            1,
            11,
            14,
            38,
            3,
            3,
            26,
            10,
            42306,
            18,
            1,
            135,
            3,
            2,
            45,
            27,
            2,
            1,
            1,
            18,
            32,
            8,
            12,
            8,
            14
           ]
          }
         ],
         "name": "02/10/2020"
        },
        {
         "data": [
          {
           "coloraxis": "coloraxis",
           "geo": "geo",
           "hoverlabel": {
            "namelength": 0
           },
           "hovertemplate": "<b>%{hovertext}</b><br><br>Date=02/11/2020<br>Country=%{location}<br>Confirmed=%{z}",
           "hovertext": [
            "Australia",
            "Belgium",
            "Cambodia",
            "Canada",
            "Finland",
            "France",
            "Germany",
            "Hong Kong",
            "India",
            "Italy",
            "Japan",
            "Macau",
            "Mainland China",
            "Malaysia",
            "Nepal",
            "Others",
            "Philippines",
            "Russia",
            "Singapore",
            "South Korea",
            "Spain",
            "Sri Lanka",
            "Sweden",
            "Taiwan",
            "Thailand",
            "UK",
            "US",
            "United Arab Emirates",
            "Vietnam"
           ],
           "locationmode": "country names",
           "locations": [
            "Australia",
            "Belgium",
            "Cambodia",
            "Canada",
            "Finland",
            "France",
            "Germany",
            "Hong Kong",
            "India",
            "Italy",
            "Japan",
            "Macau",
            "Mainland China",
            "Malaysia",
            "Nepal",
            "Others",
            "Philippines",
            "Russia",
            "Singapore",
            "South Korea",
            "Spain",
            "Sri Lanka",
            "Sweden",
            "Taiwan",
            "Thailand",
            "UK",
            "US",
            "United Arab Emirates",
            "Vietnam"
           ],
           "name": "",
           "type": "choropleth",
           "z": [
            15,
            1,
            1,
            7,
            1,
            11,
            16,
            49,
            3,
            3,
            26,
            10,
            44327,
            18,
            1,
            135,
            3,
            2,
            47,
            28,
            2,
            1,
            1,
            18,
            33,
            8,
            13,
            8,
            15
           ]
          }
         ],
         "name": "02/11/2020"
        },
        {
         "data": [
          {
           "coloraxis": "coloraxis",
           "geo": "geo",
           "hoverlabel": {
            "namelength": 0
           },
           "hovertemplate": "<b>%{hovertext}</b><br><br>Date=02/12/2020<br>Country=%{location}<br>Confirmed=%{z}",
           "hovertext": [
            "Australia",
            "Belgium",
            "Cambodia",
            "Canada",
            "Finland",
            "France",
            "Germany",
            "Hong Kong",
            "India",
            "Italy",
            "Japan",
            "Macau",
            "Mainland China",
            "Malaysia",
            "Nepal",
            "Others",
            "Philippines",
            "Russia",
            "Singapore",
            "South Korea",
            "Spain",
            "Sri Lanka",
            "Sweden",
            "Taiwan",
            "Thailand",
            "UK",
            "US",
            "United Arab Emirates",
            "Vietnam"
           ],
           "locationmode": "country names",
           "locations": [
            "Australia",
            "Belgium",
            "Cambodia",
            "Canada",
            "Finland",
            "France",
            "Germany",
            "Hong Kong",
            "India",
            "Italy",
            "Japan",
            "Macau",
            "Mainland China",
            "Malaysia",
            "Nepal",
            "Others",
            "Philippines",
            "Russia",
            "Singapore",
            "South Korea",
            "Spain",
            "Sri Lanka",
            "Sweden",
            "Taiwan",
            "Thailand",
            "UK",
            "US",
            "United Arab Emirates",
            "Vietnam"
           ],
           "name": "",
           "type": "choropleth",
           "z": [
            15,
            1,
            1,
            7,
            1,
            11,
            16,
            50,
            3,
            3,
            28,
            10,
            44699,
            18,
            1,
            175,
            3,
            2,
            50,
            28,
            2,
            1,
            1,
            18,
            33,
            9,
            13,
            8,
            15
           ]
          }
         ],
         "name": "02/12/2020"
        },
        {
         "data": [
          {
           "coloraxis": "coloraxis",
           "geo": "geo",
           "hoverlabel": {
            "namelength": 0
           },
           "hovertemplate": "<b>%{hovertext}</b><br><br>Date=02/13/2020<br>Country=%{location}<br>Confirmed=%{z}",
           "hovertext": [
            "Australia",
            "Belgium",
            "Cambodia",
            "Canada",
            "Finland",
            "France",
            "Germany",
            "Hong Kong",
            "India",
            "Italy",
            "Japan",
            "Macau",
            "Mainland China",
            "Malaysia",
            "Nepal",
            "Others",
            "Philippines",
            "Russia",
            "Singapore",
            "South Korea",
            "Spain",
            "Sri Lanka",
            "Sweden",
            "Taiwan",
            "Thailand",
            "UK",
            "US",
            "United Arab Emirates",
            "Vietnam"
           ],
           "locationmode": "country names",
           "locations": [
            "Australia",
            "Belgium",
            "Cambodia",
            "Canada",
            "Finland",
            "France",
            "Germany",
            "Hong Kong",
            "India",
            "Italy",
            "Japan",
            "Macau",
            "Mainland China",
            "Malaysia",
            "Nepal",
            "Others",
            "Philippines",
            "Russia",
            "Singapore",
            "South Korea",
            "Spain",
            "Sri Lanka",
            "Sweden",
            "Taiwan",
            "Thailand",
            "UK",
            "US",
            "United Arab Emirates",
            "Vietnam"
           ],
           "name": "",
           "type": "choropleth",
           "z": [
            15,
            1,
            1,
            7,
            1,
            11,
            16,
            53,
            3,
            3,
            28,
            10,
            59832,
            19,
            1,
            175,
            3,
            2,
            58,
            28,
            2,
            1,
            1,
            18,
            33,
            9,
            15,
            8,
            16
           ]
          }
         ],
         "name": "02/13/2020"
        },
        {
         "data": [
          {
           "coloraxis": "coloraxis",
           "geo": "geo",
           "hoverlabel": {
            "namelength": 0
           },
           "hovertemplate": "<b>%{hovertext}</b><br><br>Date=02/14/2020<br>Country=%{location}<br>Confirmed=%{z}",
           "hovertext": [
            "Australia",
            "Belgium",
            "Cambodia",
            "Canada",
            "Egypt",
            "Finland",
            "France",
            "Germany",
            "Hong Kong",
            "India",
            "Italy",
            "Japan",
            "Macau",
            "Mainland China",
            "Malaysia",
            "Nepal",
            "Others",
            "Philippines",
            "Russia",
            "Singapore",
            "South Korea",
            "Spain",
            "Sri Lanka",
            "Sweden",
            "Taiwan",
            "Thailand",
            "UK",
            "US",
            "United Arab Emirates",
            "Vietnam"
           ],
           "locationmode": "country names",
           "locations": [
            "Australia",
            "Belgium",
            "Cambodia",
            "Canada",
            "Egypt",
            "Finland",
            "France",
            "Germany",
            "Hong Kong",
            "India",
            "Italy",
            "Japan",
            "Macau",
            "Mainland China",
            "Malaysia",
            "Nepal",
            "Others",
            "Philippines",
            "Russia",
            "Singapore",
            "South Korea",
            "Spain",
            "Sri Lanka",
            "Sweden",
            "Taiwan",
            "Thailand",
            "UK",
            "US",
            "United Arab Emirates",
            "Vietnam"
           ],
           "name": "",
           "type": "choropleth",
           "z": [
            15,
            1,
            1,
            7,
            1,
            1,
            11,
            16,
            56,
            3,
            3,
            29,
            10,
            66292,
            19,
            1,
            218,
            3,
            2,
            67,
            28,
            2,
            1,
            1,
            18,
            33,
            9,
            15,
            8,
            16
           ]
          }
         ],
         "name": "02/14/2020"
        },
        {
         "data": [
          {
           "coloraxis": "coloraxis",
           "geo": "geo",
           "hoverlabel": {
            "namelength": 0
           },
           "hovertemplate": "<b>%{hovertext}</b><br><br>Date=02/15/2020<br>Country=%{location}<br>Confirmed=%{z}",
           "hovertext": [
            "Australia",
            "Belgium",
            "Cambodia",
            "Canada",
            "Egypt",
            "Finland",
            "France",
            "Germany",
            "Hong Kong",
            "India",
            "Italy",
            "Japan",
            "Macau",
            "Mainland China",
            "Malaysia",
            "Nepal",
            "Others",
            "Philippines",
            "Russia",
            "Singapore",
            "South Korea",
            "Spain",
            "Sri Lanka",
            "Sweden",
            "Taiwan",
            "Thailand",
            "UK",
            "US",
            "United Arab Emirates",
            "Vietnam"
           ],
           "locationmode": "country names",
           "locations": [
            "Australia",
            "Belgium",
            "Cambodia",
            "Canada",
            "Egypt",
            "Finland",
            "France",
            "Germany",
            "Hong Kong",
            "India",
            "Italy",
            "Japan",
            "Macau",
            "Mainland China",
            "Malaysia",
            "Nepal",
            "Others",
            "Philippines",
            "Russia",
            "Singapore",
            "South Korea",
            "Spain",
            "Sri Lanka",
            "Sweden",
            "Taiwan",
            "Thailand",
            "UK",
            "US",
            "United Arab Emirates",
            "Vietnam"
           ],
           "name": "",
           "type": "choropleth",
           "z": [
            15,
            1,
            1,
            7,
            1,
            1,
            12,
            16,
            56,
            3,
            3,
            43,
            10,
            68347,
            22,
            1,
            285,
            3,
            2,
            72,
            28,
            2,
            1,
            1,
            18,
            33,
            9,
            15,
            8,
            16
           ]
          }
         ],
         "name": "02/15/2020"
        },
        {
         "data": [
          {
           "coloraxis": "coloraxis",
           "geo": "geo",
           "hoverlabel": {
            "namelength": 0
           },
           "hovertemplate": "<b>%{hovertext}</b><br><br>Date=02/16/2020<br>Country=%{location}<br>Confirmed=%{z}",
           "hovertext": [
            "Australia",
            "Belgium",
            "Cambodia",
            "Canada",
            "Egypt",
            "Finland",
            "France",
            "Germany",
            "Hong Kong",
            "India",
            "Italy",
            "Japan",
            "Macau",
            "Mainland China",
            "Malaysia",
            "Nepal",
            "Others",
            "Philippines",
            "Russia",
            "Singapore",
            "South Korea",
            "Spain",
            "Sri Lanka",
            "Sweden",
            "Taiwan",
            "Thailand",
            "UK",
            "US",
            "United Arab Emirates",
            "Vietnam"
           ],
           "locationmode": "country names",
           "locations": [
            "Australia",
            "Belgium",
            "Cambodia",
            "Canada",
            "Egypt",
            "Finland",
            "France",
            "Germany",
            "Hong Kong",
            "India",
            "Italy",
            "Japan",
            "Macau",
            "Mainland China",
            "Malaysia",
            "Nepal",
            "Others",
            "Philippines",
            "Russia",
            "Singapore",
            "South Korea",
            "Spain",
            "Sri Lanka",
            "Sweden",
            "Taiwan",
            "Thailand",
            "UK",
            "US",
            "United Arab Emirates",
            "Vietnam"
           ],
           "name": "",
           "type": "choropleth",
           "z": [
            15,
            1,
            1,
            7,
            1,
            1,
            12,
            16,
            57,
            3,
            3,
            59,
            10,
            70446,
            22,
            1,
            355,
            3,
            2,
            75,
            29,
            2,
            1,
            1,
            20,
            34,
            9,
            15,
            9,
            16
           ]
          }
         ],
         "name": "02/16/2020"
        },
        {
         "data": [
          {
           "coloraxis": "coloraxis",
           "geo": "geo",
           "hoverlabel": {
            "namelength": 0
           },
           "hovertemplate": "<b>%{hovertext}</b><br><br>Date=02/17/2020<br>Country=%{location}<br>Confirmed=%{z}",
           "hovertext": [
            "Australia",
            "Belgium",
            "Cambodia",
            "Canada",
            "Egypt",
            "Finland",
            "France",
            "Germany",
            "Hong Kong",
            "India",
            "Italy",
            "Japan",
            "Macau",
            "Mainland China",
            "Malaysia",
            "Nepal",
            "Others",
            "Philippines",
            "Russia",
            "Singapore",
            "South Korea",
            "Spain",
            "Sri Lanka",
            "Sweden",
            "Taiwan",
            "Thailand",
            "UK",
            "US",
            "United Arab Emirates",
            "Vietnam"
           ],
           "locationmode": "country names",
           "locations": [
            "Australia",
            "Belgium",
            "Cambodia",
            "Canada",
            "Egypt",
            "Finland",
            "France",
            "Germany",
            "Hong Kong",
            "India",
            "Italy",
            "Japan",
            "Macau",
            "Mainland China",
            "Malaysia",
            "Nepal",
            "Others",
            "Philippines",
            "Russia",
            "Singapore",
            "South Korea",
            "Spain",
            "Sri Lanka",
            "Sweden",
            "Taiwan",
            "Thailand",
            "UK",
            "US",
            "United Arab Emirates",
            "Vietnam"
           ],
           "name": "",
           "type": "choropleth",
           "z": [
            15,
            1,
            1,
            8,
            1,
            1,
            12,
            16,
            60,
            3,
            3,
            66,
            10,
            72364,
            22,
            1,
            454,
            3,
            2,
            77,
            30,
            2,
            1,
            1,
            22,
            35,
            9,
            15,
            9,
            16
           ]
          }
         ],
         "name": "02/17/2020"
        },
        {
         "data": [
          {
           "coloraxis": "coloraxis",
           "geo": "geo",
           "hoverlabel": {
            "namelength": 0
           },
           "hovertemplate": "<b>%{hovertext}</b><br><br>Date=02/18/2020<br>Country=%{location}<br>Confirmed=%{z}",
           "hovertext": [
            "Australia",
            "Belgium",
            "Cambodia",
            "Canada",
            "Egypt",
            "Finland",
            "France",
            "Germany",
            "Hong Kong",
            "India",
            "Italy",
            "Japan",
            "Macau",
            "Mainland China",
            "Malaysia",
            "Nepal",
            "Others",
            "Philippines",
            "Russia",
            "Singapore",
            "South Korea",
            "Spain",
            "Sri Lanka",
            "Sweden",
            "Taiwan",
            "Thailand",
            "UK",
            "US",
            "United Arab Emirates",
            "Vietnam"
           ],
           "locationmode": "country names",
           "locations": [
            "Australia",
            "Belgium",
            "Cambodia",
            "Canada",
            "Egypt",
            "Finland",
            "France",
            "Germany",
            "Hong Kong",
            "India",
            "Italy",
            "Japan",
            "Macau",
            "Mainland China",
            "Malaysia",
            "Nepal",
            "Others",
            "Philippines",
            "Russia",
            "Singapore",
            "South Korea",
            "Spain",
            "Sri Lanka",
            "Sweden",
            "Taiwan",
            "Thailand",
            "UK",
            "US",
            "United Arab Emirates",
            "Vietnam"
           ],
           "name": "",
           "type": "choropleth",
           "z": [
            15,
            1,
            1,
            8,
            1,
            1,
            12,
            16,
            62,
            3,
            3,
            74,
            10,
            74139,
            22,
            1,
            542,
            3,
            2,
            81,
            31,
            2,
            1,
            1,
            22,
            35,
            9,
            15,
            9,
            16
           ]
          }
         ],
         "name": "02/18/2020"
        },
        {
         "data": [
          {
           "coloraxis": "coloraxis",
           "geo": "geo",
           "hoverlabel": {
            "namelength": 0
           },
           "hovertemplate": "<b>%{hovertext}</b><br><br>Date=02/19/2020<br>Country=%{location}<br>Confirmed=%{z}",
           "hovertext": [
            "Australia",
            "Belgium",
            "Cambodia",
            "Canada",
            "Egypt",
            "Finland",
            "France",
            "Germany",
            "Hong Kong",
            "India",
            "Iran",
            "Italy",
            "Japan",
            "Macau",
            "Mainland China",
            "Malaysia",
            "Nepal",
            "Others",
            "Philippines",
            "Russia",
            "Singapore",
            "South Korea",
            "Spain",
            "Sri Lanka",
            "Sweden",
            "Taiwan",
            "Thailand",
            "UK",
            "US",
            "United Arab Emirates",
            "Vietnam"
           ],
           "locationmode": "country names",
           "locations": [
            "Australia",
            "Belgium",
            "Cambodia",
            "Canada",
            "Egypt",
            "Finland",
            "France",
            "Germany",
            "Hong Kong",
            "India",
            "Iran",
            "Italy",
            "Japan",
            "Macau",
            "Mainland China",
            "Malaysia",
            "Nepal",
            "Others",
            "Philippines",
            "Russia",
            "Singapore",
            "South Korea",
            "Spain",
            "Sri Lanka",
            "Sweden",
            "Taiwan",
            "Thailand",
            "UK",
            "US",
            "United Arab Emirates",
            "Vietnam"
           ],
           "name": "",
           "type": "choropleth",
           "z": [
            15,
            1,
            1,
            8,
            1,
            1,
            12,
            16,
            63,
            3,
            2,
            3,
            84,
            10,
            74546,
            22,
            1,
            621,
            3,
            2,
            84,
            31,
            2,
            1,
            1,
            23,
            35,
            9,
            15,
            9,
            16
           ]
          }
         ],
         "name": "02/19/2020"
        },
        {
         "data": [
          {
           "coloraxis": "coloraxis",
           "geo": "geo",
           "hoverlabel": {
            "namelength": 0
           },
           "hovertemplate": "<b>%{hovertext}</b><br><br>Date=02/20/2020<br>Country=%{location}<br>Confirmed=%{z}",
           "hovertext": [
            "Australia",
            "Belgium",
            "Cambodia",
            "Canada",
            "Egypt",
            "Finland",
            "France",
            "Germany",
            "Hong Kong",
            "India",
            "Iran",
            "Italy",
            "Japan",
            "Macau",
            "Mainland China",
            "Malaysia",
            "Nepal",
            "Others",
            "Philippines",
            "Russia",
            "Singapore",
            "South Korea",
            "Spain",
            "Sri Lanka",
            "Sweden",
            "Taiwan",
            "Thailand",
            "UK",
            "US",
            "United Arab Emirates",
            "Vietnam"
           ],
           "locationmode": "country names",
           "locations": [
            "Australia",
            "Belgium",
            "Cambodia",
            "Canada",
            "Egypt",
            "Finland",
            "France",
            "Germany",
            "Hong Kong",
            "India",
            "Iran",
            "Italy",
            "Japan",
            "Macau",
            "Mainland China",
            "Malaysia",
            "Nepal",
            "Others",
            "Philippines",
            "Russia",
            "Singapore",
            "South Korea",
            "Spain",
            "Sri Lanka",
            "Sweden",
            "Taiwan",
            "Thailand",
            "UK",
            "US",
            "United Arab Emirates",
            "Vietnam"
           ],
           "name": "",
           "type": "choropleth",
           "z": [
            15,
            1,
            1,
            8,
            1,
            1,
            12,
            16,
            68,
            3,
            5,
            3,
            94,
            10,
            74999,
            22,
            1,
            634,
            3,
            2,
            84,
            104,
            2,
            1,
            1,
            24,
            35,
            9,
            15,
            9,
            16
           ]
          }
         ],
         "name": "02/20/2020"
        },
        {
         "data": [
          {
           "coloraxis": "coloraxis",
           "geo": "geo",
           "hoverlabel": {
            "namelength": 0
           },
           "hovertemplate": "<b>%{hovertext}</b><br><br>Date=02/21/2020<br>Country=%{location}<br>Confirmed=%{z}",
           "hovertext": [
            "Australia",
            "Belgium",
            "Cambodia",
            "Canada",
            "Egypt",
            "Finland",
            "France",
            "Germany",
            "Hong Kong",
            "India",
            "Iran",
            "Israel",
            "Italy",
            "Japan",
            "Lebanon",
            "Macau",
            "Mainland China",
            "Malaysia",
            "Nepal",
            "Others",
            "Philippines",
            "Russia",
            "Singapore",
            "South Korea",
            "Spain",
            "Sri Lanka",
            "Sweden",
            "Taiwan",
            "Thailand",
            "UK",
            "US",
            "United Arab Emirates",
            "Vietnam"
           ],
           "locationmode": "country names",
           "locations": [
            "Australia",
            "Belgium",
            "Cambodia",
            "Canada",
            "Egypt",
            "Finland",
            "France",
            "Germany",
            "Hong Kong",
            "India",
            "Iran",
            "Israel",
            "Italy",
            "Japan",
            "Lebanon",
            "Macau",
            "Mainland China",
            "Malaysia",
            "Nepal",
            "Others",
            "Philippines",
            "Russia",
            "Singapore",
            "South Korea",
            "Spain",
            "Sri Lanka",
            "Sweden",
            "Taiwan",
            "Thailand",
            "UK",
            "US",
            "United Arab Emirates",
            "Vietnam"
           ],
           "name": "",
           "type": "choropleth",
           "z": [
            19,
            1,
            1,
            9,
            1,
            1,
            12,
            16,
            68,
            3,
            18,
            1,
            20,
            105,
            1,
            10,
            75472,
            22,
            1,
            634,
            3,
            2,
            85,
            204,
            2,
            1,
            1,
            26,
            35,
            9,
            35,
            9,
            16
           ]
          }
         ],
         "name": "02/21/2020"
        },
        {
         "data": [
          {
           "coloraxis": "coloraxis",
           "geo": "geo",
           "hoverlabel": {
            "namelength": 0
           },
           "hovertemplate": "<b>%{hovertext}</b><br><br>Date=02/22/2020<br>Country=%{location}<br>Confirmed=%{z}",
           "hovertext": [
            "Australia",
            "Belgium",
            "Cambodia",
            "Canada",
            "Egypt",
            "Finland",
            "France",
            "Germany",
            "Hong Kong",
            "India",
            "Iran",
            "Israel",
            "Italy",
            "Japan",
            "Lebanon",
            "Macau",
            "Mainland China",
            "Malaysia",
            "Nepal",
            "Others",
            "Philippines",
            "Russia",
            "Singapore",
            "South Korea",
            "Spain",
            "Sri Lanka",
            "Sweden",
            "Taiwan",
            "Thailand",
            "UK",
            "US",
            "United Arab Emirates",
            "Vietnam"
           ],
           "locationmode": "country names",
           "locations": [
            "Australia",
            "Belgium",
            "Cambodia",
            "Canada",
            "Egypt",
            "Finland",
            "France",
            "Germany",
            "Hong Kong",
            "India",
            "Iran",
            "Israel",
            "Italy",
            "Japan",
            "Lebanon",
            "Macau",
            "Mainland China",
            "Malaysia",
            "Nepal",
            "Others",
            "Philippines",
            "Russia",
            "Singapore",
            "South Korea",
            "Spain",
            "Sri Lanka",
            "Sweden",
            "Taiwan",
            "Thailand",
            "UK",
            "US",
            "United Arab Emirates",
            "Vietnam"
           ],
           "name": "",
           "type": "choropleth",
           "z": [
            22,
            1,
            1,
            9,
            1,
            1,
            12,
            16,
            69,
            3,
            28,
            1,
            62,
            122,
            1,
            10,
            76922,
            22,
            1,
            634,
            3,
            2,
            85,
            433,
            2,
            1,
            1,
            26,
            35,
            9,
            35,
            13,
            16
           ]
          }
         ],
         "name": "02/22/2020"
        },
        {
         "data": [
          {
           "coloraxis": "coloraxis",
           "geo": "geo",
           "hoverlabel": {
            "namelength": 0
           },
           "hovertemplate": "<b>%{hovertext}</b><br><br>Date=02/23/2020<br>Country=%{location}<br>Confirmed=%{z}",
           "hovertext": [
            "Australia",
            "Belgium",
            "Cambodia",
            "Canada",
            "Egypt",
            "Finland",
            "France",
            "Germany",
            "Hong Kong",
            "India",
            "Iran",
            "Israel",
            "Italy",
            "Japan",
            "Lebanon",
            "Macau",
            "Mainland China",
            "Malaysia",
            "Nepal",
            "Others",
            "Philippines",
            "Russia",
            "Singapore",
            "South Korea",
            "Spain",
            "Sri Lanka",
            "Sweden",
            "Taiwan",
            "Thailand",
            "UK",
            "US",
            "United Arab Emirates",
            "Vietnam"
           ],
           "locationmode": "country names",
           "locations": [
            "Australia",
            "Belgium",
            "Cambodia",
            "Canada",
            "Egypt",
            "Finland",
            "France",
            "Germany",
            "Hong Kong",
            "India",
            "Iran",
            "Israel",
            "Italy",
            "Japan",
            "Lebanon",
            "Macau",
            "Mainland China",
            "Malaysia",
            "Nepal",
            "Others",
            "Philippines",
            "Russia",
            "Singapore",
            "South Korea",
            "Spain",
            "Sri Lanka",
            "Sweden",
            "Taiwan",
            "Thailand",
            "UK",
            "US",
            "United Arab Emirates",
            "Vietnam"
           ],
           "name": "",
           "type": "choropleth",
           "z": [
            22,
            1,
            1,
            9,
            1,
            1,
            12,
            16,
            74,
            3,
            43,
            1,
            155,
            147,
            1,
            10,
            76938,
            22,
            1,
            691,
            3,
            2,
            89,
            602,
            2,
            1,
            1,
            28,
            35,
            9,
            35,
            13,
            16
           ]
          }
         ],
         "name": "02/23/2020"
        },
        {
         "data": [
          {
           "coloraxis": "coloraxis",
           "geo": "geo",
           "hoverlabel": {
            "namelength": 0
           },
           "hovertemplate": "<b>%{hovertext}</b><br><br>Date=02/24/2020<br>Country=%{location}<br>Confirmed=%{z}",
           "hovertext": [
            "Afghanistan",
            "Australia",
            "Bahrain",
            "Belgium",
            "Cambodia",
            "Canada",
            "Egypt",
            "Finland",
            "France",
            "Germany",
            "Hong Kong",
            "India",
            "Iran",
            "Iraq",
            "Israel",
            "Italy",
            "Japan",
            "Kuwait",
            "Lebanon",
            "Macau",
            "Mainland China",
            "Malaysia",
            "Nepal",
            "Oman",
            "Others",
            "Philippines",
            "Russia",
            "Singapore",
            "South Korea",
            "Spain",
            "Sri Lanka",
            "Sweden",
            "Taiwan",
            "Thailand",
            "UK",
            "US",
            "United Arab Emirates",
            "Vietnam"
           ],
           "locationmode": "country names",
           "locations": [
            "Afghanistan",
            "Australia",
            "Bahrain",
            "Belgium",
            "Cambodia",
            "Canada",
            "Egypt",
            "Finland",
            "France",
            "Germany",
            "Hong Kong",
            "India",
            "Iran",
            "Iraq",
            "Israel",
            "Italy",
            "Japan",
            "Kuwait",
            "Lebanon",
            "Macau",
            "Mainland China",
            "Malaysia",
            "Nepal",
            "Oman",
            "Others",
            "Philippines",
            "Russia",
            "Singapore",
            "South Korea",
            "Spain",
            "Sri Lanka",
            "Sweden",
            "Taiwan",
            "Thailand",
            "UK",
            "US",
            "United Arab Emirates",
            "Vietnam"
           ],
           "name": "",
           "type": "choropleth",
           "z": [
            1,
            22,
            1,
            1,
            1,
            10,
            1,
            1,
            12,
            16,
            79,
            3,
            61,
            1,
            1,
            229,
            159,
            1,
            1,
            10,
            77152,
            22,
            1,
            2,
            691,
            3,
            2,
            89,
            833,
            2,
            1,
            1,
            30,
            35,
            13,
            53,
            13,
            16
           ]
          }
         ],
         "name": "02/24/2020"
        },
        {
         "data": [
          {
           "coloraxis": "coloraxis",
           "geo": "geo",
           "hoverlabel": {
            "namelength": 0
           },
           "hovertemplate": "<b>%{hovertext}</b><br><br>Date=02/25/2020<br>Country=%{location}<br>Confirmed=%{z}",
           "hovertext": [
            "Afghanistan",
            "Algeria",
            "Australia",
            "Austria",
            "Bahrain",
            "Belgium",
            "Cambodia",
            "Canada",
            "Croatia",
            "Egypt",
            "Finland",
            "France",
            "Germany",
            "Hong Kong",
            "India",
            "Iran",
            "Iraq",
            "Israel",
            "Italy",
            "Japan",
            "Kuwait",
            "Lebanon",
            "Macau",
            "Mainland China",
            "Malaysia",
            "Nepal",
            "Oman",
            "Others",
            "Philippines",
            "Russia",
            "Singapore",
            "South Korea",
            "Spain",
            "Sri Lanka",
            "Sweden",
            "Switzerland",
            "Taiwan",
            "Thailand",
            "UK",
            "US",
            "United Arab Emirates",
            "Vietnam"
           ],
           "locationmode": "country names",
           "locations": [
            "Afghanistan",
            "Algeria",
            "Australia",
            "Austria",
            "Bahrain",
            "Belgium",
            "Cambodia",
            "Canada",
            "Croatia",
            "Egypt",
            "Finland",
            "France",
            "Germany",
            "Hong Kong",
            "India",
            "Iran",
            "Iraq",
            "Israel",
            "Italy",
            "Japan",
            "Kuwait",
            "Lebanon",
            "Macau",
            "Mainland China",
            "Malaysia",
            "Nepal",
            "Oman",
            "Others",
            "Philippines",
            "Russia",
            "Singapore",
            "South Korea",
            "Spain",
            "Sri Lanka",
            "Sweden",
            "Switzerland",
            "Taiwan",
            "Thailand",
            "UK",
            "US",
            "United Arab Emirates",
            "Vietnam"
           ],
           "name": "",
           "type": "choropleth",
           "z": [
            1,
            1,
            22,
            2,
            23,
            1,
            1,
            11,
            1,
            1,
            1,
            14,
            17,
            84,
            3,
            95,
            1,
            1,
            322,
            170,
            11,
            1,
            10,
            77660,
            22,
            1,
            2,
            691,
            3,
            2,
            91,
            977,
            6,
            1,
            1,
            1,
            31,
            37,
            13,
            53,
            13,
            16
           ]
          }
         ],
         "name": "02/25/2020"
        },
        {
         "data": [
          {
           "coloraxis": "coloraxis",
           "geo": "geo",
           "hoverlabel": {
            "namelength": 0
           },
           "hovertemplate": "<b>%{hovertext}</b><br><br>Date=02/26/2020<br>Country=%{location}<br>Confirmed=%{z}",
           "hovertext": [
            "Afghanistan",
            "Algeria",
            "Australia",
            "Austria",
            "Bahrain",
            "Belgium",
            "Brazil",
            "Cambodia",
            "Canada",
            "Croatia",
            "Egypt",
            "Finland",
            "France",
            "Georgia",
            "Germany",
            "Greece",
            "Hong Kong",
            "India",
            "Iran",
            "Iraq",
            "Israel",
            "Italy",
            "Japan",
            "Kuwait",
            "Lebanon",
            "Macau",
            "Mainland China",
            "Malaysia",
            "Nepal",
            "North Macedonia",
            "Norway",
            "Oman",
            "Others",
            "Pakistan",
            "Philippines",
            "Romania",
            "Russia",
            "Singapore",
            "South Korea",
            "Spain",
            "Sri Lanka",
            "Sweden",
            "Switzerland",
            "Taiwan",
            "Thailand",
            "UK",
            "US",
            "United Arab Emirates",
            "Vietnam"
           ],
           "locationmode": "country names",
           "locations": [
            "Afghanistan",
            "Algeria",
            "Australia",
            "Austria",
            "Bahrain",
            "Belgium",
            "Brazil",
            "Cambodia",
            "Canada",
            "Croatia",
            "Egypt",
            "Finland",
            "France",
            "Georgia",
            "Germany",
            "Greece",
            "Hong Kong",
            "India",
            "Iran",
            "Iraq",
            "Israel",
            "Italy",
            "Japan",
            "Kuwait",
            "Lebanon",
            "Macau",
            "Mainland China",
            "Malaysia",
            "Nepal",
            "North Macedonia",
            "Norway",
            "Oman",
            "Others",
            "Pakistan",
            "Philippines",
            "Romania",
            "Russia",
            "Singapore",
            "South Korea",
            "Spain",
            "Sri Lanka",
            "Sweden",
            "Switzerland",
            "Taiwan",
            "Thailand",
            "UK",
            "US",
            "United Arab Emirates",
            "Vietnam"
           ],
           "name": "",
           "type": "choropleth",
           "z": [
            1,
            1,
            22,
            2,
            33,
            1,
            1,
            1,
            11,
            3,
            1,
            2,
            18,
            1,
            27,
            1,
            91,
            3,
            139,
            5,
            2,
            453,
            189,
            26,
            2,
            10,
            78065,
            22,
            1,
            1,
            1,
            4,
            705,
            2,
            3,
            1,
            2,
            93,
            1261,
            13,
            1,
            2,
            1,
            32,
            40,
            13,
            59,
            13,
            16
           ]
          }
         ],
         "name": "02/26/2020"
        },
        {
         "data": [
          {
           "coloraxis": "coloraxis",
           "geo": "geo",
           "hoverlabel": {
            "namelength": 0
           },
           "hovertemplate": "<b>%{hovertext}</b><br><br>Date=02/27/2020<br>Country=%{location}<br>Confirmed=%{z}",
           "hovertext": [
            "Afghanistan",
            "Algeria",
            "Australia",
            "Austria",
            "Bahrain",
            "Belgium",
            "Brazil",
            "Cambodia",
            "Canada",
            "Croatia",
            "Denmark",
            "Egypt",
            "Estonia",
            "Finland",
            "France",
            "Georgia",
            "Germany",
            "Greece",
            "Hong Kong",
            "India",
            "Iran",
            "Iraq",
            "Israel",
            "Italy",
            "Japan",
            "Kuwait",
            "Lebanon",
            "Macau",
            "Mainland China",
            "Malaysia",
            "Nepal",
            "Netherlands",
            "North Macedonia",
            "Norway",
            "Oman",
            "Others",
            "Pakistan",
            "Philippines",
            "Romania",
            "Russia",
            "San Marino",
            "Singapore",
            "South Korea",
            "Spain",
            "Sri Lanka",
            "Sweden",
            "Switzerland",
            "Taiwan",
            "Thailand",
            "UK",
            "US",
            "United Arab Emirates",
            "Vietnam"
           ],
           "locationmode": "country names",
           "locations": [
            "Afghanistan",
            "Algeria",
            "Australia",
            "Austria",
            "Bahrain",
            "Belgium",
            "Brazil",
            "Cambodia",
            "Canada",
            "Croatia",
            "Denmark",
            "Egypt",
            "Estonia",
            "Finland",
            "France",
            "Georgia",
            "Germany",
            "Greece",
            "Hong Kong",
            "India",
            "Iran",
            "Iraq",
            "Israel",
            "Italy",
            "Japan",
            "Kuwait",
            "Lebanon",
            "Macau",
            "Mainland China",
            "Malaysia",
            "Nepal",
            "Netherlands",
            "North Macedonia",
            "Norway",
            "Oman",
            "Others",
            "Pakistan",
            "Philippines",
            "Romania",
            "Russia",
            "San Marino",
            "Singapore",
            "South Korea",
            "Spain",
            "Sri Lanka",
            "Sweden",
            "Switzerland",
            "Taiwan",
            "Thailand",
            "UK",
            "US",
            "United Arab Emirates",
            "Vietnam"
           ],
           "name": "",
           "type": "choropleth",
           "z": [
            1,
            1,
            23,
            3,
            33,
            1,
            1,
            1,
            13,
            3,
            1,
            1,
            1,
            2,
            38,
            1,
            46,
            3,
            92,
            3,
            245,
            7,
            3,
            655,
            214,
            43,
            2,
            10,
            78498,
            23,
            1,
            1,
            1,
            1,
            4,
            705,
            2,
            3,
            1,
            2,
            1,
            93,
            1766,
            15,
            1,
            7,
            8,
            32,
            40,
            15,
            60,
            13,
            16
           ]
          }
         ],
         "name": "02/27/2020"
        },
        {
         "data": [
          {
           "coloraxis": "coloraxis",
           "geo": "geo",
           "hoverlabel": {
            "namelength": 0
           },
           "hovertemplate": "<b>%{hovertext}</b><br><br>Date=02/28/2020<br>Country=%{location}<br>Confirmed=%{z}",
           "hovertext": [
            " Azerbaijan",
            "Afghanistan",
            "Algeria",
            "Australia",
            "Austria",
            "Bahrain",
            "Belarus",
            "Belgium",
            "Brazil",
            "Cambodia",
            "Canada",
            "Croatia",
            "Denmark",
            "Egypt",
            "Estonia",
            "Finland",
            "France",
            "Georgia",
            "Germany",
            "Greece",
            "Hong Kong",
            "Iceland",
            "India",
            "Iran",
            "Iraq",
            "Israel",
            "Italy",
            "Japan",
            "Kuwait",
            "Lebanon",
            "Lithuania",
            "Macau",
            "Mainland China",
            "Malaysia",
            "Mexico",
            "Nepal",
            "Netherlands",
            "New Zealand",
            "Nigeria",
            "North Ireland",
            "North Macedonia",
            "Norway",
            "Oman",
            "Others",
            "Pakistan",
            "Philippines",
            "Romania",
            "Russia",
            "San Marino",
            "Singapore",
            "South Korea",
            "Spain",
            "Sri Lanka",
            "Sweden",
            "Switzerland",
            "Taiwan",
            "Thailand",
            "UK",
            "US",
            "United Arab Emirates",
            "Vietnam"
           ],
           "locationmode": "country names",
           "locations": [
            " Azerbaijan",
            "Afghanistan",
            "Algeria",
            "Australia",
            "Austria",
            "Bahrain",
            "Belarus",
            "Belgium",
            "Brazil",
            "Cambodia",
            "Canada",
            "Croatia",
            "Denmark",
            "Egypt",
            "Estonia",
            "Finland",
            "France",
            "Georgia",
            "Germany",
            "Greece",
            "Hong Kong",
            "Iceland",
            "India",
            "Iran",
            "Iraq",
            "Israel",
            "Italy",
            "Japan",
            "Kuwait",
            "Lebanon",
            "Lithuania",
            "Macau",
            "Mainland China",
            "Malaysia",
            "Mexico",
            "Nepal",
            "Netherlands",
            "New Zealand",
            "Nigeria",
            "North Ireland",
            "North Macedonia",
            "Norway",
            "Oman",
            "Others",
            "Pakistan",
            "Philippines",
            "Romania",
            "Russia",
            "San Marino",
            "Singapore",
            "South Korea",
            "Spain",
            "Sri Lanka",
            "Sweden",
            "Switzerland",
            "Taiwan",
            "Thailand",
            "UK",
            "US",
            "United Arab Emirates",
            "Vietnam"
           ],
           "name": "",
           "type": "choropleth",
           "z": [
            1,
            1,
            1,
            23,
            3,
            36,
            1,
            1,
            1,
            1,
            14,
            5,
            1,
            1,
            1,
            2,
            57,
            1,
            48,
            4,
            94,
            1,
            3,
            388,
            7,
            4,
            888,
            228,
            45,
            2,
            1,
            10,
            78824,
            23,
            1,
            1,
            1,
            1,
            1,
            1,
            1,
            6,
            4,
            705,
            2,
            3,
            3,
            2,
            1,
            93,
            2337,
            32,
            1,
            7,
            8,
            34,
            41,
            20,
            62,
            19,
            16
           ]
          }
         ],
         "name": "02/28/2020"
        },
        {
         "data": [
          {
           "coloraxis": "coloraxis",
           "geo": "geo",
           "hoverlabel": {
            "namelength": 0
           },
           "hovertemplate": "<b>%{hovertext}</b><br><br>Date=02/29/2020<br>Country=%{location}<br>Confirmed=%{z}",
           "hovertext": [
            "Afghanistan",
            "Algeria",
            "Australia",
            "Austria",
            "Bahrain",
            "Belarus",
            "Belgium",
            "Brazil",
            "Cambodia",
            "Canada",
            "Croatia",
            "Denmark",
            "Egypt",
            "Estonia",
            "Finland",
            "France",
            "Georgia",
            "Germany",
            "Greece",
            "Hong Kong",
            "Iceland",
            "India",
            "Iran",
            "Iraq",
            "Ireland",
            "Israel",
            "Italy",
            "Japan",
            "Kuwait",
            "Lebanon",
            "Lithuania",
            "Luxembourg",
            "Macau",
            "Mainland China",
            "Malaysia",
            "Mexico",
            "Monaco",
            "Nepal",
            "Netherlands",
            "New Zealand",
            "Nigeria",
            "North Macedonia",
            "Norway",
            "Oman",
            "Others",
            "Pakistan",
            "Philippines",
            "Qatar",
            "Romania",
            "Russia",
            "San Marino",
            "Singapore",
            "South Korea",
            "Spain",
            "Sri Lanka",
            "Sweden",
            "Switzerland",
            "Taiwan",
            "Thailand",
            "UK",
            "US",
            "United Arab Emirates",
            "Vietnam"
           ],
           "locationmode": "country names",
           "locations": [
            "Afghanistan",
            "Algeria",
            "Australia",
            "Austria",
            "Bahrain",
            "Belarus",
            "Belgium",
            "Brazil",
            "Cambodia",
            "Canada",
            "Croatia",
            "Denmark",
            "Egypt",
            "Estonia",
            "Finland",
            "France",
            "Georgia",
            "Germany",
            "Greece",
            "Hong Kong",
            "Iceland",
            "India",
            "Iran",
            "Iraq",
            "Ireland",
            "Israel",
            "Italy",
            "Japan",
            "Kuwait",
            "Lebanon",
            "Lithuania",
            "Luxembourg",
            "Macau",
            "Mainland China",
            "Malaysia",
            "Mexico",
            "Monaco",
            "Nepal",
            "Netherlands",
            "New Zealand",
            "Nigeria",
            "North Macedonia",
            "Norway",
            "Oman",
            "Others",
            "Pakistan",
            "Philippines",
            "Qatar",
            "Romania",
            "Russia",
            "San Marino",
            "Singapore",
            "South Korea",
            "Spain",
            "Sri Lanka",
            "Sweden",
            "Switzerland",
            "Taiwan",
            "Thailand",
            "UK",
            "US",
            "United Arab Emirates",
            "Vietnam"
           ],
           "name": "",
           "type": "choropleth",
           "z": [
            1,
            1,
            25,
            9,
            41,
            1,
            1,
            2,
            1,
            20,
            6,
            3,
            1,
            1,
            3,
            100,
            1,
            79,
            4,
            95,
            1,
            3,
            593,
            13,
            1,
            7,
            1128,
            241,
            45,
            4,
            1,
            1,
            10,
            79251,
            25,
            4,
            1,
            1,
            6,
            1,
            1,
            1,
            15,
            6,
            705,
            4,
            3,
            1,
            3,
            2,
            1,
            102,
            3150,
            45,
            1,
            12,
            18,
            39,
            42,
            23,
            70,
            21,
            16
           ]
          }
         ],
         "name": "02/29/2020"
        },
        {
         "data": [
          {
           "coloraxis": "coloraxis",
           "geo": "geo",
           "hoverlabel": {
            "namelength": 0
           },
           "hovertemplate": "<b>%{hovertext}</b><br><br>Date=03/01/2020<br>Country=%{location}<br>Confirmed=%{z}",
           "hovertext": [
            "Afghanistan",
            "Algeria",
            "Armenia",
            "Australia",
            "Austria",
            "Azerbaijan",
            "Bahrain",
            "Belarus",
            "Belgium",
            "Brazil",
            "Cambodia",
            "Canada",
            "Croatia",
            "Czech Republic",
            "Denmark",
            "Dominican Republic",
            "Ecuador",
            "Egypt",
            "Estonia",
            "Finland",
            "France",
            "Georgia",
            "Germany",
            "Greece",
            "Hong Kong",
            "Iceland",
            "India",
            "Iran",
            "Iraq",
            "Ireland",
            "Israel",
            "Italy",
            "Japan",
            "Kuwait",
            "Lebanon",
            "Lithuania",
            "Luxembourg",
            "Macau",
            "Mainland China",
            "Malaysia",
            "Mexico",
            "Monaco",
            "Nepal",
            "Netherlands",
            "New Zealand",
            "Nigeria",
            "North Macedonia",
            "Norway",
            "Oman",
            "Others",
            "Pakistan",
            "Philippines",
            "Qatar",
            "Romania",
            "Russia",
            "San Marino",
            "Singapore",
            "South Korea",
            "Spain",
            "Sri Lanka",
            "Sweden",
            "Switzerland",
            "Taiwan",
            "Thailand",
            "UK",
            "US",
            "United Arab Emirates",
            "Vietnam"
           ],
           "locationmode": "country names",
           "locations": [
            "Afghanistan",
            "Algeria",
            "Armenia",
            "Australia",
            "Austria",
            "Azerbaijan",
            "Bahrain",
            "Belarus",
            "Belgium",
            "Brazil",
            "Cambodia",
            "Canada",
            "Croatia",
            "Czech Republic",
            "Denmark",
            "Dominican Republic",
            "Ecuador",
            "Egypt",
            "Estonia",
            "Finland",
            "France",
            "Georgia",
            "Germany",
            "Greece",
            "Hong Kong",
            "Iceland",
            "India",
            "Iran",
            "Iraq",
            "Ireland",
            "Israel",
            "Italy",
            "Japan",
            "Kuwait",
            "Lebanon",
            "Lithuania",
            "Luxembourg",
            "Macau",
            "Mainland China",
            "Malaysia",
            "Mexico",
            "Monaco",
            "Nepal",
            "Netherlands",
            "New Zealand",
            "Nigeria",
            "North Macedonia",
            "Norway",
            "Oman",
            "Others",
            "Pakistan",
            "Philippines",
            "Qatar",
            "Romania",
            "Russia",
            "San Marino",
            "Singapore",
            "South Korea",
            "Spain",
            "Sri Lanka",
            "Sweden",
            "Switzerland",
            "Taiwan",
            "Thailand",
            "UK",
            "US",
            "United Arab Emirates",
            "Vietnam"
           ],
           "name": "",
           "type": "choropleth",
           "z": [
            1,
            1,
            1,
            27,
            14,
            3,
            47,
            1,
            2,
            2,
            1,
            24,
            7,
            3,
            4,
            1,
            6,
            2,
            1,
            6,
            130,
            3,
            130,
            7,
            96,
            3,
            3,
            978,
            19,
            1,
            10,
            1694,
            256,
            45,
            10,
            1,
            1,
            10,
            79826,
            29,
            5,
            1,
            1,
            10,
            1,
            1,
            1,
            19,
            6,
            705,
            4,
            3,
            3,
            3,
            2,
            1,
            106,
            3736,
            84,
            1,
            14,
            27,
            40,
            42,
            36,
            76,
            21,
            16
           ]
          }
         ],
         "name": "03/01/2020"
        },
        {
         "data": [
          {
           "coloraxis": "coloraxis",
           "geo": "geo",
           "hoverlabel": {
            "namelength": 0
           },
           "hovertemplate": "<b>%{hovertext}</b><br><br>Date=03/02/2020<br>Country=%{location}<br>Confirmed=%{z}",
           "hovertext": [
            "Afghanistan",
            "Algeria",
            "Andorra",
            "Armenia",
            "Australia",
            "Austria",
            "Azerbaijan",
            "Bahrain",
            "Belarus",
            "Belgium",
            "Brazil",
            "Cambodia",
            "Canada",
            "Croatia",
            "Czech Republic",
            "Denmark",
            "Dominican Republic",
            "Ecuador",
            "Egypt",
            "Estonia",
            "Finland",
            "France",
            "Georgia",
            "Germany",
            "Greece",
            "Hong Kong",
            "Iceland",
            "India",
            "Indonesia",
            "Iran",
            "Iraq",
            "Ireland",
            "Israel",
            "Italy",
            "Japan",
            "Kuwait",
            "Latvia",
            "Lebanon",
            "Lithuania",
            "Luxembourg",
            "Macau",
            "Mainland China",
            "Malaysia",
            "Mexico",
            "Monaco",
            "Morocco",
            "Nepal",
            "Netherlands",
            "New Zealand",
            "Nigeria",
            "North Macedonia",
            "Norway",
            "Oman",
            "Others",
            "Pakistan",
            "Philippines",
            "Portugal",
            "Qatar",
            "Romania",
            "Russia",
            "San Marino",
            "Saudi Arabia",
            "Senegal",
            "Singapore",
            "South Korea",
            "Spain",
            "Sri Lanka",
            "Sweden",
            "Switzerland",
            "Taiwan",
            "Thailand",
            "UK",
            "US",
            "United Arab Emirates",
            "Vietnam"
           ],
           "locationmode": "country names",
           "locations": [
            "Afghanistan",
            "Algeria",
            "Andorra",
            "Armenia",
            "Australia",
            "Austria",
            "Azerbaijan",
            "Bahrain",
            "Belarus",
            "Belgium",
            "Brazil",
            "Cambodia",
            "Canada",
            "Croatia",
            "Czech Republic",
            "Denmark",
            "Dominican Republic",
            "Ecuador",
            "Egypt",
            "Estonia",
            "Finland",
            "France",
            "Georgia",
            "Germany",
            "Greece",
            "Hong Kong",
            "Iceland",
            "India",
            "Indonesia",
            "Iran",
            "Iraq",
            "Ireland",
            "Israel",
            "Italy",
            "Japan",
            "Kuwait",
            "Latvia",
            "Lebanon",
            "Lithuania",
            "Luxembourg",
            "Macau",
            "Mainland China",
            "Malaysia",
            "Mexico",
            "Monaco",
            "Morocco",
            "Nepal",
            "Netherlands",
            "New Zealand",
            "Nigeria",
            "North Macedonia",
            "Norway",
            "Oman",
            "Others",
            "Pakistan",
            "Philippines",
            "Portugal",
            "Qatar",
            "Romania",
            "Russia",
            "San Marino",
            "Saudi Arabia",
            "Senegal",
            "Singapore",
            "South Korea",
            "Spain",
            "Sri Lanka",
            "Sweden",
            "Switzerland",
            "Taiwan",
            "Thailand",
            "UK",
            "US",
            "United Arab Emirates",
            "Vietnam"
           ],
           "name": "",
           "type": "choropleth",
           "z": [
            1,
            3,
            1,
            1,
            30,
            18,
            3,
            49,
            1,
            8,
            2,
            1,
            27,
            7,
            3,
            4,
            1,
            6,
            2,
            1,
            6,
            191,
            3,
            159,
            7,
            100,
            6,
            5,
            2,
            1501,
            26,
            1,
            10,
            2036,
            274,
            56,
            1,
            13,
            1,
            1,
            10,
            80026,
            29,
            5,
            1,
            1,
            1,
            18,
            1,
            1,
            1,
            25,
            6,
            705,
            4,
            3,
            2,
            3,
            3,
            3,
            8,
            1,
            1,
            108,
            4335,
            120,
            1,
            15,
            42,
            41,
            43,
            40,
            101,
            21,
            16
           ]
          }
         ],
         "name": "03/02/2020"
        }
       ],
       "layout": {
        "coloraxis": {
         "colorbar": {
          "title": {
           "text": "Confirmed"
          }
         },
         "colorscale": [
          [
           0,
           "#0d0887"
          ],
          [
           0.1111111111111111,
           "#46039f"
          ],
          [
           0.2222222222222222,
           "#7201a8"
          ],
          [
           0.3333333333333333,
           "#9c179e"
          ],
          [
           0.4444444444444444,
           "#bd3786"
          ],
          [
           0.5555555555555556,
           "#d8576b"
          ],
          [
           0.6666666666666666,
           "#ed7953"
          ],
          [
           0.7777777777777778,
           "#fb9f3a"
          ],
          [
           0.8888888888888888,
           "#fdca26"
          ],
          [
           1,
           "#f0f921"
          ]
         ]
        },
        "geo": {
         "center": {},
         "domain": {
          "x": [
           0,
           1
          ],
          "y": [
           0,
           1
          ]
         },
         "showcoastlines": false,
         "showframe": true
        },
        "legend": {
         "tracegroupgap": 0
        },
        "margin": {
         "t": 60
        },
        "sliders": [
         {
          "active": 0,
          "currentvalue": {
           "prefix": "Date="
          },
          "len": 0.9,
          "pad": {
           "b": 10,
           "t": 60
          },
          "steps": [
           {
            "args": [
             [
              "01/22/2020"
             ],
             {
              "frame": {
               "duration": 0,
               "redraw": true
              },
              "fromcurrent": true,
              "mode": "immediate",
              "transition": {
               "duration": 0,
               "easing": "linear"
              }
             }
            ],
            "label": "01/22/2020",
            "method": "animate"
           },
           {
            "args": [
             [
              "01/23/2020"
             ],
             {
              "frame": {
               "duration": 0,
               "redraw": true
              },
              "fromcurrent": true,
              "mode": "immediate",
              "transition": {
               "duration": 0,
               "easing": "linear"
              }
             }
            ],
            "label": "01/23/2020",
            "method": "animate"
           },
           {
            "args": [
             [
              "01/24/2020"
             ],
             {
              "frame": {
               "duration": 0,
               "redraw": true
              },
              "fromcurrent": true,
              "mode": "immediate",
              "transition": {
               "duration": 0,
               "easing": "linear"
              }
             }
            ],
            "label": "01/24/2020",
            "method": "animate"
           },
           {
            "args": [
             [
              "01/25/2020"
             ],
             {
              "frame": {
               "duration": 0,
               "redraw": true
              },
              "fromcurrent": true,
              "mode": "immediate",
              "transition": {
               "duration": 0,
               "easing": "linear"
              }
             }
            ],
            "label": "01/25/2020",
            "method": "animate"
           },
           {
            "args": [
             [
              "01/26/2020"
             ],
             {
              "frame": {
               "duration": 0,
               "redraw": true
              },
              "fromcurrent": true,
              "mode": "immediate",
              "transition": {
               "duration": 0,
               "easing": "linear"
              }
             }
            ],
            "label": "01/26/2020",
            "method": "animate"
           },
           {
            "args": [
             [
              "01/27/2020"
             ],
             {
              "frame": {
               "duration": 0,
               "redraw": true
              },
              "fromcurrent": true,
              "mode": "immediate",
              "transition": {
               "duration": 0,
               "easing": "linear"
              }
             }
            ],
            "label": "01/27/2020",
            "method": "animate"
           },
           {
            "args": [
             [
              "01/28/2020"
             ],
             {
              "frame": {
               "duration": 0,
               "redraw": true
              },
              "fromcurrent": true,
              "mode": "immediate",
              "transition": {
               "duration": 0,
               "easing": "linear"
              }
             }
            ],
            "label": "01/28/2020",
            "method": "animate"
           },
           {
            "args": [
             [
              "01/29/2020"
             ],
             {
              "frame": {
               "duration": 0,
               "redraw": true
              },
              "fromcurrent": true,
              "mode": "immediate",
              "transition": {
               "duration": 0,
               "easing": "linear"
              }
             }
            ],
            "label": "01/29/2020",
            "method": "animate"
           },
           {
            "args": [
             [
              "01/30/2020"
             ],
             {
              "frame": {
               "duration": 0,
               "redraw": true
              },
              "fromcurrent": true,
              "mode": "immediate",
              "transition": {
               "duration": 0,
               "easing": "linear"
              }
             }
            ],
            "label": "01/30/2020",
            "method": "animate"
           },
           {
            "args": [
             [
              "01/31/2020"
             ],
             {
              "frame": {
               "duration": 0,
               "redraw": true
              },
              "fromcurrent": true,
              "mode": "immediate",
              "transition": {
               "duration": 0,
               "easing": "linear"
              }
             }
            ],
            "label": "01/31/2020",
            "method": "animate"
           },
           {
            "args": [
             [
              "02/01/2020"
             ],
             {
              "frame": {
               "duration": 0,
               "redraw": true
              },
              "fromcurrent": true,
              "mode": "immediate",
              "transition": {
               "duration": 0,
               "easing": "linear"
              }
             }
            ],
            "label": "02/01/2020",
            "method": "animate"
           },
           {
            "args": [
             [
              "02/02/2020"
             ],
             {
              "frame": {
               "duration": 0,
               "redraw": true
              },
              "fromcurrent": true,
              "mode": "immediate",
              "transition": {
               "duration": 0,
               "easing": "linear"
              }
             }
            ],
            "label": "02/02/2020",
            "method": "animate"
           },
           {
            "args": [
             [
              "02/03/2020"
             ],
             {
              "frame": {
               "duration": 0,
               "redraw": true
              },
              "fromcurrent": true,
              "mode": "immediate",
              "transition": {
               "duration": 0,
               "easing": "linear"
              }
             }
            ],
            "label": "02/03/2020",
            "method": "animate"
           },
           {
            "args": [
             [
              "02/04/2020"
             ],
             {
              "frame": {
               "duration": 0,
               "redraw": true
              },
              "fromcurrent": true,
              "mode": "immediate",
              "transition": {
               "duration": 0,
               "easing": "linear"
              }
             }
            ],
            "label": "02/04/2020",
            "method": "animate"
           },
           {
            "args": [
             [
              "02/05/2020"
             ],
             {
              "frame": {
               "duration": 0,
               "redraw": true
              },
              "fromcurrent": true,
              "mode": "immediate",
              "transition": {
               "duration": 0,
               "easing": "linear"
              }
             }
            ],
            "label": "02/05/2020",
            "method": "animate"
           },
           {
            "args": [
             [
              "02/06/2020"
             ],
             {
              "frame": {
               "duration": 0,
               "redraw": true
              },
              "fromcurrent": true,
              "mode": "immediate",
              "transition": {
               "duration": 0,
               "easing": "linear"
              }
             }
            ],
            "label": "02/06/2020",
            "method": "animate"
           },
           {
            "args": [
             [
              "02/07/2020"
             ],
             {
              "frame": {
               "duration": 0,
               "redraw": true
              },
              "fromcurrent": true,
              "mode": "immediate",
              "transition": {
               "duration": 0,
               "easing": "linear"
              }
             }
            ],
            "label": "02/07/2020",
            "method": "animate"
           },
           {
            "args": [
             [
              "02/08/2020"
             ],
             {
              "frame": {
               "duration": 0,
               "redraw": true
              },
              "fromcurrent": true,
              "mode": "immediate",
              "transition": {
               "duration": 0,
               "easing": "linear"
              }
             }
            ],
            "label": "02/08/2020",
            "method": "animate"
           },
           {
            "args": [
             [
              "02/09/2020"
             ],
             {
              "frame": {
               "duration": 0,
               "redraw": true
              },
              "fromcurrent": true,
              "mode": "immediate",
              "transition": {
               "duration": 0,
               "easing": "linear"
              }
             }
            ],
            "label": "02/09/2020",
            "method": "animate"
           },
           {
            "args": [
             [
              "02/10/2020"
             ],
             {
              "frame": {
               "duration": 0,
               "redraw": true
              },
              "fromcurrent": true,
              "mode": "immediate",
              "transition": {
               "duration": 0,
               "easing": "linear"
              }
             }
            ],
            "label": "02/10/2020",
            "method": "animate"
           },
           {
            "args": [
             [
              "02/11/2020"
             ],
             {
              "frame": {
               "duration": 0,
               "redraw": true
              },
              "fromcurrent": true,
              "mode": "immediate",
              "transition": {
               "duration": 0,
               "easing": "linear"
              }
             }
            ],
            "label": "02/11/2020",
            "method": "animate"
           },
           {
            "args": [
             [
              "02/12/2020"
             ],
             {
              "frame": {
               "duration": 0,
               "redraw": true
              },
              "fromcurrent": true,
              "mode": "immediate",
              "transition": {
               "duration": 0,
               "easing": "linear"
              }
             }
            ],
            "label": "02/12/2020",
            "method": "animate"
           },
           {
            "args": [
             [
              "02/13/2020"
             ],
             {
              "frame": {
               "duration": 0,
               "redraw": true
              },
              "fromcurrent": true,
              "mode": "immediate",
              "transition": {
               "duration": 0,
               "easing": "linear"
              }
             }
            ],
            "label": "02/13/2020",
            "method": "animate"
           },
           {
            "args": [
             [
              "02/14/2020"
             ],
             {
              "frame": {
               "duration": 0,
               "redraw": true
              },
              "fromcurrent": true,
              "mode": "immediate",
              "transition": {
               "duration": 0,
               "easing": "linear"
              }
             }
            ],
            "label": "02/14/2020",
            "method": "animate"
           },
           {
            "args": [
             [
              "02/15/2020"
             ],
             {
              "frame": {
               "duration": 0,
               "redraw": true
              },
              "fromcurrent": true,
              "mode": "immediate",
              "transition": {
               "duration": 0,
               "easing": "linear"
              }
             }
            ],
            "label": "02/15/2020",
            "method": "animate"
           },
           {
            "args": [
             [
              "02/16/2020"
             ],
             {
              "frame": {
               "duration": 0,
               "redraw": true
              },
              "fromcurrent": true,
              "mode": "immediate",
              "transition": {
               "duration": 0,
               "easing": "linear"
              }
             }
            ],
            "label": "02/16/2020",
            "method": "animate"
           },
           {
            "args": [
             [
              "02/17/2020"
             ],
             {
              "frame": {
               "duration": 0,
               "redraw": true
              },
              "fromcurrent": true,
              "mode": "immediate",
              "transition": {
               "duration": 0,
               "easing": "linear"
              }
             }
            ],
            "label": "02/17/2020",
            "method": "animate"
           },
           {
            "args": [
             [
              "02/18/2020"
             ],
             {
              "frame": {
               "duration": 0,
               "redraw": true
              },
              "fromcurrent": true,
              "mode": "immediate",
              "transition": {
               "duration": 0,
               "easing": "linear"
              }
             }
            ],
            "label": "02/18/2020",
            "method": "animate"
           },
           {
            "args": [
             [
              "02/19/2020"
             ],
             {
              "frame": {
               "duration": 0,
               "redraw": true
              },
              "fromcurrent": true,
              "mode": "immediate",
              "transition": {
               "duration": 0,
               "easing": "linear"
              }
             }
            ],
            "label": "02/19/2020",
            "method": "animate"
           },
           {
            "args": [
             [
              "02/20/2020"
             ],
             {
              "frame": {
               "duration": 0,
               "redraw": true
              },
              "fromcurrent": true,
              "mode": "immediate",
              "transition": {
               "duration": 0,
               "easing": "linear"
              }
             }
            ],
            "label": "02/20/2020",
            "method": "animate"
           },
           {
            "args": [
             [
              "02/21/2020"
             ],
             {
              "frame": {
               "duration": 0,
               "redraw": true
              },
              "fromcurrent": true,
              "mode": "immediate",
              "transition": {
               "duration": 0,
               "easing": "linear"
              }
             }
            ],
            "label": "02/21/2020",
            "method": "animate"
           },
           {
            "args": [
             [
              "02/22/2020"
             ],
             {
              "frame": {
               "duration": 0,
               "redraw": true
              },
              "fromcurrent": true,
              "mode": "immediate",
              "transition": {
               "duration": 0,
               "easing": "linear"
              }
             }
            ],
            "label": "02/22/2020",
            "method": "animate"
           },
           {
            "args": [
             [
              "02/23/2020"
             ],
             {
              "frame": {
               "duration": 0,
               "redraw": true
              },
              "fromcurrent": true,
              "mode": "immediate",
              "transition": {
               "duration": 0,
               "easing": "linear"
              }
             }
            ],
            "label": "02/23/2020",
            "method": "animate"
           },
           {
            "args": [
             [
              "02/24/2020"
             ],
             {
              "frame": {
               "duration": 0,
               "redraw": true
              },
              "fromcurrent": true,
              "mode": "immediate",
              "transition": {
               "duration": 0,
               "easing": "linear"
              }
             }
            ],
            "label": "02/24/2020",
            "method": "animate"
           },
           {
            "args": [
             [
              "02/25/2020"
             ],
             {
              "frame": {
               "duration": 0,
               "redraw": true
              },
              "fromcurrent": true,
              "mode": "immediate",
              "transition": {
               "duration": 0,
               "easing": "linear"
              }
             }
            ],
            "label": "02/25/2020",
            "method": "animate"
           },
           {
            "args": [
             [
              "02/26/2020"
             ],
             {
              "frame": {
               "duration": 0,
               "redraw": true
              },
              "fromcurrent": true,
              "mode": "immediate",
              "transition": {
               "duration": 0,
               "easing": "linear"
              }
             }
            ],
            "label": "02/26/2020",
            "method": "animate"
           },
           {
            "args": [
             [
              "02/27/2020"
             ],
             {
              "frame": {
               "duration": 0,
               "redraw": true
              },
              "fromcurrent": true,
              "mode": "immediate",
              "transition": {
               "duration": 0,
               "easing": "linear"
              }
             }
            ],
            "label": "02/27/2020",
            "method": "animate"
           },
           {
            "args": [
             [
              "02/28/2020"
             ],
             {
              "frame": {
               "duration": 0,
               "redraw": true
              },
              "fromcurrent": true,
              "mode": "immediate",
              "transition": {
               "duration": 0,
               "easing": "linear"
              }
             }
            ],
            "label": "02/28/2020",
            "method": "animate"
           },
           {
            "args": [
             [
              "02/29/2020"
             ],
             {
              "frame": {
               "duration": 0,
               "redraw": true
              },
              "fromcurrent": true,
              "mode": "immediate",
              "transition": {
               "duration": 0,
               "easing": "linear"
              }
             }
            ],
            "label": "02/29/2020",
            "method": "animate"
           },
           {
            "args": [
             [
              "03/01/2020"
             ],
             {
              "frame": {
               "duration": 0,
               "redraw": true
              },
              "fromcurrent": true,
              "mode": "immediate",
              "transition": {
               "duration": 0,
               "easing": "linear"
              }
             }
            ],
            "label": "03/01/2020",
            "method": "animate"
           },
           {
            "args": [
             [
              "03/02/2020"
             ],
             {
              "frame": {
               "duration": 0,
               "redraw": true
              },
              "fromcurrent": true,
              "mode": "immediate",
              "transition": {
               "duration": 0,
               "easing": "linear"
              }
             }
            ],
            "label": "03/02/2020",
            "method": "animate"
           }
          ],
          "x": 0.1,
          "xanchor": "left",
          "y": 0,
          "yanchor": "top"
         }
        ],
        "template": {
         "data": {
          "bar": [
           {
            "error_x": {
             "color": "#2a3f5f"
            },
            "error_y": {
             "color": "#2a3f5f"
            },
            "marker": {
             "line": {
              "color": "#E5ECF6",
              "width": 0.5
             }
            },
            "type": "bar"
           }
          ],
          "barpolar": [
           {
            "marker": {
             "line": {
              "color": "#E5ECF6",
              "width": 0.5
             }
            },
            "type": "barpolar"
           }
          ],
          "carpet": [
           {
            "aaxis": {
             "endlinecolor": "#2a3f5f",
             "gridcolor": "white",
             "linecolor": "white",
             "minorgridcolor": "white",
             "startlinecolor": "#2a3f5f"
            },
            "baxis": {
             "endlinecolor": "#2a3f5f",
             "gridcolor": "white",
             "linecolor": "white",
             "minorgridcolor": "white",
             "startlinecolor": "#2a3f5f"
            },
            "type": "carpet"
           }
          ],
          "choropleth": [
           {
            "colorbar": {
             "outlinewidth": 0,
             "ticks": ""
            },
            "type": "choropleth"
           }
          ],
          "contour": [
           {
            "colorbar": {
             "outlinewidth": 0,
             "ticks": ""
            },
            "colorscale": [
             [
              0,
              "#0d0887"
             ],
             [
              0.1111111111111111,
              "#46039f"
             ],
             [
              0.2222222222222222,
              "#7201a8"
             ],
             [
              0.3333333333333333,
              "#9c179e"
             ],
             [
              0.4444444444444444,
              "#bd3786"
             ],
             [
              0.5555555555555556,
              "#d8576b"
             ],
             [
              0.6666666666666666,
              "#ed7953"
             ],
             [
              0.7777777777777778,
              "#fb9f3a"
             ],
             [
              0.8888888888888888,
              "#fdca26"
             ],
             [
              1,
              "#f0f921"
             ]
            ],
            "type": "contour"
           }
          ],
          "contourcarpet": [
           {
            "colorbar": {
             "outlinewidth": 0,
             "ticks": ""
            },
            "type": "contourcarpet"
           }
          ],
          "heatmap": [
           {
            "colorbar": {
             "outlinewidth": 0,
             "ticks": ""
            },
            "colorscale": [
             [
              0,
              "#0d0887"
             ],
             [
              0.1111111111111111,
              "#46039f"
             ],
             [
              0.2222222222222222,
              "#7201a8"
             ],
             [
              0.3333333333333333,
              "#9c179e"
             ],
             [
              0.4444444444444444,
              "#bd3786"
             ],
             [
              0.5555555555555556,
              "#d8576b"
             ],
             [
              0.6666666666666666,
              "#ed7953"
             ],
             [
              0.7777777777777778,
              "#fb9f3a"
             ],
             [
              0.8888888888888888,
              "#fdca26"
             ],
             [
              1,
              "#f0f921"
             ]
            ],
            "type": "heatmap"
           }
          ],
          "heatmapgl": [
           {
            "colorbar": {
             "outlinewidth": 0,
             "ticks": ""
            },
            "colorscale": [
             [
              0,
              "#0d0887"
             ],
             [
              0.1111111111111111,
              "#46039f"
             ],
             [
              0.2222222222222222,
              "#7201a8"
             ],
             [
              0.3333333333333333,
              "#9c179e"
             ],
             [
              0.4444444444444444,
              "#bd3786"
             ],
             [
              0.5555555555555556,
              "#d8576b"
             ],
             [
              0.6666666666666666,
              "#ed7953"
             ],
             [
              0.7777777777777778,
              "#fb9f3a"
             ],
             [
              0.8888888888888888,
              "#fdca26"
             ],
             [
              1,
              "#f0f921"
             ]
            ],
            "type": "heatmapgl"
           }
          ],
          "histogram": [
           {
            "marker": {
             "colorbar": {
              "outlinewidth": 0,
              "ticks": ""
             }
            },
            "type": "histogram"
           }
          ],
          "histogram2d": [
           {
            "colorbar": {
             "outlinewidth": 0,
             "ticks": ""
            },
            "colorscale": [
             [
              0,
              "#0d0887"
             ],
             [
              0.1111111111111111,
              "#46039f"
             ],
             [
              0.2222222222222222,
              "#7201a8"
             ],
             [
              0.3333333333333333,
              "#9c179e"
             ],
             [
              0.4444444444444444,
              "#bd3786"
             ],
             [
              0.5555555555555556,
              "#d8576b"
             ],
             [
              0.6666666666666666,
              "#ed7953"
             ],
             [
              0.7777777777777778,
              "#fb9f3a"
             ],
             [
              0.8888888888888888,
              "#fdca26"
             ],
             [
              1,
              "#f0f921"
             ]
            ],
            "type": "histogram2d"
           }
          ],
          "histogram2dcontour": [
           {
            "colorbar": {
             "outlinewidth": 0,
             "ticks": ""
            },
            "colorscale": [
             [
              0,
              "#0d0887"
             ],
             [
              0.1111111111111111,
              "#46039f"
             ],
             [
              0.2222222222222222,
              "#7201a8"
             ],
             [
              0.3333333333333333,
              "#9c179e"
             ],
             [
              0.4444444444444444,
              "#bd3786"
             ],
             [
              0.5555555555555556,
              "#d8576b"
             ],
             [
              0.6666666666666666,
              "#ed7953"
             ],
             [
              0.7777777777777778,
              "#fb9f3a"
             ],
             [
              0.8888888888888888,
              "#fdca26"
             ],
             [
              1,
              "#f0f921"
             ]
            ],
            "type": "histogram2dcontour"
           }
          ],
          "mesh3d": [
           {
            "colorbar": {
             "outlinewidth": 0,
             "ticks": ""
            },
            "type": "mesh3d"
           }
          ],
          "parcoords": [
           {
            "line": {
             "colorbar": {
              "outlinewidth": 0,
              "ticks": ""
             }
            },
            "type": "parcoords"
           }
          ],
          "pie": [
           {
            "automargin": true,
            "type": "pie"
           }
          ],
          "scatter": [
           {
            "marker": {
             "colorbar": {
              "outlinewidth": 0,
              "ticks": ""
             }
            },
            "type": "scatter"
           }
          ],
          "scatter3d": [
           {
            "line": {
             "colorbar": {
              "outlinewidth": 0,
              "ticks": ""
             }
            },
            "marker": {
             "colorbar": {
              "outlinewidth": 0,
              "ticks": ""
             }
            },
            "type": "scatter3d"
           }
          ],
          "scattercarpet": [
           {
            "marker": {
             "colorbar": {
              "outlinewidth": 0,
              "ticks": ""
             }
            },
            "type": "scattercarpet"
           }
          ],
          "scattergeo": [
           {
            "marker": {
             "colorbar": {
              "outlinewidth": 0,
              "ticks": ""
             }
            },
            "type": "scattergeo"
           }
          ],
          "scattergl": [
           {
            "marker": {
             "colorbar": {
              "outlinewidth": 0,
              "ticks": ""
             }
            },
            "type": "scattergl"
           }
          ],
          "scattermapbox": [
           {
            "marker": {
             "colorbar": {
              "outlinewidth": 0,
              "ticks": ""
             }
            },
            "type": "scattermapbox"
           }
          ],
          "scatterpolar": [
           {
            "marker": {
             "colorbar": {
              "outlinewidth": 0,
              "ticks": ""
             }
            },
            "type": "scatterpolar"
           }
          ],
          "scatterpolargl": [
           {
            "marker": {
             "colorbar": {
              "outlinewidth": 0,
              "ticks": ""
             }
            },
            "type": "scatterpolargl"
           }
          ],
          "scatterternary": [
           {
            "marker": {
             "colorbar": {
              "outlinewidth": 0,
              "ticks": ""
             }
            },
            "type": "scatterternary"
           }
          ],
          "surface": [
           {
            "colorbar": {
             "outlinewidth": 0,
             "ticks": ""
            },
            "colorscale": [
             [
              0,
              "#0d0887"
             ],
             [
              0.1111111111111111,
              "#46039f"
             ],
             [
              0.2222222222222222,
              "#7201a8"
             ],
             [
              0.3333333333333333,
              "#9c179e"
             ],
             [
              0.4444444444444444,
              "#bd3786"
             ],
             [
              0.5555555555555556,
              "#d8576b"
             ],
             [
              0.6666666666666666,
              "#ed7953"
             ],
             [
              0.7777777777777778,
              "#fb9f3a"
             ],
             [
              0.8888888888888888,
              "#fdca26"
             ],
             [
              1,
              "#f0f921"
             ]
            ],
            "type": "surface"
           }
          ],
          "table": [
           {
            "cells": {
             "fill": {
              "color": "#EBF0F8"
             },
             "line": {
              "color": "white"
             }
            },
            "header": {
             "fill": {
              "color": "#C8D4E3"
             },
             "line": {
              "color": "white"
             }
            },
            "type": "table"
           }
          ]
         },
         "layout": {
          "annotationdefaults": {
           "arrowcolor": "#2a3f5f",
           "arrowhead": 0,
           "arrowwidth": 1
          },
          "coloraxis": {
           "colorbar": {
            "outlinewidth": 0,
            "ticks": ""
           }
          },
          "colorscale": {
           "diverging": [
            [
             0,
             "#8e0152"
            ],
            [
             0.1,
             "#c51b7d"
            ],
            [
             0.2,
             "#de77ae"
            ],
            [
             0.3,
             "#f1b6da"
            ],
            [
             0.4,
             "#fde0ef"
            ],
            [
             0.5,
             "#f7f7f7"
            ],
            [
             0.6,
             "#e6f5d0"
            ],
            [
             0.7,
             "#b8e186"
            ],
            [
             0.8,
             "#7fbc41"
            ],
            [
             0.9,
             "#4d9221"
            ],
            [
             1,
             "#276419"
            ]
           ],
           "sequential": [
            [
             0,
             "#0d0887"
            ],
            [
             0.1111111111111111,
             "#46039f"
            ],
            [
             0.2222222222222222,
             "#7201a8"
            ],
            [
             0.3333333333333333,
             "#9c179e"
            ],
            [
             0.4444444444444444,
             "#bd3786"
            ],
            [
             0.5555555555555556,
             "#d8576b"
            ],
            [
             0.6666666666666666,
             "#ed7953"
            ],
            [
             0.7777777777777778,
             "#fb9f3a"
            ],
            [
             0.8888888888888888,
             "#fdca26"
            ],
            [
             1,
             "#f0f921"
            ]
           ],
           "sequentialminus": [
            [
             0,
             "#0d0887"
            ],
            [
             0.1111111111111111,
             "#46039f"
            ],
            [
             0.2222222222222222,
             "#7201a8"
            ],
            [
             0.3333333333333333,
             "#9c179e"
            ],
            [
             0.4444444444444444,
             "#bd3786"
            ],
            [
             0.5555555555555556,
             "#d8576b"
            ],
            [
             0.6666666666666666,
             "#ed7953"
            ],
            [
             0.7777777777777778,
             "#fb9f3a"
            ],
            [
             0.8888888888888888,
             "#fdca26"
            ],
            [
             1,
             "#f0f921"
            ]
           ]
          },
          "colorway": [
           "#636efa",
           "#EF553B",
           "#00cc96",
           "#ab63fa",
           "#FFA15A",
           "#19d3f3",
           "#FF6692",
           "#B6E880",
           "#FF97FF",
           "#FECB52"
          ],
          "font": {
           "color": "#2a3f5f"
          },
          "geo": {
           "bgcolor": "white",
           "lakecolor": "white",
           "landcolor": "#E5ECF6",
           "showlakes": true,
           "showland": true,
           "subunitcolor": "white"
          },
          "hoverlabel": {
           "align": "left"
          },
          "hovermode": "closest",
          "mapbox": {
           "style": "light"
          },
          "paper_bgcolor": "white",
          "plot_bgcolor": "#E5ECF6",
          "polar": {
           "angularaxis": {
            "gridcolor": "white",
            "linecolor": "white",
            "ticks": ""
           },
           "bgcolor": "#E5ECF6",
           "radialaxis": {
            "gridcolor": "white",
            "linecolor": "white",
            "ticks": ""
           }
          },
          "scene": {
           "xaxis": {
            "backgroundcolor": "#E5ECF6",
            "gridcolor": "white",
            "gridwidth": 2,
            "linecolor": "white",
            "showbackground": true,
            "ticks": "",
            "zerolinecolor": "white"
           },
           "yaxis": {
            "backgroundcolor": "#E5ECF6",
            "gridcolor": "white",
            "gridwidth": 2,
            "linecolor": "white",
            "showbackground": true,
            "ticks": "",
            "zerolinecolor": "white"
           },
           "zaxis": {
            "backgroundcolor": "#E5ECF6",
            "gridcolor": "white",
            "gridwidth": 2,
            "linecolor": "white",
            "showbackground": true,
            "ticks": "",
            "zerolinecolor": "white"
           }
          },
          "shapedefaults": {
           "line": {
            "color": "#2a3f5f"
           }
          },
          "ternary": {
           "aaxis": {
            "gridcolor": "white",
            "linecolor": "white",
            "ticks": ""
           },
           "baxis": {
            "gridcolor": "white",
            "linecolor": "white",
            "ticks": ""
           },
           "bgcolor": "#E5ECF6",
           "caxis": {
            "gridcolor": "white",
            "linecolor": "white",
            "ticks": ""
           }
          },
          "title": {
           "x": 0.05
          },
          "xaxis": {
           "automargin": true,
           "gridcolor": "white",
           "linecolor": "white",
           "ticks": "",
           "title": {
            "standoff": 15
           },
           "zerolinecolor": "white",
           "zerolinewidth": 2
          },
          "yaxis": {
           "automargin": true,
           "gridcolor": "white",
           "linecolor": "white",
           "ticks": "",
           "title": {
            "standoff": 15
           },
           "zerolinecolor": "white",
           "zerolinewidth": 2
          }
         }
        },
        "title": {
         "text": "Spread of Coronavirus over time",
         "x": 0.5
        },
        "updatemenus": [
         {
          "buttons": [
           {
            "args": [
             null,
             {
              "frame": {
               "duration": 500,
               "redraw": true
              },
              "fromcurrent": true,
              "mode": "immediate",
              "transition": {
               "duration": 500,
               "easing": "linear"
              }
             }
            ],
            "label": "&#9654;",
            "method": "animate"
           },
           {
            "args": [
             [
              null
             ],
             {
              "frame": {
               "duration": 0,
               "redraw": true
              },
              "fromcurrent": true,
              "mode": "immediate",
              "transition": {
               "duration": 0,
               "easing": "linear"
              }
             }
            ],
            "label": "&#9724;",
            "method": "animate"
           }
          ],
          "direction": "left",
          "pad": {
           "r": 10,
           "t": 70
          },
          "showactive": false,
          "type": "buttons",
          "x": 0.1,
          "xanchor": "right",
          "y": 0,
          "yanchor": "top"
         }
        ]
       }
      },
      "text/html": [
       "<div>\n",
       "        \n",
       "        \n",
       "            <div id=\"02cc722c-b175-463c-9c52-cf68bb8e29dd\" class=\"plotly-graph-div\" style=\"height:525px; width:100%;\"></div>\n",
       "            <script type=\"text/javascript\">\n",
       "                require([\"plotly\"], function(Plotly) {\n",
       "                    window.PLOTLYENV=window.PLOTLYENV || {};\n",
       "                    \n",
       "                if (document.getElementById(\"02cc722c-b175-463c-9c52-cf68bb8e29dd\")) {\n",
       "                    Plotly.newPlot(\n",
       "                        '02cc722c-b175-463c-9c52-cf68bb8e29dd',\n",
       "                        [{\"coloraxis\": \"coloraxis\", \"geo\": \"geo\", \"hoverlabel\": {\"namelength\": 0}, \"hovertemplate\": \"<b>%{hovertext}</b><br><br>Date=01/22/2020<br>Country=%{location}<br>Confirmed=%{z}\", \"hovertext\": [\"Japan\", \"Macau\", \"Mainland China\", \"South Korea\", \"Taiwan\", \"Thailand\", \"US\"], \"locationmode\": \"country names\", \"locations\": [\"Japan\", \"Macau\", \"Mainland China\", \"South Korea\", \"Taiwan\", \"Thailand\", \"US\"], \"name\": \"\", \"type\": \"choropleth\", \"z\": [2.0, 1.0, 547.0, 1.0, 1.0, 2.0, 1.0]}],\n",
       "                        {\"coloraxis\": {\"colorbar\": {\"title\": {\"text\": \"Confirmed\"}}, \"colorscale\": [[0.0, \"#0d0887\"], [0.1111111111111111, \"#46039f\"], [0.2222222222222222, \"#7201a8\"], [0.3333333333333333, \"#9c179e\"], [0.4444444444444444, \"#bd3786\"], [0.5555555555555556, \"#d8576b\"], [0.6666666666666666, \"#ed7953\"], [0.7777777777777778, \"#fb9f3a\"], [0.8888888888888888, \"#fdca26\"], [1.0, \"#f0f921\"]]}, \"geo\": {\"center\": {}, \"domain\": {\"x\": [0.0, 1.0], \"y\": [0.0, 1.0]}, \"showcoastlines\": false, \"showframe\": true}, \"legend\": {\"tracegroupgap\": 0}, \"margin\": {\"t\": 60}, \"sliders\": [{\"active\": 0, \"currentvalue\": {\"prefix\": \"Date=\"}, \"len\": 0.9, \"pad\": {\"b\": 10, \"t\": 60}, \"steps\": [{\"args\": [[\"01/22/2020\"], {\"frame\": {\"duration\": 0, \"redraw\": true}, \"fromcurrent\": true, \"mode\": \"immediate\", \"transition\": {\"duration\": 0, \"easing\": \"linear\"}}], \"label\": \"01/22/2020\", \"method\": \"animate\"}, {\"args\": [[\"01/23/2020\"], {\"frame\": {\"duration\": 0, \"redraw\": true}, \"fromcurrent\": true, \"mode\": \"immediate\", \"transition\": {\"duration\": 0, \"easing\": \"linear\"}}], \"label\": \"01/23/2020\", \"method\": \"animate\"}, {\"args\": [[\"01/24/2020\"], {\"frame\": {\"duration\": 0, \"redraw\": true}, \"fromcurrent\": true, \"mode\": \"immediate\", \"transition\": {\"duration\": 0, \"easing\": \"linear\"}}], \"label\": \"01/24/2020\", \"method\": \"animate\"}, {\"args\": [[\"01/25/2020\"], {\"frame\": {\"duration\": 0, \"redraw\": true}, \"fromcurrent\": true, \"mode\": \"immediate\", \"transition\": {\"duration\": 0, \"easing\": \"linear\"}}], \"label\": \"01/25/2020\", \"method\": \"animate\"}, {\"args\": [[\"01/26/2020\"], {\"frame\": {\"duration\": 0, \"redraw\": true}, \"fromcurrent\": true, \"mode\": \"immediate\", \"transition\": {\"duration\": 0, \"easing\": \"linear\"}}], \"label\": \"01/26/2020\", \"method\": \"animate\"}, {\"args\": [[\"01/27/2020\"], {\"frame\": {\"duration\": 0, \"redraw\": true}, \"fromcurrent\": true, \"mode\": \"immediate\", \"transition\": {\"duration\": 0, \"easing\": \"linear\"}}], \"label\": \"01/27/2020\", \"method\": \"animate\"}, {\"args\": [[\"01/28/2020\"], {\"frame\": {\"duration\": 0, \"redraw\": true}, \"fromcurrent\": true, \"mode\": \"immediate\", \"transition\": {\"duration\": 0, \"easing\": \"linear\"}}], \"label\": \"01/28/2020\", \"method\": \"animate\"}, {\"args\": [[\"01/29/2020\"], {\"frame\": {\"duration\": 0, \"redraw\": true}, \"fromcurrent\": true, \"mode\": \"immediate\", \"transition\": {\"duration\": 0, \"easing\": \"linear\"}}], \"label\": \"01/29/2020\", \"method\": \"animate\"}, {\"args\": [[\"01/30/2020\"], {\"frame\": {\"duration\": 0, \"redraw\": true}, \"fromcurrent\": true, \"mode\": \"immediate\", \"transition\": {\"duration\": 0, \"easing\": \"linear\"}}], \"label\": \"01/30/2020\", \"method\": \"animate\"}, {\"args\": [[\"01/31/2020\"], {\"frame\": {\"duration\": 0, \"redraw\": true}, \"fromcurrent\": true, \"mode\": \"immediate\", \"transition\": {\"duration\": 0, \"easing\": \"linear\"}}], \"label\": \"01/31/2020\", \"method\": \"animate\"}, {\"args\": [[\"02/01/2020\"], {\"frame\": {\"duration\": 0, \"redraw\": true}, \"fromcurrent\": true, \"mode\": \"immediate\", \"transition\": {\"duration\": 0, \"easing\": \"linear\"}}], \"label\": \"02/01/2020\", \"method\": \"animate\"}, {\"args\": [[\"02/02/2020\"], {\"frame\": {\"duration\": 0, \"redraw\": true}, \"fromcurrent\": true, \"mode\": \"immediate\", \"transition\": {\"duration\": 0, \"easing\": \"linear\"}}], \"label\": \"02/02/2020\", \"method\": \"animate\"}, {\"args\": [[\"02/03/2020\"], {\"frame\": {\"duration\": 0, \"redraw\": true}, \"fromcurrent\": true, \"mode\": \"immediate\", \"transition\": {\"duration\": 0, \"easing\": \"linear\"}}], \"label\": \"02/03/2020\", \"method\": \"animate\"}, {\"args\": [[\"02/04/2020\"], {\"frame\": {\"duration\": 0, \"redraw\": true}, \"fromcurrent\": true, \"mode\": \"immediate\", \"transition\": {\"duration\": 0, \"easing\": \"linear\"}}], \"label\": \"02/04/2020\", \"method\": \"animate\"}, {\"args\": [[\"02/05/2020\"], {\"frame\": {\"duration\": 0, \"redraw\": true}, \"fromcurrent\": true, \"mode\": \"immediate\", \"transition\": {\"duration\": 0, \"easing\": \"linear\"}}], \"label\": \"02/05/2020\", \"method\": \"animate\"}, {\"args\": [[\"02/06/2020\"], {\"frame\": {\"duration\": 0, \"redraw\": true}, \"fromcurrent\": true, \"mode\": \"immediate\", \"transition\": {\"duration\": 0, \"easing\": \"linear\"}}], \"label\": \"02/06/2020\", \"method\": \"animate\"}, {\"args\": [[\"02/07/2020\"], {\"frame\": {\"duration\": 0, \"redraw\": true}, \"fromcurrent\": true, \"mode\": \"immediate\", \"transition\": {\"duration\": 0, \"easing\": \"linear\"}}], \"label\": \"02/07/2020\", \"method\": \"animate\"}, {\"args\": [[\"02/08/2020\"], {\"frame\": {\"duration\": 0, \"redraw\": true}, \"fromcurrent\": true, \"mode\": \"immediate\", \"transition\": {\"duration\": 0, \"easing\": \"linear\"}}], \"label\": \"02/08/2020\", \"method\": \"animate\"}, {\"args\": [[\"02/09/2020\"], {\"frame\": {\"duration\": 0, \"redraw\": true}, \"fromcurrent\": true, \"mode\": \"immediate\", \"transition\": {\"duration\": 0, \"easing\": \"linear\"}}], \"label\": \"02/09/2020\", \"method\": \"animate\"}, {\"args\": [[\"02/10/2020\"], {\"frame\": {\"duration\": 0, \"redraw\": true}, \"fromcurrent\": true, \"mode\": \"immediate\", \"transition\": {\"duration\": 0, \"easing\": \"linear\"}}], \"label\": \"02/10/2020\", \"method\": \"animate\"}, {\"args\": [[\"02/11/2020\"], {\"frame\": {\"duration\": 0, \"redraw\": true}, \"fromcurrent\": true, \"mode\": \"immediate\", \"transition\": {\"duration\": 0, \"easing\": \"linear\"}}], \"label\": \"02/11/2020\", \"method\": \"animate\"}, {\"args\": [[\"02/12/2020\"], {\"frame\": {\"duration\": 0, \"redraw\": true}, \"fromcurrent\": true, \"mode\": \"immediate\", \"transition\": {\"duration\": 0, \"easing\": \"linear\"}}], \"label\": \"02/12/2020\", \"method\": \"animate\"}, {\"args\": [[\"02/13/2020\"], {\"frame\": {\"duration\": 0, \"redraw\": true}, \"fromcurrent\": true, \"mode\": \"immediate\", \"transition\": {\"duration\": 0, \"easing\": \"linear\"}}], \"label\": \"02/13/2020\", \"method\": \"animate\"}, {\"args\": [[\"02/14/2020\"], {\"frame\": {\"duration\": 0, \"redraw\": true}, \"fromcurrent\": true, \"mode\": \"immediate\", \"transition\": {\"duration\": 0, \"easing\": \"linear\"}}], \"label\": \"02/14/2020\", \"method\": \"animate\"}, {\"args\": [[\"02/15/2020\"], {\"frame\": {\"duration\": 0, \"redraw\": true}, \"fromcurrent\": true, \"mode\": \"immediate\", \"transition\": {\"duration\": 0, \"easing\": \"linear\"}}], \"label\": \"02/15/2020\", \"method\": \"animate\"}, {\"args\": [[\"02/16/2020\"], {\"frame\": {\"duration\": 0, \"redraw\": true}, \"fromcurrent\": true, \"mode\": \"immediate\", \"transition\": {\"duration\": 0, \"easing\": \"linear\"}}], \"label\": \"02/16/2020\", \"method\": \"animate\"}, {\"args\": [[\"02/17/2020\"], {\"frame\": {\"duration\": 0, \"redraw\": true}, \"fromcurrent\": true, \"mode\": \"immediate\", \"transition\": {\"duration\": 0, \"easing\": \"linear\"}}], \"label\": \"02/17/2020\", \"method\": \"animate\"}, {\"args\": [[\"02/18/2020\"], {\"frame\": {\"duration\": 0, \"redraw\": true}, \"fromcurrent\": true, \"mode\": \"immediate\", \"transition\": {\"duration\": 0, \"easing\": \"linear\"}}], \"label\": \"02/18/2020\", \"method\": \"animate\"}, {\"args\": [[\"02/19/2020\"], {\"frame\": {\"duration\": 0, \"redraw\": true}, \"fromcurrent\": true, \"mode\": \"immediate\", \"transition\": {\"duration\": 0, \"easing\": \"linear\"}}], \"label\": \"02/19/2020\", \"method\": \"animate\"}, {\"args\": [[\"02/20/2020\"], {\"frame\": {\"duration\": 0, \"redraw\": true}, \"fromcurrent\": true, \"mode\": \"immediate\", \"transition\": {\"duration\": 0, \"easing\": \"linear\"}}], \"label\": \"02/20/2020\", \"method\": \"animate\"}, {\"args\": [[\"02/21/2020\"], {\"frame\": {\"duration\": 0, \"redraw\": true}, \"fromcurrent\": true, \"mode\": \"immediate\", \"transition\": {\"duration\": 0, \"easing\": \"linear\"}}], \"label\": \"02/21/2020\", \"method\": \"animate\"}, {\"args\": [[\"02/22/2020\"], {\"frame\": {\"duration\": 0, \"redraw\": true}, \"fromcurrent\": true, \"mode\": \"immediate\", \"transition\": {\"duration\": 0, \"easing\": \"linear\"}}], \"label\": \"02/22/2020\", \"method\": \"animate\"}, {\"args\": [[\"02/23/2020\"], {\"frame\": {\"duration\": 0, \"redraw\": true}, \"fromcurrent\": true, \"mode\": \"immediate\", \"transition\": {\"duration\": 0, \"easing\": \"linear\"}}], \"label\": \"02/23/2020\", \"method\": \"animate\"}, {\"args\": [[\"02/24/2020\"], {\"frame\": {\"duration\": 0, \"redraw\": true}, \"fromcurrent\": true, \"mode\": \"immediate\", \"transition\": {\"duration\": 0, \"easing\": \"linear\"}}], \"label\": \"02/24/2020\", \"method\": \"animate\"}, {\"args\": [[\"02/25/2020\"], {\"frame\": {\"duration\": 0, \"redraw\": true}, \"fromcurrent\": true, \"mode\": \"immediate\", \"transition\": {\"duration\": 0, \"easing\": \"linear\"}}], \"label\": \"02/25/2020\", \"method\": \"animate\"}, {\"args\": [[\"02/26/2020\"], {\"frame\": {\"duration\": 0, \"redraw\": true}, \"fromcurrent\": true, \"mode\": \"immediate\", \"transition\": {\"duration\": 0, \"easing\": \"linear\"}}], \"label\": \"02/26/2020\", \"method\": \"animate\"}, {\"args\": [[\"02/27/2020\"], {\"frame\": {\"duration\": 0, \"redraw\": true}, \"fromcurrent\": true, \"mode\": \"immediate\", \"transition\": {\"duration\": 0, \"easing\": \"linear\"}}], \"label\": \"02/27/2020\", \"method\": \"animate\"}, {\"args\": [[\"02/28/2020\"], {\"frame\": {\"duration\": 0, \"redraw\": true}, \"fromcurrent\": true, \"mode\": \"immediate\", \"transition\": {\"duration\": 0, \"easing\": \"linear\"}}], \"label\": \"02/28/2020\", \"method\": \"animate\"}, {\"args\": [[\"02/29/2020\"], {\"frame\": {\"duration\": 0, \"redraw\": true}, \"fromcurrent\": true, \"mode\": \"immediate\", \"transition\": {\"duration\": 0, \"easing\": \"linear\"}}], \"label\": \"02/29/2020\", \"method\": \"animate\"}, {\"args\": [[\"03/01/2020\"], {\"frame\": {\"duration\": 0, \"redraw\": true}, \"fromcurrent\": true, \"mode\": \"immediate\", \"transition\": {\"duration\": 0, \"easing\": \"linear\"}}], \"label\": \"03/01/2020\", \"method\": \"animate\"}, {\"args\": [[\"03/02/2020\"], {\"frame\": {\"duration\": 0, \"redraw\": true}, \"fromcurrent\": true, \"mode\": \"immediate\", \"transition\": {\"duration\": 0, \"easing\": \"linear\"}}], \"label\": \"03/02/2020\", \"method\": \"animate\"}], \"x\": 0.1, \"xanchor\": \"left\", \"y\": 0, \"yanchor\": \"top\"}], \"template\": {\"data\": {\"bar\": [{\"error_x\": {\"color\": \"#2a3f5f\"}, \"error_y\": {\"color\": \"#2a3f5f\"}, \"marker\": {\"line\": {\"color\": \"#E5ECF6\", \"width\": 0.5}}, \"type\": \"bar\"}], \"barpolar\": [{\"marker\": {\"line\": {\"color\": \"#E5ECF6\", \"width\": 0.5}}, \"type\": \"barpolar\"}], \"carpet\": [{\"aaxis\": {\"endlinecolor\": \"#2a3f5f\", \"gridcolor\": \"white\", \"linecolor\": \"white\", \"minorgridcolor\": \"white\", \"startlinecolor\": \"#2a3f5f\"}, \"baxis\": {\"endlinecolor\": \"#2a3f5f\", \"gridcolor\": \"white\", \"linecolor\": \"white\", \"minorgridcolor\": \"white\", \"startlinecolor\": \"#2a3f5f\"}, \"type\": \"carpet\"}], \"choropleth\": [{\"colorbar\": {\"outlinewidth\": 0, \"ticks\": \"\"}, \"type\": \"choropleth\"}], \"contour\": [{\"colorbar\": {\"outlinewidth\": 0, \"ticks\": \"\"}, \"colorscale\": [[0.0, \"#0d0887\"], [0.1111111111111111, \"#46039f\"], [0.2222222222222222, \"#7201a8\"], [0.3333333333333333, \"#9c179e\"], [0.4444444444444444, \"#bd3786\"], [0.5555555555555556, \"#d8576b\"], [0.6666666666666666, \"#ed7953\"], [0.7777777777777778, \"#fb9f3a\"], [0.8888888888888888, \"#fdca26\"], [1.0, \"#f0f921\"]], \"type\": \"contour\"}], \"contourcarpet\": [{\"colorbar\": {\"outlinewidth\": 0, \"ticks\": \"\"}, \"type\": \"contourcarpet\"}], \"heatmap\": [{\"colorbar\": {\"outlinewidth\": 0, \"ticks\": \"\"}, \"colorscale\": [[0.0, \"#0d0887\"], [0.1111111111111111, \"#46039f\"], [0.2222222222222222, \"#7201a8\"], [0.3333333333333333, \"#9c179e\"], [0.4444444444444444, \"#bd3786\"], [0.5555555555555556, \"#d8576b\"], [0.6666666666666666, \"#ed7953\"], [0.7777777777777778, \"#fb9f3a\"], [0.8888888888888888, \"#fdca26\"], [1.0, \"#f0f921\"]], \"type\": \"heatmap\"}], \"heatmapgl\": [{\"colorbar\": {\"outlinewidth\": 0, \"ticks\": \"\"}, \"colorscale\": [[0.0, \"#0d0887\"], [0.1111111111111111, \"#46039f\"], [0.2222222222222222, \"#7201a8\"], [0.3333333333333333, \"#9c179e\"], [0.4444444444444444, \"#bd3786\"], [0.5555555555555556, \"#d8576b\"], [0.6666666666666666, \"#ed7953\"], [0.7777777777777778, \"#fb9f3a\"], [0.8888888888888888, \"#fdca26\"], [1.0, \"#f0f921\"]], \"type\": \"heatmapgl\"}], \"histogram\": [{\"marker\": {\"colorbar\": {\"outlinewidth\": 0, \"ticks\": \"\"}}, \"type\": \"histogram\"}], \"histogram2d\": [{\"colorbar\": {\"outlinewidth\": 0, \"ticks\": \"\"}, \"colorscale\": [[0.0, \"#0d0887\"], [0.1111111111111111, \"#46039f\"], [0.2222222222222222, \"#7201a8\"], [0.3333333333333333, \"#9c179e\"], [0.4444444444444444, \"#bd3786\"], [0.5555555555555556, \"#d8576b\"], [0.6666666666666666, \"#ed7953\"], [0.7777777777777778, \"#fb9f3a\"], [0.8888888888888888, \"#fdca26\"], [1.0, \"#f0f921\"]], \"type\": \"histogram2d\"}], \"histogram2dcontour\": [{\"colorbar\": {\"outlinewidth\": 0, \"ticks\": \"\"}, \"colorscale\": [[0.0, \"#0d0887\"], [0.1111111111111111, \"#46039f\"], [0.2222222222222222, \"#7201a8\"], [0.3333333333333333, \"#9c179e\"], [0.4444444444444444, \"#bd3786\"], [0.5555555555555556, \"#d8576b\"], [0.6666666666666666, \"#ed7953\"], [0.7777777777777778, \"#fb9f3a\"], [0.8888888888888888, \"#fdca26\"], [1.0, \"#f0f921\"]], \"type\": \"histogram2dcontour\"}], \"mesh3d\": [{\"colorbar\": {\"outlinewidth\": 0, \"ticks\": \"\"}, \"type\": \"mesh3d\"}], \"parcoords\": [{\"line\": {\"colorbar\": {\"outlinewidth\": 0, \"ticks\": \"\"}}, \"type\": \"parcoords\"}], \"pie\": [{\"automargin\": true, \"type\": \"pie\"}], \"scatter\": [{\"marker\": {\"colorbar\": {\"outlinewidth\": 0, \"ticks\": \"\"}}, \"type\": \"scatter\"}], \"scatter3d\": [{\"line\": {\"colorbar\": {\"outlinewidth\": 0, \"ticks\": \"\"}}, \"marker\": {\"colorbar\": {\"outlinewidth\": 0, \"ticks\": \"\"}}, \"type\": \"scatter3d\"}], \"scattercarpet\": [{\"marker\": {\"colorbar\": {\"outlinewidth\": 0, \"ticks\": \"\"}}, \"type\": \"scattercarpet\"}], \"scattergeo\": [{\"marker\": {\"colorbar\": {\"outlinewidth\": 0, \"ticks\": \"\"}}, \"type\": \"scattergeo\"}], \"scattergl\": [{\"marker\": {\"colorbar\": {\"outlinewidth\": 0, \"ticks\": \"\"}}, \"type\": \"scattergl\"}], \"scattermapbox\": [{\"marker\": {\"colorbar\": {\"outlinewidth\": 0, \"ticks\": \"\"}}, \"type\": \"scattermapbox\"}], \"scatterpolar\": [{\"marker\": {\"colorbar\": {\"outlinewidth\": 0, \"ticks\": \"\"}}, \"type\": \"scatterpolar\"}], \"scatterpolargl\": [{\"marker\": {\"colorbar\": {\"outlinewidth\": 0, \"ticks\": \"\"}}, \"type\": \"scatterpolargl\"}], \"scatterternary\": [{\"marker\": {\"colorbar\": {\"outlinewidth\": 0, \"ticks\": \"\"}}, \"type\": \"scatterternary\"}], \"surface\": [{\"colorbar\": {\"outlinewidth\": 0, \"ticks\": \"\"}, \"colorscale\": [[0.0, \"#0d0887\"], [0.1111111111111111, \"#46039f\"], [0.2222222222222222, \"#7201a8\"], [0.3333333333333333, \"#9c179e\"], [0.4444444444444444, \"#bd3786\"], [0.5555555555555556, \"#d8576b\"], [0.6666666666666666, \"#ed7953\"], [0.7777777777777778, \"#fb9f3a\"], [0.8888888888888888, \"#fdca26\"], [1.0, \"#f0f921\"]], \"type\": \"surface\"}], \"table\": [{\"cells\": {\"fill\": {\"color\": \"#EBF0F8\"}, \"line\": {\"color\": \"white\"}}, \"header\": {\"fill\": {\"color\": \"#C8D4E3\"}, \"line\": {\"color\": \"white\"}}, \"type\": \"table\"}]}, \"layout\": {\"annotationdefaults\": {\"arrowcolor\": \"#2a3f5f\", \"arrowhead\": 0, \"arrowwidth\": 1}, \"coloraxis\": {\"colorbar\": {\"outlinewidth\": 0, \"ticks\": \"\"}}, \"colorscale\": {\"diverging\": [[0, \"#8e0152\"], [0.1, \"#c51b7d\"], [0.2, \"#de77ae\"], [0.3, \"#f1b6da\"], [0.4, \"#fde0ef\"], [0.5, \"#f7f7f7\"], [0.6, \"#e6f5d0\"], [0.7, \"#b8e186\"], [0.8, \"#7fbc41\"], [0.9, \"#4d9221\"], [1, \"#276419\"]], \"sequential\": [[0.0, \"#0d0887\"], [0.1111111111111111, \"#46039f\"], [0.2222222222222222, \"#7201a8\"], [0.3333333333333333, \"#9c179e\"], [0.4444444444444444, \"#bd3786\"], [0.5555555555555556, \"#d8576b\"], [0.6666666666666666, \"#ed7953\"], [0.7777777777777778, \"#fb9f3a\"], [0.8888888888888888, \"#fdca26\"], [1.0, \"#f0f921\"]], \"sequentialminus\": [[0.0, \"#0d0887\"], [0.1111111111111111, \"#46039f\"], [0.2222222222222222, \"#7201a8\"], [0.3333333333333333, \"#9c179e\"], [0.4444444444444444, \"#bd3786\"], [0.5555555555555556, \"#d8576b\"], [0.6666666666666666, \"#ed7953\"], [0.7777777777777778, \"#fb9f3a\"], [0.8888888888888888, \"#fdca26\"], [1.0, \"#f0f921\"]]}, \"colorway\": [\"#636efa\", \"#EF553B\", \"#00cc96\", \"#ab63fa\", \"#FFA15A\", \"#19d3f3\", \"#FF6692\", \"#B6E880\", \"#FF97FF\", \"#FECB52\"], \"font\": {\"color\": \"#2a3f5f\"}, \"geo\": {\"bgcolor\": \"white\", \"lakecolor\": \"white\", \"landcolor\": \"#E5ECF6\", \"showlakes\": true, \"showland\": true, \"subunitcolor\": \"white\"}, \"hoverlabel\": {\"align\": \"left\"}, \"hovermode\": \"closest\", \"mapbox\": {\"style\": \"light\"}, \"paper_bgcolor\": \"white\", \"plot_bgcolor\": \"#E5ECF6\", \"polar\": {\"angularaxis\": {\"gridcolor\": \"white\", \"linecolor\": \"white\", \"ticks\": \"\"}, \"bgcolor\": \"#E5ECF6\", \"radialaxis\": {\"gridcolor\": \"white\", \"linecolor\": \"white\", \"ticks\": \"\"}}, \"scene\": {\"xaxis\": {\"backgroundcolor\": \"#E5ECF6\", \"gridcolor\": \"white\", \"gridwidth\": 2, \"linecolor\": \"white\", \"showbackground\": true, \"ticks\": \"\", \"zerolinecolor\": \"white\"}, \"yaxis\": {\"backgroundcolor\": \"#E5ECF6\", \"gridcolor\": \"white\", \"gridwidth\": 2, \"linecolor\": \"white\", \"showbackground\": true, \"ticks\": \"\", \"zerolinecolor\": \"white\"}, \"zaxis\": {\"backgroundcolor\": \"#E5ECF6\", \"gridcolor\": \"white\", \"gridwidth\": 2, \"linecolor\": \"white\", \"showbackground\": true, \"ticks\": \"\", \"zerolinecolor\": \"white\"}}, \"shapedefaults\": {\"line\": {\"color\": \"#2a3f5f\"}}, \"ternary\": {\"aaxis\": {\"gridcolor\": \"white\", \"linecolor\": \"white\", \"ticks\": \"\"}, \"baxis\": {\"gridcolor\": \"white\", \"linecolor\": \"white\", \"ticks\": \"\"}, \"bgcolor\": \"#E5ECF6\", \"caxis\": {\"gridcolor\": \"white\", \"linecolor\": \"white\", \"ticks\": \"\"}}, \"title\": {\"x\": 0.05}, \"xaxis\": {\"automargin\": true, \"gridcolor\": \"white\", \"linecolor\": \"white\", \"ticks\": \"\", \"title\": {\"standoff\": 15}, \"zerolinecolor\": \"white\", \"zerolinewidth\": 2}, \"yaxis\": {\"automargin\": true, \"gridcolor\": \"white\", \"linecolor\": \"white\", \"ticks\": \"\", \"title\": {\"standoff\": 15}, \"zerolinecolor\": \"white\", \"zerolinewidth\": 2}}}, \"title\": {\"text\": \"Spread of Coronavirus over time\", \"x\": 0.5}, \"updatemenus\": [{\"buttons\": [{\"args\": [null, {\"frame\": {\"duration\": 500, \"redraw\": true}, \"fromcurrent\": true, \"mode\": \"immediate\", \"transition\": {\"duration\": 500, \"easing\": \"linear\"}}], \"label\": \"&#9654;\", \"method\": \"animate\"}, {\"args\": [[null], {\"frame\": {\"duration\": 0, \"redraw\": true}, \"fromcurrent\": true, \"mode\": \"immediate\", \"transition\": {\"duration\": 0, \"easing\": \"linear\"}}], \"label\": \"&#9724;\", \"method\": \"animate\"}], \"direction\": \"left\", \"pad\": {\"r\": 10, \"t\": 70}, \"showactive\": false, \"type\": \"buttons\", \"x\": 0.1, \"xanchor\": \"right\", \"y\": 0, \"yanchor\": \"top\"}]},\n",
       "                        {\"responsive\": true}\n",
       "                    ).then(function(){\n",
       "                            Plotly.addFrames('02cc722c-b175-463c-9c52-cf68bb8e29dd', [{\"data\": [{\"coloraxis\": \"coloraxis\", \"geo\": \"geo\", \"hoverlabel\": {\"namelength\": 0}, \"hovertemplate\": \"<b>%{hovertext}</b><br><br>Date=01/22/2020<br>Country=%{location}<br>Confirmed=%{z}\", \"hovertext\": [\"Japan\", \"Macau\", \"Mainland China\", \"South Korea\", \"Taiwan\", \"Thailand\", \"US\"], \"locationmode\": \"country names\", \"locations\": [\"Japan\", \"Macau\", \"Mainland China\", \"South Korea\", \"Taiwan\", \"Thailand\", \"US\"], \"name\": \"\", \"z\": [2.0, 1.0, 547.0, 1.0, 1.0, 2.0, 1.0], \"type\": \"choropleth\"}], \"name\": \"01/22/2020\"}, {\"data\": [{\"coloraxis\": \"coloraxis\", \"geo\": \"geo\", \"hoverlabel\": {\"namelength\": 0}, \"hovertemplate\": \"<b>%{hovertext}</b><br><br>Date=01/23/2020<br>Country=%{location}<br>Confirmed=%{z}\", \"hovertext\": [\"Hong Kong\", \"Japan\", \"Macau\", \"Mainland China\", \"Singapore\", \"South Korea\", \"Taiwan\", \"Thailand\", \"US\", \"Vietnam\"], \"locationmode\": \"country names\", \"locations\": [\"Hong Kong\", \"Japan\", \"Macau\", \"Mainland China\", \"Singapore\", \"South Korea\", \"Taiwan\", \"Thailand\", \"US\", \"Vietnam\"], \"name\": \"\", \"z\": [2.0, 1.0, 2.0, 639.0, 1.0, 1.0, 1.0, 3.0, 1.0, 2.0], \"type\": \"choropleth\"}], \"name\": \"01/23/2020\"}, {\"data\": [{\"coloraxis\": \"coloraxis\", \"geo\": \"geo\", \"hoverlabel\": {\"namelength\": 0}, \"hovertemplate\": \"<b>%{hovertext}</b><br><br>Date=01/24/2020<br>Country=%{location}<br>Confirmed=%{z}\", \"hovertext\": [\"France\", \"Hong Kong\", \"Japan\", \"Macau\", \"Mainland China\", \"Singapore\", \"South Korea\", \"Taiwan\", \"Thailand\", \"US\", \"Vietnam\"], \"locationmode\": \"country names\", \"locations\": [\"France\", \"Hong Kong\", \"Japan\", \"Macau\", \"Mainland China\", \"Singapore\", \"South Korea\", \"Taiwan\", \"Thailand\", \"US\", \"Vietnam\"], \"name\": \"\", \"z\": [2.0, 2.0, 2.0, 2.0, 916.0, 3.0, 2.0, 3.0, 5.0, 2.0, 2.0], \"type\": \"choropleth\"}], \"name\": \"01/24/2020\"}, {\"data\": [{\"coloraxis\": \"coloraxis\", \"geo\": \"geo\", \"hoverlabel\": {\"namelength\": 0}, \"hovertemplate\": \"<b>%{hovertext}</b><br><br>Date=01/25/2020<br>Country=%{location}<br>Confirmed=%{z}\", \"hovertext\": [\"Australia\", \"France\", \"Hong Kong\", \"Japan\", \"Macau\", \"Mainland China\", \"Malaysia\", \"Nepal\", \"Singapore\", \"South Korea\", \"Taiwan\", \"Thailand\", \"US\", \"Vietnam\"], \"locationmode\": \"country names\", \"locations\": [\"Australia\", \"France\", \"Hong Kong\", \"Japan\", \"Macau\", \"Mainland China\", \"Malaysia\", \"Nepal\", \"Singapore\", \"South Korea\", \"Taiwan\", \"Thailand\", \"US\", \"Vietnam\"], \"name\": \"\", \"z\": [4.0, 3.0, 5.0, 2.0, 2.0, 1399.0, 3.0, 1.0, 3.0, 2.0, 3.0, 7.0, 2.0, 2.0], \"type\": \"choropleth\"}], \"name\": \"01/25/2020\"}, {\"data\": [{\"coloraxis\": \"coloraxis\", \"geo\": \"geo\", \"hoverlabel\": {\"namelength\": 0}, \"hovertemplate\": \"<b>%{hovertext}</b><br><br>Date=01/26/2020<br>Country=%{location}<br>Confirmed=%{z}\", \"hovertext\": [\"Australia\", \"Canada\", \"France\", \"Hong Kong\", \"Japan\", \"Macau\", \"Mainland China\", \"Malaysia\", \"Nepal\", \"Singapore\", \"South Korea\", \"Taiwan\", \"Thailand\", \"US\", \"Vietnam\"], \"locationmode\": \"country names\", \"locations\": [\"Australia\", \"Canada\", \"France\", \"Hong Kong\", \"Japan\", \"Macau\", \"Mainland China\", \"Malaysia\", \"Nepal\", \"Singapore\", \"South Korea\", \"Taiwan\", \"Thailand\", \"US\", \"Vietnam\"], \"name\": \"\", \"z\": [4.0, 1.0, 3.0, 8.0, 4.0, 5.0, 2062.0, 4.0, 1.0, 4.0, 3.0, 4.0, 8.0, 5.0, 2.0], \"type\": \"choropleth\"}], \"name\": \"01/26/2020\"}, {\"data\": [{\"coloraxis\": \"coloraxis\", \"geo\": \"geo\", \"hoverlabel\": {\"namelength\": 0}, \"hovertemplate\": \"<b>%{hovertext}</b><br><br>Date=01/27/2020<br>Country=%{location}<br>Confirmed=%{z}\", \"hovertext\": [\"Australia\", \"Cambodia\", \"Canada\", \"France\", \"Hong Kong\", \"Ivory Coast\", \"Japan\", \"Macau\", \"Mainland China\", \"Malaysia\", \"Nepal\", \"Singapore\", \"South Korea\", \"Sri Lanka\", \"Taiwan\", \"Thailand\", \"US\", \"Vietnam\"], \"locationmode\": \"country names\", \"locations\": [\"Australia\", \"Cambodia\", \"Canada\", \"France\", \"Hong Kong\", \"Ivory Coast\", \"Japan\", \"Macau\", \"Mainland China\", \"Malaysia\", \"Nepal\", \"Singapore\", \"South Korea\", \"Sri Lanka\", \"Taiwan\", \"Thailand\", \"US\", \"Vietnam\"], \"name\": \"\", \"z\": [5.0, 1.0, 1.0, 3.0, 8.0, 1.0, 4.0, 6.0, 2863.0, 4.0, 1.0, 5.0, 4.0, 1.0, 5.0, 8.0, 5.0, 2.0], \"type\": \"choropleth\"}], \"name\": \"01/27/2020\"}, {\"data\": [{\"coloraxis\": \"coloraxis\", \"geo\": \"geo\", \"hoverlabel\": {\"namelength\": 0}, \"hovertemplate\": \"<b>%{hovertext}</b><br><br>Date=01/28/2020<br>Country=%{location}<br>Confirmed=%{z}\", \"hovertext\": [\"Australia\", \"Cambodia\", \"Canada\", \"France\", \"Germany\", \"Hong Kong\", \"Japan\", \"Macau\", \"Mainland China\", \"Malaysia\", \"Nepal\", \"Singapore\", \"South Korea\", \"Sri Lanka\", \"Taiwan\", \"Thailand\", \"US\", \"Vietnam\"], \"locationmode\": \"country names\", \"locations\": [\"Australia\", \"Cambodia\", \"Canada\", \"France\", \"Germany\", \"Hong Kong\", \"Japan\", \"Macau\", \"Mainland China\", \"Malaysia\", \"Nepal\", \"Singapore\", \"South Korea\", \"Sri Lanka\", \"Taiwan\", \"Thailand\", \"US\", \"Vietnam\"], \"name\": \"\", \"z\": [5.0, 1.0, 2.0, 4.0, 4.0, 8.0, 7.0, 7.0, 5494.0, 4.0, 1.0, 7.0, 4.0, 1.0, 8.0, 14.0, 5.0, 2.0], \"type\": \"choropleth\"}], \"name\": \"01/28/2020\"}, {\"data\": [{\"coloraxis\": \"coloraxis\", \"geo\": \"geo\", \"hoverlabel\": {\"namelength\": 0}, \"hovertemplate\": \"<b>%{hovertext}</b><br><br>Date=01/29/2020<br>Country=%{location}<br>Confirmed=%{z}\", \"hovertext\": [\"Australia\", \"Cambodia\", \"Canada\", \"Finland\", \"France\", \"Germany\", \"Hong Kong\", \"Japan\", \"Macau\", \"Mainland China\", \"Malaysia\", \"Nepal\", \"Singapore\", \"South Korea\", \"Sri Lanka\", \"Taiwan\", \"Thailand\", \"US\", \"United Arab Emirates\", \"Vietnam\"], \"locationmode\": \"country names\", \"locations\": [\"Australia\", \"Cambodia\", \"Canada\", \"Finland\", \"France\", \"Germany\", \"Hong Kong\", \"Japan\", \"Macau\", \"Mainland China\", \"Malaysia\", \"Nepal\", \"Singapore\", \"South Korea\", \"Sri Lanka\", \"Taiwan\", \"Thailand\", \"US\", \"United Arab Emirates\", \"Vietnam\"], \"name\": \"\", \"z\": [5.0, 1.0, 2.0, 1.0, 5.0, 4.0, 10.0, 7.0, 7.0, 6070.0, 7.0, 1.0, 7.0, 4.0, 1.0, 8.0, 14.0, 5.0, 4.0, 2.0], \"type\": \"choropleth\"}], \"name\": \"01/29/2020\"}, {\"data\": [{\"coloraxis\": \"coloraxis\", \"geo\": \"geo\", \"hoverlabel\": {\"namelength\": 0}, \"hovertemplate\": \"<b>%{hovertext}</b><br><br>Date=01/30/2020<br>Country=%{location}<br>Confirmed=%{z}\", \"hovertext\": [\"Australia\", \"Cambodia\", \"Canada\", \"Finland\", \"France\", \"Germany\", \"Hong Kong\", \"India\", \"Japan\", \"Macau\", \"Mainland China\", \"Malaysia\", \"Nepal\", \"Philippines\", \"Singapore\", \"South Korea\", \"Sri Lanka\", \"Taiwan\", \"Thailand\", \"US\", \"United Arab Emirates\", \"Vietnam\"], \"locationmode\": \"country names\", \"locations\": [\"Australia\", \"Cambodia\", \"Canada\", \"Finland\", \"France\", \"Germany\", \"Hong Kong\", \"India\", \"Japan\", \"Macau\", \"Mainland China\", \"Malaysia\", \"Nepal\", \"Philippines\", \"Singapore\", \"South Korea\", \"Sri Lanka\", \"Taiwan\", \"Thailand\", \"US\", \"United Arab Emirates\", \"Vietnam\"], \"name\": \"\", \"z\": [9.0, 1.0, 3.0, 1.0, 5.0, 4.0, 10.0, 1.0, 11.0, 7.0, 8124.0, 8.0, 1.0, 1.0, 10.0, 4.0, 1.0, 9.0, 14.0, 5.0, 4.0, 2.0], \"type\": \"choropleth\"}], \"name\": \"01/30/2020\"}, {\"data\": [{\"coloraxis\": \"coloraxis\", \"geo\": \"geo\", \"hoverlabel\": {\"namelength\": 0}, \"hovertemplate\": \"<b>%{hovertext}</b><br><br>Date=01/31/2020<br>Country=%{location}<br>Confirmed=%{z}\", \"hovertext\": [\"Australia\", \"Cambodia\", \"Canada\", \"Finland\", \"France\", \"Germany\", \"Hong Kong\", \"India\", \"Italy\", \"Japan\", \"Macau\", \"Mainland China\", \"Malaysia\", \"Nepal\", \"Philippines\", \"Russia\", \"Singapore\", \"South Korea\", \"Sri Lanka\", \"Sweden\", \"Taiwan\", \"Thailand\", \"UK\", \"US\", \"United Arab Emirates\", \"Vietnam\"], \"locationmode\": \"country names\", \"locations\": [\"Australia\", \"Cambodia\", \"Canada\", \"Finland\", \"France\", \"Germany\", \"Hong Kong\", \"India\", \"Italy\", \"Japan\", \"Macau\", \"Mainland China\", \"Malaysia\", \"Nepal\", \"Philippines\", \"Russia\", \"Singapore\", \"South Korea\", \"Sri Lanka\", \"Sweden\", \"Taiwan\", \"Thailand\", \"UK\", \"US\", \"United Arab Emirates\", \"Vietnam\"], \"name\": \"\", \"z\": [9.0, 1.0, 3.0, 1.0, 5.0, 5.0, 12.0, 1.0, 2.0, 15.0, 7.0, 9783.0, 8.0, 1.0, 1.0, 2.0, 13.0, 11.0, 1.0, 1.0, 10.0, 19.0, 2.0, 6.0, 4.0, 2.0], \"type\": \"choropleth\"}], \"name\": \"01/31/2020\"}, {\"data\": [{\"coloraxis\": \"coloraxis\", \"geo\": \"geo\", \"hoverlabel\": {\"namelength\": 0}, \"hovertemplate\": \"<b>%{hovertext}</b><br><br>Date=02/01/2020<br>Country=%{location}<br>Confirmed=%{z}\", \"hovertext\": [\"Australia\", \"Cambodia\", \"Canada\", \"Finland\", \"France\", \"Germany\", \"Hong Kong\", \"India\", \"Italy\", \"Japan\", \"Macau\", \"Mainland China\", \"Malaysia\", \"Nepal\", \"Philippines\", \"Russia\", \"Singapore\", \"South Korea\", \"Spain\", \"Sri Lanka\", \"Sweden\", \"Taiwan\", \"Thailand\", \"UK\", \"US\", \"United Arab Emirates\", \"Vietnam\"], \"locationmode\": \"country names\", \"locations\": [\"Australia\", \"Cambodia\", \"Canada\", \"Finland\", \"France\", \"Germany\", \"Hong Kong\", \"India\", \"Italy\", \"Japan\", \"Macau\", \"Mainland China\", \"Malaysia\", \"Nepal\", \"Philippines\", \"Russia\", \"Singapore\", \"South Korea\", \"Spain\", \"Sri Lanka\", \"Sweden\", \"Taiwan\", \"Thailand\", \"UK\", \"US\", \"United Arab Emirates\", \"Vietnam\"], \"name\": \"\", \"z\": [12.0, 1.0, 4.0, 1.0, 6.0, 8.0, 13.0, 1.0, 2.0, 20.0, 7.0, 11871.0, 8.0, 1.0, 1.0, 2.0, 16.0, 12.0, 1.0, 1.0, 1.0, 10.0, 19.0, 2.0, 8.0, 4.0, 6.0], \"type\": \"choropleth\"}], \"name\": \"02/01/2020\"}, {\"data\": [{\"coloraxis\": \"coloraxis\", \"geo\": \"geo\", \"hoverlabel\": {\"namelength\": 0}, \"hovertemplate\": \"<b>%{hovertext}</b><br><br>Date=02/02/2020<br>Country=%{location}<br>Confirmed=%{z}\", \"hovertext\": [\"Australia\", \"Cambodia\", \"Canada\", \"Finland\", \"France\", \"Germany\", \"Hong Kong\", \"India\", \"Italy\", \"Japan\", \"Macau\", \"Mainland China\", \"Malaysia\", \"Nepal\", \"Philippines\", \"Russia\", \"Singapore\", \"South Korea\", \"Spain\", \"Sri Lanka\", \"Sweden\", \"Taiwan\", \"Thailand\", \"UK\", \"US\", \"United Arab Emirates\", \"Vietnam\"], \"locationmode\": \"country names\", \"locations\": [\"Australia\", \"Cambodia\", \"Canada\", \"Finland\", \"France\", \"Germany\", \"Hong Kong\", \"India\", \"Italy\", \"Japan\", \"Macau\", \"Mainland China\", \"Malaysia\", \"Nepal\", \"Philippines\", \"Russia\", \"Singapore\", \"South Korea\", \"Spain\", \"Sri Lanka\", \"Sweden\", \"Taiwan\", \"Thailand\", \"UK\", \"US\", \"United Arab Emirates\", \"Vietnam\"], \"name\": \"\", \"z\": [12.0, 1.0, 4.0, 1.0, 6.0, 10.0, 15.0, 2.0, 2.0, 20.0, 8.0, 16607.0, 8.0, 1.0, 2.0, 2.0, 18.0, 15.0, 1.0, 1.0, 1.0, 10.0, 19.0, 2.0, 8.0, 5.0, 6.0], \"type\": \"choropleth\"}], \"name\": \"02/02/2020\"}, {\"data\": [{\"coloraxis\": \"coloraxis\", \"geo\": \"geo\", \"hoverlabel\": {\"namelength\": 0}, \"hovertemplate\": \"<b>%{hovertext}</b><br><br>Date=02/03/2020<br>Country=%{location}<br>Confirmed=%{z}\", \"hovertext\": [\"Australia\", \"Cambodia\", \"Canada\", \"Finland\", \"France\", \"Germany\", \"Hong Kong\", \"India\", \"Italy\", \"Japan\", \"Macau\", \"Mainland China\", \"Malaysia\", \"Nepal\", \"Philippines\", \"Russia\", \"Singapore\", \"South Korea\", \"Spain\", \"Sri Lanka\", \"Sweden\", \"Taiwan\", \"Thailand\", \"UK\", \"US\", \"United Arab Emirates\", \"Vietnam\"], \"locationmode\": \"country names\", \"locations\": [\"Australia\", \"Cambodia\", \"Canada\", \"Finland\", \"France\", \"Germany\", \"Hong Kong\", \"India\", \"Italy\", \"Japan\", \"Macau\", \"Mainland China\", \"Malaysia\", \"Nepal\", \"Philippines\", \"Russia\", \"Singapore\", \"South Korea\", \"Spain\", \"Sri Lanka\", \"Sweden\", \"Taiwan\", \"Thailand\", \"UK\", \"US\", \"United Arab Emirates\", \"Vietnam\"], \"name\": \"\", \"z\": [12.0, 1.0, 4.0, 1.0, 6.0, 12.0, 15.0, 3.0, 2.0, 20.0, 8.0, 19693.0, 8.0, 1.0, 2.0, 2.0, 18.0, 15.0, 1.0, 1.0, 1.0, 10.0, 19.0, 2.0, 11.0, 5.0, 8.0], \"type\": \"choropleth\"}], \"name\": \"02/03/2020\"}, {\"data\": [{\"coloraxis\": \"coloraxis\", \"geo\": \"geo\", \"hoverlabel\": {\"namelength\": 0}, \"hovertemplate\": \"<b>%{hovertext}</b><br><br>Date=02/04/2020<br>Country=%{location}<br>Confirmed=%{z}\", \"hovertext\": [\"Australia\", \"Belgium\", \"Cambodia\", \"Canada\", \"Finland\", \"France\", \"Germany\", \"Hong Kong\", \"India\", \"Italy\", \"Japan\", \"Macau\", \"Mainland China\", \"Malaysia\", \"Nepal\", \"Philippines\", \"Russia\", \"Singapore\", \"South Korea\", \"Spain\", \"Sri Lanka\", \"Sweden\", \"Taiwan\", \"Thailand\", \"UK\", \"US\", \"United Arab Emirates\", \"Vietnam\"], \"locationmode\": \"country names\", \"locations\": [\"Australia\", \"Belgium\", \"Cambodia\", \"Canada\", \"Finland\", \"France\", \"Germany\", \"Hong Kong\", \"India\", \"Italy\", \"Japan\", \"Macau\", \"Mainland China\", \"Malaysia\", \"Nepal\", \"Philippines\", \"Russia\", \"Singapore\", \"South Korea\", \"Spain\", \"Sri Lanka\", \"Sweden\", \"Taiwan\", \"Thailand\", \"UK\", \"US\", \"United Arab Emirates\", \"Vietnam\"], \"name\": \"\", \"z\": [13.0, 1.0, 1.0, 4.0, 1.0, 6.0, 12.0, 17.0, 3.0, 2.0, 22.0, 10.0, 23680.0, 10.0, 1.0, 2.0, 2.0, 24.0, 16.0, 1.0, 1.0, 1.0, 11.0, 25.0, 2.0, 11.0, 5.0, 8.0], \"type\": \"choropleth\"}], \"name\": \"02/04/2020\"}, {\"data\": [{\"coloraxis\": \"coloraxis\", \"geo\": \"geo\", \"hoverlabel\": {\"namelength\": 0}, \"hovertemplate\": \"<b>%{hovertext}</b><br><br>Date=02/05/2020<br>Country=%{location}<br>Confirmed=%{z}\", \"hovertext\": [\"Australia\", \"Belgium\", \"Cambodia\", \"Canada\", \"Finland\", \"France\", \"Germany\", \"Hong Kong\", \"India\", \"Italy\", \"Japan\", \"Macau\", \"Mainland China\", \"Malaysia\", \"Nepal\", \"Philippines\", \"Russia\", \"Singapore\", \"South Korea\", \"Spain\", \"Sri Lanka\", \"Sweden\", \"Taiwan\", \"Thailand\", \"UK\", \"US\", \"United Arab Emirates\", \"Vietnam\"], \"locationmode\": \"country names\", \"locations\": [\"Australia\", \"Belgium\", \"Cambodia\", \"Canada\", \"Finland\", \"France\", \"Germany\", \"Hong Kong\", \"India\", \"Italy\", \"Japan\", \"Macau\", \"Mainland China\", \"Malaysia\", \"Nepal\", \"Philippines\", \"Russia\", \"Singapore\", \"South Korea\", \"Spain\", \"Sri Lanka\", \"Sweden\", \"Taiwan\", \"Thailand\", \"UK\", \"US\", \"United Arab Emirates\", \"Vietnam\"], \"name\": \"\", \"z\": [13.0, 1.0, 1.0, 5.0, 1.0, 6.0, 12.0, 21.0, 3.0, 2.0, 22.0, 10.0, 27409.0, 12.0, 1.0, 2.0, 2.0, 28.0, 19.0, 1.0, 1.0, 1.0, 11.0, 25.0, 2.0, 12.0, 5.0, 8.0], \"type\": \"choropleth\"}], \"name\": \"02/05/2020\"}, {\"data\": [{\"coloraxis\": \"coloraxis\", \"geo\": \"geo\", \"hoverlabel\": {\"namelength\": 0}, \"hovertemplate\": \"<b>%{hovertext}</b><br><br>Date=02/06/2020<br>Country=%{location}<br>Confirmed=%{z}\", \"hovertext\": [\"Australia\", \"Belgium\", \"Cambodia\", \"Canada\", \"Finland\", \"France\", \"Germany\", \"Hong Kong\", \"India\", \"Italy\", \"Japan\", \"Macau\", \"Mainland China\", \"Malaysia\", \"Nepal\", \"Philippines\", \"Russia\", \"Singapore\", \"South Korea\", \"Spain\", \"Sri Lanka\", \"Sweden\", \"Taiwan\", \"Thailand\", \"UK\", \"US\", \"United Arab Emirates\", \"Vietnam\"], \"locationmode\": \"country names\", \"locations\": [\"Australia\", \"Belgium\", \"Cambodia\", \"Canada\", \"Finland\", \"France\", \"Germany\", \"Hong Kong\", \"India\", \"Italy\", \"Japan\", \"Macau\", \"Mainland China\", \"Malaysia\", \"Nepal\", \"Philippines\", \"Russia\", \"Singapore\", \"South Korea\", \"Spain\", \"Sri Lanka\", \"Sweden\", \"Taiwan\", \"Thailand\", \"UK\", \"US\", \"United Arab Emirates\", \"Vietnam\"], \"name\": \"\", \"z\": [14.0, 1.0, 1.0, 5.0, 1.0, 6.0, 12.0, 24.0, 3.0, 2.0, 45.0, 10.0, 30553.0, 12.0, 1.0, 2.0, 2.0, 28.0, 23.0, 1.0, 1.0, 1.0, 16.0, 25.0, 2.0, 12.0, 5.0, 10.0], \"type\": \"choropleth\"}], \"name\": \"02/06/2020\"}, {\"data\": [{\"coloraxis\": \"coloraxis\", \"geo\": \"geo\", \"hoverlabel\": {\"namelength\": 0}, \"hovertemplate\": \"<b>%{hovertext}</b><br><br>Date=02/07/2020<br>Country=%{location}<br>Confirmed=%{z}\", \"hovertext\": [\"Australia\", \"Belgium\", \"Cambodia\", \"Canada\", \"Finland\", \"France\", \"Germany\", \"Hong Kong\", \"India\", \"Italy\", \"Japan\", \"Macau\", \"Mainland China\", \"Malaysia\", \"Nepal\", \"Others\", \"Philippines\", \"Russia\", \"Singapore\", \"South Korea\", \"Spain\", \"Sri Lanka\", \"Sweden\", \"Taiwan\", \"Thailand\", \"UK\", \"US\", \"United Arab Emirates\", \"Vietnam\"], \"locationmode\": \"country names\", \"locations\": [\"Australia\", \"Belgium\", \"Cambodia\", \"Canada\", \"Finland\", \"France\", \"Germany\", \"Hong Kong\", \"India\", \"Italy\", \"Japan\", \"Macau\", \"Mainland China\", \"Malaysia\", \"Nepal\", \"Others\", \"Philippines\", \"Russia\", \"Singapore\", \"South Korea\", \"Spain\", \"Sri Lanka\", \"Sweden\", \"Taiwan\", \"Thailand\", \"UK\", \"US\", \"United Arab Emirates\", \"Vietnam\"], \"name\": \"\", \"z\": [15.0, 1.0, 1.0, 7.0, 1.0, 6.0, 13.0, 25.0, 3.0, 3.0, 25.0, 10.0, 34075.0, 12.0, 1.0, 61.0, 3.0, 2.0, 30.0, 24.0, 1.0, 1.0, 1.0, 16.0, 25.0, 3.0, 12.0, 5.0, 10.0], \"type\": \"choropleth\"}], \"name\": \"02/07/2020\"}, {\"data\": [{\"coloraxis\": \"coloraxis\", \"geo\": \"geo\", \"hoverlabel\": {\"namelength\": 0}, \"hovertemplate\": \"<b>%{hovertext}</b><br><br>Date=02/08/2020<br>Country=%{location}<br>Confirmed=%{z}\", \"hovertext\": [\"Australia\", \"Belgium\", \"Cambodia\", \"Canada\", \"Finland\", \"France\", \"Germany\", \"Hong Kong\", \"India\", \"Italy\", \"Japan\", \"Macau\", \"Mainland China\", \"Malaysia\", \"Nepal\", \"Others\", \"Philippines\", \"Russia\", \"Singapore\", \"South Korea\", \"Spain\", \"Sri Lanka\", \"Sweden\", \"Taiwan\", \"Thailand\", \"UK\", \"US\", \"United Arab Emirates\", \"Vietnam\"], \"locationmode\": \"country names\", \"locations\": [\"Australia\", \"Belgium\", \"Cambodia\", \"Canada\", \"Finland\", \"France\", \"Germany\", \"Hong Kong\", \"India\", \"Italy\", \"Japan\", \"Macau\", \"Mainland China\", \"Malaysia\", \"Nepal\", \"Others\", \"Philippines\", \"Russia\", \"Singapore\", \"South Korea\", \"Spain\", \"Sri Lanka\", \"Sweden\", \"Taiwan\", \"Thailand\", \"UK\", \"US\", \"United Arab Emirates\", \"Vietnam\"], \"name\": \"\", \"z\": [15.0, 1.0, 1.0, 7.0, 1.0, 11.0, 13.0, 26.0, 3.0, 3.0, 25.0, 10.0, 36778.0, 16.0, 1.0, 61.0, 3.0, 2.0, 33.0, 24.0, 1.0, 1.0, 1.0, 17.0, 32.0, 3.0, 12.0, 7.0, 13.0], \"type\": \"choropleth\"}], \"name\": \"02/08/2020\"}, {\"data\": [{\"coloraxis\": \"coloraxis\", \"geo\": \"geo\", \"hoverlabel\": {\"namelength\": 0}, \"hovertemplate\": \"<b>%{hovertext}</b><br><br>Date=02/09/2020<br>Country=%{location}<br>Confirmed=%{z}\", \"hovertext\": [\"Australia\", \"Belgium\", \"Cambodia\", \"Canada\", \"Finland\", \"France\", \"Germany\", \"Hong Kong\", \"India\", \"Italy\", \"Japan\", \"Macau\", \"Mainland China\", \"Malaysia\", \"Nepal\", \"Others\", \"Philippines\", \"Russia\", \"Singapore\", \"South Korea\", \"Spain\", \"Sri Lanka\", \"Sweden\", \"Taiwan\", \"Thailand\", \"UK\", \"US\", \"United Arab Emirates\", \"Vietnam\"], \"locationmode\": \"country names\", \"locations\": [\"Australia\", \"Belgium\", \"Cambodia\", \"Canada\", \"Finland\", \"France\", \"Germany\", \"Hong Kong\", \"India\", \"Italy\", \"Japan\", \"Macau\", \"Mainland China\", \"Malaysia\", \"Nepal\", \"Others\", \"Philippines\", \"Russia\", \"Singapore\", \"South Korea\", \"Spain\", \"Sri Lanka\", \"Sweden\", \"Taiwan\", \"Thailand\", \"UK\", \"US\", \"United Arab Emirates\", \"Vietnam\"], \"name\": \"\", \"z\": [15.0, 1.0, 1.0, 7.0, 1.0, 11.0, 14.0, 29.0, 3.0, 3.0, 26.0, 10.0, 39790.0, 16.0, 1.0, 64.0, 3.0, 2.0, 40.0, 25.0, 2.0, 1.0, 1.0, 18.0, 32.0, 3.0, 12.0, 7.0, 13.0], \"type\": \"choropleth\"}], \"name\": \"02/09/2020\"}, {\"data\": [{\"coloraxis\": \"coloraxis\", \"geo\": \"geo\", \"hoverlabel\": {\"namelength\": 0}, \"hovertemplate\": \"<b>%{hovertext}</b><br><br>Date=02/10/2020<br>Country=%{location}<br>Confirmed=%{z}\", \"hovertext\": [\"Australia\", \"Belgium\", \"Cambodia\", \"Canada\", \"Finland\", \"France\", \"Germany\", \"Hong Kong\", \"India\", \"Italy\", \"Japan\", \"Macau\", \"Mainland China\", \"Malaysia\", \"Nepal\", \"Others\", \"Philippines\", \"Russia\", \"Singapore\", \"South Korea\", \"Spain\", \"Sri Lanka\", \"Sweden\", \"Taiwan\", \"Thailand\", \"UK\", \"US\", \"United Arab Emirates\", \"Vietnam\"], \"locationmode\": \"country names\", \"locations\": [\"Australia\", \"Belgium\", \"Cambodia\", \"Canada\", \"Finland\", \"France\", \"Germany\", \"Hong Kong\", \"India\", \"Italy\", \"Japan\", \"Macau\", \"Mainland China\", \"Malaysia\", \"Nepal\", \"Others\", \"Philippines\", \"Russia\", \"Singapore\", \"South Korea\", \"Spain\", \"Sri Lanka\", \"Sweden\", \"Taiwan\", \"Thailand\", \"UK\", \"US\", \"United Arab Emirates\", \"Vietnam\"], \"name\": \"\", \"z\": [15.0, 1.0, 1.0, 7.0, 1.0, 11.0, 14.0, 38.0, 3.0, 3.0, 26.0, 10.0, 42306.0, 18.0, 1.0, 135.0, 3.0, 2.0, 45.0, 27.0, 2.0, 1.0, 1.0, 18.0, 32.0, 8.0, 12.0, 8.0, 14.0], \"type\": \"choropleth\"}], \"name\": \"02/10/2020\"}, {\"data\": [{\"coloraxis\": \"coloraxis\", \"geo\": \"geo\", \"hoverlabel\": {\"namelength\": 0}, \"hovertemplate\": \"<b>%{hovertext}</b><br><br>Date=02/11/2020<br>Country=%{location}<br>Confirmed=%{z}\", \"hovertext\": [\"Australia\", \"Belgium\", \"Cambodia\", \"Canada\", \"Finland\", \"France\", \"Germany\", \"Hong Kong\", \"India\", \"Italy\", \"Japan\", \"Macau\", \"Mainland China\", \"Malaysia\", \"Nepal\", \"Others\", \"Philippines\", \"Russia\", \"Singapore\", \"South Korea\", \"Spain\", \"Sri Lanka\", \"Sweden\", \"Taiwan\", \"Thailand\", \"UK\", \"US\", \"United Arab Emirates\", \"Vietnam\"], \"locationmode\": \"country names\", \"locations\": [\"Australia\", \"Belgium\", \"Cambodia\", \"Canada\", \"Finland\", \"France\", \"Germany\", \"Hong Kong\", \"India\", \"Italy\", \"Japan\", \"Macau\", \"Mainland China\", \"Malaysia\", \"Nepal\", \"Others\", \"Philippines\", \"Russia\", \"Singapore\", \"South Korea\", \"Spain\", \"Sri Lanka\", \"Sweden\", \"Taiwan\", \"Thailand\", \"UK\", \"US\", \"United Arab Emirates\", \"Vietnam\"], \"name\": \"\", \"z\": [15.0, 1.0, 1.0, 7.0, 1.0, 11.0, 16.0, 49.0, 3.0, 3.0, 26.0, 10.0, 44327.0, 18.0, 1.0, 135.0, 3.0, 2.0, 47.0, 28.0, 2.0, 1.0, 1.0, 18.0, 33.0, 8.0, 13.0, 8.0, 15.0], \"type\": \"choropleth\"}], \"name\": \"02/11/2020\"}, {\"data\": [{\"coloraxis\": \"coloraxis\", \"geo\": \"geo\", \"hoverlabel\": {\"namelength\": 0}, \"hovertemplate\": \"<b>%{hovertext}</b><br><br>Date=02/12/2020<br>Country=%{location}<br>Confirmed=%{z}\", \"hovertext\": [\"Australia\", \"Belgium\", \"Cambodia\", \"Canada\", \"Finland\", \"France\", \"Germany\", \"Hong Kong\", \"India\", \"Italy\", \"Japan\", \"Macau\", \"Mainland China\", \"Malaysia\", \"Nepal\", \"Others\", \"Philippines\", \"Russia\", \"Singapore\", \"South Korea\", \"Spain\", \"Sri Lanka\", \"Sweden\", \"Taiwan\", \"Thailand\", \"UK\", \"US\", \"United Arab Emirates\", \"Vietnam\"], \"locationmode\": \"country names\", \"locations\": [\"Australia\", \"Belgium\", \"Cambodia\", \"Canada\", \"Finland\", \"France\", \"Germany\", \"Hong Kong\", \"India\", \"Italy\", \"Japan\", \"Macau\", \"Mainland China\", \"Malaysia\", \"Nepal\", \"Others\", \"Philippines\", \"Russia\", \"Singapore\", \"South Korea\", \"Spain\", \"Sri Lanka\", \"Sweden\", \"Taiwan\", \"Thailand\", \"UK\", \"US\", \"United Arab Emirates\", \"Vietnam\"], \"name\": \"\", \"z\": [15.0, 1.0, 1.0, 7.0, 1.0, 11.0, 16.0, 50.0, 3.0, 3.0, 28.0, 10.0, 44699.0, 18.0, 1.0, 175.0, 3.0, 2.0, 50.0, 28.0, 2.0, 1.0, 1.0, 18.0, 33.0, 9.0, 13.0, 8.0, 15.0], \"type\": \"choropleth\"}], \"name\": \"02/12/2020\"}, {\"data\": [{\"coloraxis\": \"coloraxis\", \"geo\": \"geo\", \"hoverlabel\": {\"namelength\": 0}, \"hovertemplate\": \"<b>%{hovertext}</b><br><br>Date=02/13/2020<br>Country=%{location}<br>Confirmed=%{z}\", \"hovertext\": [\"Australia\", \"Belgium\", \"Cambodia\", \"Canada\", \"Finland\", \"France\", \"Germany\", \"Hong Kong\", \"India\", \"Italy\", \"Japan\", \"Macau\", \"Mainland China\", \"Malaysia\", \"Nepal\", \"Others\", \"Philippines\", \"Russia\", \"Singapore\", \"South Korea\", \"Spain\", \"Sri Lanka\", \"Sweden\", \"Taiwan\", \"Thailand\", \"UK\", \"US\", \"United Arab Emirates\", \"Vietnam\"], \"locationmode\": \"country names\", \"locations\": [\"Australia\", \"Belgium\", \"Cambodia\", \"Canada\", \"Finland\", \"France\", \"Germany\", \"Hong Kong\", \"India\", \"Italy\", \"Japan\", \"Macau\", \"Mainland China\", \"Malaysia\", \"Nepal\", \"Others\", \"Philippines\", \"Russia\", \"Singapore\", \"South Korea\", \"Spain\", \"Sri Lanka\", \"Sweden\", \"Taiwan\", \"Thailand\", \"UK\", \"US\", \"United Arab Emirates\", \"Vietnam\"], \"name\": \"\", \"z\": [15.0, 1.0, 1.0, 7.0, 1.0, 11.0, 16.0, 53.0, 3.0, 3.0, 28.0, 10.0, 59832.0, 19.0, 1.0, 175.0, 3.0, 2.0, 58.0, 28.0, 2.0, 1.0, 1.0, 18.0, 33.0, 9.0, 15.0, 8.0, 16.0], \"type\": \"choropleth\"}], \"name\": \"02/13/2020\"}, {\"data\": [{\"coloraxis\": \"coloraxis\", \"geo\": \"geo\", \"hoverlabel\": {\"namelength\": 0}, \"hovertemplate\": \"<b>%{hovertext}</b><br><br>Date=02/14/2020<br>Country=%{location}<br>Confirmed=%{z}\", \"hovertext\": [\"Australia\", \"Belgium\", \"Cambodia\", \"Canada\", \"Egypt\", \"Finland\", \"France\", \"Germany\", \"Hong Kong\", \"India\", \"Italy\", \"Japan\", \"Macau\", \"Mainland China\", \"Malaysia\", \"Nepal\", \"Others\", \"Philippines\", \"Russia\", \"Singapore\", \"South Korea\", \"Spain\", \"Sri Lanka\", \"Sweden\", \"Taiwan\", \"Thailand\", \"UK\", \"US\", \"United Arab Emirates\", \"Vietnam\"], \"locationmode\": \"country names\", \"locations\": [\"Australia\", \"Belgium\", \"Cambodia\", \"Canada\", \"Egypt\", \"Finland\", \"France\", \"Germany\", \"Hong Kong\", \"India\", \"Italy\", \"Japan\", \"Macau\", \"Mainland China\", \"Malaysia\", \"Nepal\", \"Others\", \"Philippines\", \"Russia\", \"Singapore\", \"South Korea\", \"Spain\", \"Sri Lanka\", \"Sweden\", \"Taiwan\", \"Thailand\", \"UK\", \"US\", \"United Arab Emirates\", \"Vietnam\"], \"name\": \"\", \"z\": [15.0, 1.0, 1.0, 7.0, 1.0, 1.0, 11.0, 16.0, 56.0, 3.0, 3.0, 29.0, 10.0, 66292.0, 19.0, 1.0, 218.0, 3.0, 2.0, 67.0, 28.0, 2.0, 1.0, 1.0, 18.0, 33.0, 9.0, 15.0, 8.0, 16.0], \"type\": \"choropleth\"}], \"name\": \"02/14/2020\"}, {\"data\": [{\"coloraxis\": \"coloraxis\", \"geo\": \"geo\", \"hoverlabel\": {\"namelength\": 0}, \"hovertemplate\": \"<b>%{hovertext}</b><br><br>Date=02/15/2020<br>Country=%{location}<br>Confirmed=%{z}\", \"hovertext\": [\"Australia\", \"Belgium\", \"Cambodia\", \"Canada\", \"Egypt\", \"Finland\", \"France\", \"Germany\", \"Hong Kong\", \"India\", \"Italy\", \"Japan\", \"Macau\", \"Mainland China\", \"Malaysia\", \"Nepal\", \"Others\", \"Philippines\", \"Russia\", \"Singapore\", \"South Korea\", \"Spain\", \"Sri Lanka\", \"Sweden\", \"Taiwan\", \"Thailand\", \"UK\", \"US\", \"United Arab Emirates\", \"Vietnam\"], \"locationmode\": \"country names\", \"locations\": [\"Australia\", \"Belgium\", \"Cambodia\", \"Canada\", \"Egypt\", \"Finland\", \"France\", \"Germany\", \"Hong Kong\", \"India\", \"Italy\", \"Japan\", \"Macau\", \"Mainland China\", \"Malaysia\", \"Nepal\", \"Others\", \"Philippines\", \"Russia\", \"Singapore\", \"South Korea\", \"Spain\", \"Sri Lanka\", \"Sweden\", \"Taiwan\", \"Thailand\", \"UK\", \"US\", \"United Arab Emirates\", \"Vietnam\"], \"name\": \"\", \"z\": [15.0, 1.0, 1.0, 7.0, 1.0, 1.0, 12.0, 16.0, 56.0, 3.0, 3.0, 43.0, 10.0, 68347.0, 22.0, 1.0, 285.0, 3.0, 2.0, 72.0, 28.0, 2.0, 1.0, 1.0, 18.0, 33.0, 9.0, 15.0, 8.0, 16.0], \"type\": \"choropleth\"}], \"name\": \"02/15/2020\"}, {\"data\": [{\"coloraxis\": \"coloraxis\", \"geo\": \"geo\", \"hoverlabel\": {\"namelength\": 0}, \"hovertemplate\": \"<b>%{hovertext}</b><br><br>Date=02/16/2020<br>Country=%{location}<br>Confirmed=%{z}\", \"hovertext\": [\"Australia\", \"Belgium\", \"Cambodia\", \"Canada\", \"Egypt\", \"Finland\", \"France\", \"Germany\", \"Hong Kong\", \"India\", \"Italy\", \"Japan\", \"Macau\", \"Mainland China\", \"Malaysia\", \"Nepal\", \"Others\", \"Philippines\", \"Russia\", \"Singapore\", \"South Korea\", \"Spain\", \"Sri Lanka\", \"Sweden\", \"Taiwan\", \"Thailand\", \"UK\", \"US\", \"United Arab Emirates\", \"Vietnam\"], \"locationmode\": \"country names\", \"locations\": [\"Australia\", \"Belgium\", \"Cambodia\", \"Canada\", \"Egypt\", \"Finland\", \"France\", \"Germany\", \"Hong Kong\", \"India\", \"Italy\", \"Japan\", \"Macau\", \"Mainland China\", \"Malaysia\", \"Nepal\", \"Others\", \"Philippines\", \"Russia\", \"Singapore\", \"South Korea\", \"Spain\", \"Sri Lanka\", \"Sweden\", \"Taiwan\", \"Thailand\", \"UK\", \"US\", \"United Arab Emirates\", \"Vietnam\"], \"name\": \"\", \"z\": [15.0, 1.0, 1.0, 7.0, 1.0, 1.0, 12.0, 16.0, 57.0, 3.0, 3.0, 59.0, 10.0, 70446.0, 22.0, 1.0, 355.0, 3.0, 2.0, 75.0, 29.0, 2.0, 1.0, 1.0, 20.0, 34.0, 9.0, 15.0, 9.0, 16.0], \"type\": \"choropleth\"}], \"name\": \"02/16/2020\"}, {\"data\": [{\"coloraxis\": \"coloraxis\", \"geo\": \"geo\", \"hoverlabel\": {\"namelength\": 0}, \"hovertemplate\": \"<b>%{hovertext}</b><br><br>Date=02/17/2020<br>Country=%{location}<br>Confirmed=%{z}\", \"hovertext\": [\"Australia\", \"Belgium\", \"Cambodia\", \"Canada\", \"Egypt\", \"Finland\", \"France\", \"Germany\", \"Hong Kong\", \"India\", \"Italy\", \"Japan\", \"Macau\", \"Mainland China\", \"Malaysia\", \"Nepal\", \"Others\", \"Philippines\", \"Russia\", \"Singapore\", \"South Korea\", \"Spain\", \"Sri Lanka\", \"Sweden\", \"Taiwan\", \"Thailand\", \"UK\", \"US\", \"United Arab Emirates\", \"Vietnam\"], \"locationmode\": \"country names\", \"locations\": [\"Australia\", \"Belgium\", \"Cambodia\", \"Canada\", \"Egypt\", \"Finland\", \"France\", \"Germany\", \"Hong Kong\", \"India\", \"Italy\", \"Japan\", \"Macau\", \"Mainland China\", \"Malaysia\", \"Nepal\", \"Others\", \"Philippines\", \"Russia\", \"Singapore\", \"South Korea\", \"Spain\", \"Sri Lanka\", \"Sweden\", \"Taiwan\", \"Thailand\", \"UK\", \"US\", \"United Arab Emirates\", \"Vietnam\"], \"name\": \"\", \"z\": [15.0, 1.0, 1.0, 8.0, 1.0, 1.0, 12.0, 16.0, 60.0, 3.0, 3.0, 66.0, 10.0, 72364.0, 22.0, 1.0, 454.0, 3.0, 2.0, 77.0, 30.0, 2.0, 1.0, 1.0, 22.0, 35.0, 9.0, 15.0, 9.0, 16.0], \"type\": \"choropleth\"}], \"name\": \"02/17/2020\"}, {\"data\": [{\"coloraxis\": \"coloraxis\", \"geo\": \"geo\", \"hoverlabel\": {\"namelength\": 0}, \"hovertemplate\": \"<b>%{hovertext}</b><br><br>Date=02/18/2020<br>Country=%{location}<br>Confirmed=%{z}\", \"hovertext\": [\"Australia\", \"Belgium\", \"Cambodia\", \"Canada\", \"Egypt\", \"Finland\", \"France\", \"Germany\", \"Hong Kong\", \"India\", \"Italy\", \"Japan\", \"Macau\", \"Mainland China\", \"Malaysia\", \"Nepal\", \"Others\", \"Philippines\", \"Russia\", \"Singapore\", \"South Korea\", \"Spain\", \"Sri Lanka\", \"Sweden\", \"Taiwan\", \"Thailand\", \"UK\", \"US\", \"United Arab Emirates\", \"Vietnam\"], \"locationmode\": \"country names\", \"locations\": [\"Australia\", \"Belgium\", \"Cambodia\", \"Canada\", \"Egypt\", \"Finland\", \"France\", \"Germany\", \"Hong Kong\", \"India\", \"Italy\", \"Japan\", \"Macau\", \"Mainland China\", \"Malaysia\", \"Nepal\", \"Others\", \"Philippines\", \"Russia\", \"Singapore\", \"South Korea\", \"Spain\", \"Sri Lanka\", \"Sweden\", \"Taiwan\", \"Thailand\", \"UK\", \"US\", \"United Arab Emirates\", \"Vietnam\"], \"name\": \"\", \"z\": [15.0, 1.0, 1.0, 8.0, 1.0, 1.0, 12.0, 16.0, 62.0, 3.0, 3.0, 74.0, 10.0, 74139.0, 22.0, 1.0, 542.0, 3.0, 2.0, 81.0, 31.0, 2.0, 1.0, 1.0, 22.0, 35.0, 9.0, 15.0, 9.0, 16.0], \"type\": \"choropleth\"}], \"name\": \"02/18/2020\"}, {\"data\": [{\"coloraxis\": \"coloraxis\", \"geo\": \"geo\", \"hoverlabel\": {\"namelength\": 0}, \"hovertemplate\": \"<b>%{hovertext}</b><br><br>Date=02/19/2020<br>Country=%{location}<br>Confirmed=%{z}\", \"hovertext\": [\"Australia\", \"Belgium\", \"Cambodia\", \"Canada\", \"Egypt\", \"Finland\", \"France\", \"Germany\", \"Hong Kong\", \"India\", \"Iran\", \"Italy\", \"Japan\", \"Macau\", \"Mainland China\", \"Malaysia\", \"Nepal\", \"Others\", \"Philippines\", \"Russia\", \"Singapore\", \"South Korea\", \"Spain\", \"Sri Lanka\", \"Sweden\", \"Taiwan\", \"Thailand\", \"UK\", \"US\", \"United Arab Emirates\", \"Vietnam\"], \"locationmode\": \"country names\", \"locations\": [\"Australia\", \"Belgium\", \"Cambodia\", \"Canada\", \"Egypt\", \"Finland\", \"France\", \"Germany\", \"Hong Kong\", \"India\", \"Iran\", \"Italy\", \"Japan\", \"Macau\", \"Mainland China\", \"Malaysia\", \"Nepal\", \"Others\", \"Philippines\", \"Russia\", \"Singapore\", \"South Korea\", \"Spain\", \"Sri Lanka\", \"Sweden\", \"Taiwan\", \"Thailand\", \"UK\", \"US\", \"United Arab Emirates\", \"Vietnam\"], \"name\": \"\", \"z\": [15.0, 1.0, 1.0, 8.0, 1.0, 1.0, 12.0, 16.0, 63.0, 3.0, 2.0, 3.0, 84.0, 10.0, 74546.0, 22.0, 1.0, 621.0, 3.0, 2.0, 84.0, 31.0, 2.0, 1.0, 1.0, 23.0, 35.0, 9.0, 15.0, 9.0, 16.0], \"type\": \"choropleth\"}], \"name\": \"02/19/2020\"}, {\"data\": [{\"coloraxis\": \"coloraxis\", \"geo\": \"geo\", \"hoverlabel\": {\"namelength\": 0}, \"hovertemplate\": \"<b>%{hovertext}</b><br><br>Date=02/20/2020<br>Country=%{location}<br>Confirmed=%{z}\", \"hovertext\": [\"Australia\", \"Belgium\", \"Cambodia\", \"Canada\", \"Egypt\", \"Finland\", \"France\", \"Germany\", \"Hong Kong\", \"India\", \"Iran\", \"Italy\", \"Japan\", \"Macau\", \"Mainland China\", \"Malaysia\", \"Nepal\", \"Others\", \"Philippines\", \"Russia\", \"Singapore\", \"South Korea\", \"Spain\", \"Sri Lanka\", \"Sweden\", \"Taiwan\", \"Thailand\", \"UK\", \"US\", \"United Arab Emirates\", \"Vietnam\"], \"locationmode\": \"country names\", \"locations\": [\"Australia\", \"Belgium\", \"Cambodia\", \"Canada\", \"Egypt\", \"Finland\", \"France\", \"Germany\", \"Hong Kong\", \"India\", \"Iran\", \"Italy\", \"Japan\", \"Macau\", \"Mainland China\", \"Malaysia\", \"Nepal\", \"Others\", \"Philippines\", \"Russia\", \"Singapore\", \"South Korea\", \"Spain\", \"Sri Lanka\", \"Sweden\", \"Taiwan\", \"Thailand\", \"UK\", \"US\", \"United Arab Emirates\", \"Vietnam\"], \"name\": \"\", \"z\": [15.0, 1.0, 1.0, 8.0, 1.0, 1.0, 12.0, 16.0, 68.0, 3.0, 5.0, 3.0, 94.0, 10.0, 74999.0, 22.0, 1.0, 634.0, 3.0, 2.0, 84.0, 104.0, 2.0, 1.0, 1.0, 24.0, 35.0, 9.0, 15.0, 9.0, 16.0], \"type\": \"choropleth\"}], \"name\": \"02/20/2020\"}, {\"data\": [{\"coloraxis\": \"coloraxis\", \"geo\": \"geo\", \"hoverlabel\": {\"namelength\": 0}, \"hovertemplate\": \"<b>%{hovertext}</b><br><br>Date=02/21/2020<br>Country=%{location}<br>Confirmed=%{z}\", \"hovertext\": [\"Australia\", \"Belgium\", \"Cambodia\", \"Canada\", \"Egypt\", \"Finland\", \"France\", \"Germany\", \"Hong Kong\", \"India\", \"Iran\", \"Israel\", \"Italy\", \"Japan\", \"Lebanon\", \"Macau\", \"Mainland China\", \"Malaysia\", \"Nepal\", \"Others\", \"Philippines\", \"Russia\", \"Singapore\", \"South Korea\", \"Spain\", \"Sri Lanka\", \"Sweden\", \"Taiwan\", \"Thailand\", \"UK\", \"US\", \"United Arab Emirates\", \"Vietnam\"], \"locationmode\": \"country names\", \"locations\": [\"Australia\", \"Belgium\", \"Cambodia\", \"Canada\", \"Egypt\", \"Finland\", \"France\", \"Germany\", \"Hong Kong\", \"India\", \"Iran\", \"Israel\", \"Italy\", \"Japan\", \"Lebanon\", \"Macau\", \"Mainland China\", \"Malaysia\", \"Nepal\", \"Others\", \"Philippines\", \"Russia\", \"Singapore\", \"South Korea\", \"Spain\", \"Sri Lanka\", \"Sweden\", \"Taiwan\", \"Thailand\", \"UK\", \"US\", \"United Arab Emirates\", \"Vietnam\"], \"name\": \"\", \"z\": [19.0, 1.0, 1.0, 9.0, 1.0, 1.0, 12.0, 16.0, 68.0, 3.0, 18.0, 1.0, 20.0, 105.0, 1.0, 10.0, 75472.0, 22.0, 1.0, 634.0, 3.0, 2.0, 85.0, 204.0, 2.0, 1.0, 1.0, 26.0, 35.0, 9.0, 35.0, 9.0, 16.0], \"type\": \"choropleth\"}], \"name\": \"02/21/2020\"}, {\"data\": [{\"coloraxis\": \"coloraxis\", \"geo\": \"geo\", \"hoverlabel\": {\"namelength\": 0}, \"hovertemplate\": \"<b>%{hovertext}</b><br><br>Date=02/22/2020<br>Country=%{location}<br>Confirmed=%{z}\", \"hovertext\": [\"Australia\", \"Belgium\", \"Cambodia\", \"Canada\", \"Egypt\", \"Finland\", \"France\", \"Germany\", \"Hong Kong\", \"India\", \"Iran\", \"Israel\", \"Italy\", \"Japan\", \"Lebanon\", \"Macau\", \"Mainland China\", \"Malaysia\", \"Nepal\", \"Others\", \"Philippines\", \"Russia\", \"Singapore\", \"South Korea\", \"Spain\", \"Sri Lanka\", \"Sweden\", \"Taiwan\", \"Thailand\", \"UK\", \"US\", \"United Arab Emirates\", \"Vietnam\"], \"locationmode\": \"country names\", \"locations\": [\"Australia\", \"Belgium\", \"Cambodia\", \"Canada\", \"Egypt\", \"Finland\", \"France\", \"Germany\", \"Hong Kong\", \"India\", \"Iran\", \"Israel\", \"Italy\", \"Japan\", \"Lebanon\", \"Macau\", \"Mainland China\", \"Malaysia\", \"Nepal\", \"Others\", \"Philippines\", \"Russia\", \"Singapore\", \"South Korea\", \"Spain\", \"Sri Lanka\", \"Sweden\", \"Taiwan\", \"Thailand\", \"UK\", \"US\", \"United Arab Emirates\", \"Vietnam\"], \"name\": \"\", \"z\": [22.0, 1.0, 1.0, 9.0, 1.0, 1.0, 12.0, 16.0, 69.0, 3.0, 28.0, 1.0, 62.0, 122.0, 1.0, 10.0, 76922.0, 22.0, 1.0, 634.0, 3.0, 2.0, 85.0, 433.0, 2.0, 1.0, 1.0, 26.0, 35.0, 9.0, 35.0, 13.0, 16.0], \"type\": \"choropleth\"}], \"name\": \"02/22/2020\"}, {\"data\": [{\"coloraxis\": \"coloraxis\", \"geo\": \"geo\", \"hoverlabel\": {\"namelength\": 0}, \"hovertemplate\": \"<b>%{hovertext}</b><br><br>Date=02/23/2020<br>Country=%{location}<br>Confirmed=%{z}\", \"hovertext\": [\"Australia\", \"Belgium\", \"Cambodia\", \"Canada\", \"Egypt\", \"Finland\", \"France\", \"Germany\", \"Hong Kong\", \"India\", \"Iran\", \"Israel\", \"Italy\", \"Japan\", \"Lebanon\", \"Macau\", \"Mainland China\", \"Malaysia\", \"Nepal\", \"Others\", \"Philippines\", \"Russia\", \"Singapore\", \"South Korea\", \"Spain\", \"Sri Lanka\", \"Sweden\", \"Taiwan\", \"Thailand\", \"UK\", \"US\", \"United Arab Emirates\", \"Vietnam\"], \"locationmode\": \"country names\", \"locations\": [\"Australia\", \"Belgium\", \"Cambodia\", \"Canada\", \"Egypt\", \"Finland\", \"France\", \"Germany\", \"Hong Kong\", \"India\", \"Iran\", \"Israel\", \"Italy\", \"Japan\", \"Lebanon\", \"Macau\", \"Mainland China\", \"Malaysia\", \"Nepal\", \"Others\", \"Philippines\", \"Russia\", \"Singapore\", \"South Korea\", \"Spain\", \"Sri Lanka\", \"Sweden\", \"Taiwan\", \"Thailand\", \"UK\", \"US\", \"United Arab Emirates\", \"Vietnam\"], \"name\": \"\", \"z\": [22.0, 1.0, 1.0, 9.0, 1.0, 1.0, 12.0, 16.0, 74.0, 3.0, 43.0, 1.0, 155.0, 147.0, 1.0, 10.0, 76938.0, 22.0, 1.0, 691.0, 3.0, 2.0, 89.0, 602.0, 2.0, 1.0, 1.0, 28.0, 35.0, 9.0, 35.0, 13.0, 16.0], \"type\": \"choropleth\"}], \"name\": \"02/23/2020\"}, {\"data\": [{\"coloraxis\": \"coloraxis\", \"geo\": \"geo\", \"hoverlabel\": {\"namelength\": 0}, \"hovertemplate\": \"<b>%{hovertext}</b><br><br>Date=02/24/2020<br>Country=%{location}<br>Confirmed=%{z}\", \"hovertext\": [\"Afghanistan\", \"Australia\", \"Bahrain\", \"Belgium\", \"Cambodia\", \"Canada\", \"Egypt\", \"Finland\", \"France\", \"Germany\", \"Hong Kong\", \"India\", \"Iran\", \"Iraq\", \"Israel\", \"Italy\", \"Japan\", \"Kuwait\", \"Lebanon\", \"Macau\", \"Mainland China\", \"Malaysia\", \"Nepal\", \"Oman\", \"Others\", \"Philippines\", \"Russia\", \"Singapore\", \"South Korea\", \"Spain\", \"Sri Lanka\", \"Sweden\", \"Taiwan\", \"Thailand\", \"UK\", \"US\", \"United Arab Emirates\", \"Vietnam\"], \"locationmode\": \"country names\", \"locations\": [\"Afghanistan\", \"Australia\", \"Bahrain\", \"Belgium\", \"Cambodia\", \"Canada\", \"Egypt\", \"Finland\", \"France\", \"Germany\", \"Hong Kong\", \"India\", \"Iran\", \"Iraq\", \"Israel\", \"Italy\", \"Japan\", \"Kuwait\", \"Lebanon\", \"Macau\", \"Mainland China\", \"Malaysia\", \"Nepal\", \"Oman\", \"Others\", \"Philippines\", \"Russia\", \"Singapore\", \"South Korea\", \"Spain\", \"Sri Lanka\", \"Sweden\", \"Taiwan\", \"Thailand\", \"UK\", \"US\", \"United Arab Emirates\", \"Vietnam\"], \"name\": \"\", \"z\": [1.0, 22.0, 1.0, 1.0, 1.0, 10.0, 1.0, 1.0, 12.0, 16.0, 79.0, 3.0, 61.0, 1.0, 1.0, 229.0, 159.0, 1.0, 1.0, 10.0, 77152.0, 22.0, 1.0, 2.0, 691.0, 3.0, 2.0, 89.0, 833.0, 2.0, 1.0, 1.0, 30.0, 35.0, 13.0, 53.0, 13.0, 16.0], \"type\": \"choropleth\"}], \"name\": \"02/24/2020\"}, {\"data\": [{\"coloraxis\": \"coloraxis\", \"geo\": \"geo\", \"hoverlabel\": {\"namelength\": 0}, \"hovertemplate\": \"<b>%{hovertext}</b><br><br>Date=02/25/2020<br>Country=%{location}<br>Confirmed=%{z}\", \"hovertext\": [\"Afghanistan\", \"Algeria\", \"Australia\", \"Austria\", \"Bahrain\", \"Belgium\", \"Cambodia\", \"Canada\", \"Croatia\", \"Egypt\", \"Finland\", \"France\", \"Germany\", \"Hong Kong\", \"India\", \"Iran\", \"Iraq\", \"Israel\", \"Italy\", \"Japan\", \"Kuwait\", \"Lebanon\", \"Macau\", \"Mainland China\", \"Malaysia\", \"Nepal\", \"Oman\", \"Others\", \"Philippines\", \"Russia\", \"Singapore\", \"South Korea\", \"Spain\", \"Sri Lanka\", \"Sweden\", \"Switzerland\", \"Taiwan\", \"Thailand\", \"UK\", \"US\", \"United Arab Emirates\", \"Vietnam\"], \"locationmode\": \"country names\", \"locations\": [\"Afghanistan\", \"Algeria\", \"Australia\", \"Austria\", \"Bahrain\", \"Belgium\", \"Cambodia\", \"Canada\", \"Croatia\", \"Egypt\", \"Finland\", \"France\", \"Germany\", \"Hong Kong\", \"India\", \"Iran\", \"Iraq\", \"Israel\", \"Italy\", \"Japan\", \"Kuwait\", \"Lebanon\", \"Macau\", \"Mainland China\", \"Malaysia\", \"Nepal\", \"Oman\", \"Others\", \"Philippines\", \"Russia\", \"Singapore\", \"South Korea\", \"Spain\", \"Sri Lanka\", \"Sweden\", \"Switzerland\", \"Taiwan\", \"Thailand\", \"UK\", \"US\", \"United Arab Emirates\", \"Vietnam\"], \"name\": \"\", \"z\": [1.0, 1.0, 22.0, 2.0, 23.0, 1.0, 1.0, 11.0, 1.0, 1.0, 1.0, 14.0, 17.0, 84.0, 3.0, 95.0, 1.0, 1.0, 322.0, 170.0, 11.0, 1.0, 10.0, 77660.0, 22.0, 1.0, 2.0, 691.0, 3.0, 2.0, 91.0, 977.0, 6.0, 1.0, 1.0, 1.0, 31.0, 37.0, 13.0, 53.0, 13.0, 16.0], \"type\": \"choropleth\"}], \"name\": \"02/25/2020\"}, {\"data\": [{\"coloraxis\": \"coloraxis\", \"geo\": \"geo\", \"hoverlabel\": {\"namelength\": 0}, \"hovertemplate\": \"<b>%{hovertext}</b><br><br>Date=02/26/2020<br>Country=%{location}<br>Confirmed=%{z}\", \"hovertext\": [\"Afghanistan\", \"Algeria\", \"Australia\", \"Austria\", \"Bahrain\", \"Belgium\", \"Brazil\", \"Cambodia\", \"Canada\", \"Croatia\", \"Egypt\", \"Finland\", \"France\", \"Georgia\", \"Germany\", \"Greece\", \"Hong Kong\", \"India\", \"Iran\", \"Iraq\", \"Israel\", \"Italy\", \"Japan\", \"Kuwait\", \"Lebanon\", \"Macau\", \"Mainland China\", \"Malaysia\", \"Nepal\", \"North Macedonia\", \"Norway\", \"Oman\", \"Others\", \"Pakistan\", \"Philippines\", \"Romania\", \"Russia\", \"Singapore\", \"South Korea\", \"Spain\", \"Sri Lanka\", \"Sweden\", \"Switzerland\", \"Taiwan\", \"Thailand\", \"UK\", \"US\", \"United Arab Emirates\", \"Vietnam\"], \"locationmode\": \"country names\", \"locations\": [\"Afghanistan\", \"Algeria\", \"Australia\", \"Austria\", \"Bahrain\", \"Belgium\", \"Brazil\", \"Cambodia\", \"Canada\", \"Croatia\", \"Egypt\", \"Finland\", \"France\", \"Georgia\", \"Germany\", \"Greece\", \"Hong Kong\", \"India\", \"Iran\", \"Iraq\", \"Israel\", \"Italy\", \"Japan\", \"Kuwait\", \"Lebanon\", \"Macau\", \"Mainland China\", \"Malaysia\", \"Nepal\", \"North Macedonia\", \"Norway\", \"Oman\", \"Others\", \"Pakistan\", \"Philippines\", \"Romania\", \"Russia\", \"Singapore\", \"South Korea\", \"Spain\", \"Sri Lanka\", \"Sweden\", \"Switzerland\", \"Taiwan\", \"Thailand\", \"UK\", \"US\", \"United Arab Emirates\", \"Vietnam\"], \"name\": \"\", \"z\": [1.0, 1.0, 22.0, 2.0, 33.0, 1.0, 1.0, 1.0, 11.0, 3.0, 1.0, 2.0, 18.0, 1.0, 27.0, 1.0, 91.0, 3.0, 139.0, 5.0, 2.0, 453.0, 189.0, 26.0, 2.0, 10.0, 78065.0, 22.0, 1.0, 1.0, 1.0, 4.0, 705.0, 2.0, 3.0, 1.0, 2.0, 93.0, 1261.0, 13.0, 1.0, 2.0, 1.0, 32.0, 40.0, 13.0, 59.0, 13.0, 16.0], \"type\": \"choropleth\"}], \"name\": \"02/26/2020\"}, {\"data\": [{\"coloraxis\": \"coloraxis\", \"geo\": \"geo\", \"hoverlabel\": {\"namelength\": 0}, \"hovertemplate\": \"<b>%{hovertext}</b><br><br>Date=02/27/2020<br>Country=%{location}<br>Confirmed=%{z}\", \"hovertext\": [\"Afghanistan\", \"Algeria\", \"Australia\", \"Austria\", \"Bahrain\", \"Belgium\", \"Brazil\", \"Cambodia\", \"Canada\", \"Croatia\", \"Denmark\", \"Egypt\", \"Estonia\", \"Finland\", \"France\", \"Georgia\", \"Germany\", \"Greece\", \"Hong Kong\", \"India\", \"Iran\", \"Iraq\", \"Israel\", \"Italy\", \"Japan\", \"Kuwait\", \"Lebanon\", \"Macau\", \"Mainland China\", \"Malaysia\", \"Nepal\", \"Netherlands\", \"North Macedonia\", \"Norway\", \"Oman\", \"Others\", \"Pakistan\", \"Philippines\", \"Romania\", \"Russia\", \"San Marino\", \"Singapore\", \"South Korea\", \"Spain\", \"Sri Lanka\", \"Sweden\", \"Switzerland\", \"Taiwan\", \"Thailand\", \"UK\", \"US\", \"United Arab Emirates\", \"Vietnam\"], \"locationmode\": \"country names\", \"locations\": [\"Afghanistan\", \"Algeria\", \"Australia\", \"Austria\", \"Bahrain\", \"Belgium\", \"Brazil\", \"Cambodia\", \"Canada\", \"Croatia\", \"Denmark\", \"Egypt\", \"Estonia\", \"Finland\", \"France\", \"Georgia\", \"Germany\", \"Greece\", \"Hong Kong\", \"India\", \"Iran\", \"Iraq\", \"Israel\", \"Italy\", \"Japan\", \"Kuwait\", \"Lebanon\", \"Macau\", \"Mainland China\", \"Malaysia\", \"Nepal\", \"Netherlands\", \"North Macedonia\", \"Norway\", \"Oman\", \"Others\", \"Pakistan\", \"Philippines\", \"Romania\", \"Russia\", \"San Marino\", \"Singapore\", \"South Korea\", \"Spain\", \"Sri Lanka\", \"Sweden\", \"Switzerland\", \"Taiwan\", \"Thailand\", \"UK\", \"US\", \"United Arab Emirates\", \"Vietnam\"], \"name\": \"\", \"z\": [1.0, 1.0, 23.0, 3.0, 33.0, 1.0, 1.0, 1.0, 13.0, 3.0, 1.0, 1.0, 1.0, 2.0, 38.0, 1.0, 46.0, 3.0, 92.0, 3.0, 245.0, 7.0, 3.0, 655.0, 214.0, 43.0, 2.0, 10.0, 78498.0, 23.0, 1.0, 1.0, 1.0, 1.0, 4.0, 705.0, 2.0, 3.0, 1.0, 2.0, 1.0, 93.0, 1766.0, 15.0, 1.0, 7.0, 8.0, 32.0, 40.0, 15.0, 60.0, 13.0, 16.0], \"type\": \"choropleth\"}], \"name\": \"02/27/2020\"}, {\"data\": [{\"coloraxis\": \"coloraxis\", \"geo\": \"geo\", \"hoverlabel\": {\"namelength\": 0}, \"hovertemplate\": \"<b>%{hovertext}</b><br><br>Date=02/28/2020<br>Country=%{location}<br>Confirmed=%{z}\", \"hovertext\": [\" Azerbaijan\", \"Afghanistan\", \"Algeria\", \"Australia\", \"Austria\", \"Bahrain\", \"Belarus\", \"Belgium\", \"Brazil\", \"Cambodia\", \"Canada\", \"Croatia\", \"Denmark\", \"Egypt\", \"Estonia\", \"Finland\", \"France\", \"Georgia\", \"Germany\", \"Greece\", \"Hong Kong\", \"Iceland\", \"India\", \"Iran\", \"Iraq\", \"Israel\", \"Italy\", \"Japan\", \"Kuwait\", \"Lebanon\", \"Lithuania\", \"Macau\", \"Mainland China\", \"Malaysia\", \"Mexico\", \"Nepal\", \"Netherlands\", \"New Zealand\", \"Nigeria\", \"North Ireland\", \"North Macedonia\", \"Norway\", \"Oman\", \"Others\", \"Pakistan\", \"Philippines\", \"Romania\", \"Russia\", \"San Marino\", \"Singapore\", \"South Korea\", \"Spain\", \"Sri Lanka\", \"Sweden\", \"Switzerland\", \"Taiwan\", \"Thailand\", \"UK\", \"US\", \"United Arab Emirates\", \"Vietnam\"], \"locationmode\": \"country names\", \"locations\": [\" Azerbaijan\", \"Afghanistan\", \"Algeria\", \"Australia\", \"Austria\", \"Bahrain\", \"Belarus\", \"Belgium\", \"Brazil\", \"Cambodia\", \"Canada\", \"Croatia\", \"Denmark\", \"Egypt\", \"Estonia\", \"Finland\", \"France\", \"Georgia\", \"Germany\", \"Greece\", \"Hong Kong\", \"Iceland\", \"India\", \"Iran\", \"Iraq\", \"Israel\", \"Italy\", \"Japan\", \"Kuwait\", \"Lebanon\", \"Lithuania\", \"Macau\", \"Mainland China\", \"Malaysia\", \"Mexico\", \"Nepal\", \"Netherlands\", \"New Zealand\", \"Nigeria\", \"North Ireland\", \"North Macedonia\", \"Norway\", \"Oman\", \"Others\", \"Pakistan\", \"Philippines\", \"Romania\", \"Russia\", \"San Marino\", \"Singapore\", \"South Korea\", \"Spain\", \"Sri Lanka\", \"Sweden\", \"Switzerland\", \"Taiwan\", \"Thailand\", \"UK\", \"US\", \"United Arab Emirates\", \"Vietnam\"], \"name\": \"\", \"z\": [1.0, 1.0, 1.0, 23.0, 3.0, 36.0, 1.0, 1.0, 1.0, 1.0, 14.0, 5.0, 1.0, 1.0, 1.0, 2.0, 57.0, 1.0, 48.0, 4.0, 94.0, 1.0, 3.0, 388.0, 7.0, 4.0, 888.0, 228.0, 45.0, 2.0, 1.0, 10.0, 78824.0, 23.0, 1.0, 1.0, 1.0, 1.0, 1.0, 1.0, 1.0, 6.0, 4.0, 705.0, 2.0, 3.0, 3.0, 2.0, 1.0, 93.0, 2337.0, 32.0, 1.0, 7.0, 8.0, 34.0, 41.0, 20.0, 62.0, 19.0, 16.0], \"type\": \"choropleth\"}], \"name\": \"02/28/2020\"}, {\"data\": [{\"coloraxis\": \"coloraxis\", \"geo\": \"geo\", \"hoverlabel\": {\"namelength\": 0}, \"hovertemplate\": \"<b>%{hovertext}</b><br><br>Date=02/29/2020<br>Country=%{location}<br>Confirmed=%{z}\", \"hovertext\": [\"Afghanistan\", \"Algeria\", \"Australia\", \"Austria\", \"Bahrain\", \"Belarus\", \"Belgium\", \"Brazil\", \"Cambodia\", \"Canada\", \"Croatia\", \"Denmark\", \"Egypt\", \"Estonia\", \"Finland\", \"France\", \"Georgia\", \"Germany\", \"Greece\", \"Hong Kong\", \"Iceland\", \"India\", \"Iran\", \"Iraq\", \"Ireland\", \"Israel\", \"Italy\", \"Japan\", \"Kuwait\", \"Lebanon\", \"Lithuania\", \"Luxembourg\", \"Macau\", \"Mainland China\", \"Malaysia\", \"Mexico\", \"Monaco\", \"Nepal\", \"Netherlands\", \"New Zealand\", \"Nigeria\", \"North Macedonia\", \"Norway\", \"Oman\", \"Others\", \"Pakistan\", \"Philippines\", \"Qatar\", \"Romania\", \"Russia\", \"San Marino\", \"Singapore\", \"South Korea\", \"Spain\", \"Sri Lanka\", \"Sweden\", \"Switzerland\", \"Taiwan\", \"Thailand\", \"UK\", \"US\", \"United Arab Emirates\", \"Vietnam\"], \"locationmode\": \"country names\", \"locations\": [\"Afghanistan\", \"Algeria\", \"Australia\", \"Austria\", \"Bahrain\", \"Belarus\", \"Belgium\", \"Brazil\", \"Cambodia\", \"Canada\", \"Croatia\", \"Denmark\", \"Egypt\", \"Estonia\", \"Finland\", \"France\", \"Georgia\", \"Germany\", \"Greece\", \"Hong Kong\", \"Iceland\", \"India\", \"Iran\", \"Iraq\", \"Ireland\", \"Israel\", \"Italy\", \"Japan\", \"Kuwait\", \"Lebanon\", \"Lithuania\", \"Luxembourg\", \"Macau\", \"Mainland China\", \"Malaysia\", \"Mexico\", \"Monaco\", \"Nepal\", \"Netherlands\", \"New Zealand\", \"Nigeria\", \"North Macedonia\", \"Norway\", \"Oman\", \"Others\", \"Pakistan\", \"Philippines\", \"Qatar\", \"Romania\", \"Russia\", \"San Marino\", \"Singapore\", \"South Korea\", \"Spain\", \"Sri Lanka\", \"Sweden\", \"Switzerland\", \"Taiwan\", \"Thailand\", \"UK\", \"US\", \"United Arab Emirates\", \"Vietnam\"], \"name\": \"\", \"z\": [1.0, 1.0, 25.0, 9.0, 41.0, 1.0, 1.0, 2.0, 1.0, 20.0, 6.0, 3.0, 1.0, 1.0, 3.0, 100.0, 1.0, 79.0, 4.0, 95.0, 1.0, 3.0, 593.0, 13.0, 1.0, 7.0, 1128.0, 241.0, 45.0, 4.0, 1.0, 1.0, 10.0, 79251.0, 25.0, 4.0, 1.0, 1.0, 6.0, 1.0, 1.0, 1.0, 15.0, 6.0, 705.0, 4.0, 3.0, 1.0, 3.0, 2.0, 1.0, 102.0, 3150.0, 45.0, 1.0, 12.0, 18.0, 39.0, 42.0, 23.0, 70.0, 21.0, 16.0], \"type\": \"choropleth\"}], \"name\": \"02/29/2020\"}, {\"data\": [{\"coloraxis\": \"coloraxis\", \"geo\": \"geo\", \"hoverlabel\": {\"namelength\": 0}, \"hovertemplate\": \"<b>%{hovertext}</b><br><br>Date=03/01/2020<br>Country=%{location}<br>Confirmed=%{z}\", \"hovertext\": [\"Afghanistan\", \"Algeria\", \"Armenia\", \"Australia\", \"Austria\", \"Azerbaijan\", \"Bahrain\", \"Belarus\", \"Belgium\", \"Brazil\", \"Cambodia\", \"Canada\", \"Croatia\", \"Czech Republic\", \"Denmark\", \"Dominican Republic\", \"Ecuador\", \"Egypt\", \"Estonia\", \"Finland\", \"France\", \"Georgia\", \"Germany\", \"Greece\", \"Hong Kong\", \"Iceland\", \"India\", \"Iran\", \"Iraq\", \"Ireland\", \"Israel\", \"Italy\", \"Japan\", \"Kuwait\", \"Lebanon\", \"Lithuania\", \"Luxembourg\", \"Macau\", \"Mainland China\", \"Malaysia\", \"Mexico\", \"Monaco\", \"Nepal\", \"Netherlands\", \"New Zealand\", \"Nigeria\", \"North Macedonia\", \"Norway\", \"Oman\", \"Others\", \"Pakistan\", \"Philippines\", \"Qatar\", \"Romania\", \"Russia\", \"San Marino\", \"Singapore\", \"South Korea\", \"Spain\", \"Sri Lanka\", \"Sweden\", \"Switzerland\", \"Taiwan\", \"Thailand\", \"UK\", \"US\", \"United Arab Emirates\", \"Vietnam\"], \"locationmode\": \"country names\", \"locations\": [\"Afghanistan\", \"Algeria\", \"Armenia\", \"Australia\", \"Austria\", \"Azerbaijan\", \"Bahrain\", \"Belarus\", \"Belgium\", \"Brazil\", \"Cambodia\", \"Canada\", \"Croatia\", \"Czech Republic\", \"Denmark\", \"Dominican Republic\", \"Ecuador\", \"Egypt\", \"Estonia\", \"Finland\", \"France\", \"Georgia\", \"Germany\", \"Greece\", \"Hong Kong\", \"Iceland\", \"India\", \"Iran\", \"Iraq\", \"Ireland\", \"Israel\", \"Italy\", \"Japan\", \"Kuwait\", \"Lebanon\", \"Lithuania\", \"Luxembourg\", \"Macau\", \"Mainland China\", \"Malaysia\", \"Mexico\", \"Monaco\", \"Nepal\", \"Netherlands\", \"New Zealand\", \"Nigeria\", \"North Macedonia\", \"Norway\", \"Oman\", \"Others\", \"Pakistan\", \"Philippines\", \"Qatar\", \"Romania\", \"Russia\", \"San Marino\", \"Singapore\", \"South Korea\", \"Spain\", \"Sri Lanka\", \"Sweden\", \"Switzerland\", \"Taiwan\", \"Thailand\", \"UK\", \"US\", \"United Arab Emirates\", \"Vietnam\"], \"name\": \"\", \"z\": [1.0, 1.0, 1.0, 27.0, 14.0, 3.0, 47.0, 1.0, 2.0, 2.0, 1.0, 24.0, 7.0, 3.0, 4.0, 1.0, 6.0, 2.0, 1.0, 6.0, 130.0, 3.0, 130.0, 7.0, 96.0, 3.0, 3.0, 978.0, 19.0, 1.0, 10.0, 1694.0, 256.0, 45.0, 10.0, 1.0, 1.0, 10.0, 79826.0, 29.0, 5.0, 1.0, 1.0, 10.0, 1.0, 1.0, 1.0, 19.0, 6.0, 705.0, 4.0, 3.0, 3.0, 3.0, 2.0, 1.0, 106.0, 3736.0, 84.0, 1.0, 14.0, 27.0, 40.0, 42.0, 36.0, 76.0, 21.0, 16.0], \"type\": \"choropleth\"}], \"name\": \"03/01/2020\"}, {\"data\": [{\"coloraxis\": \"coloraxis\", \"geo\": \"geo\", \"hoverlabel\": {\"namelength\": 0}, \"hovertemplate\": \"<b>%{hovertext}</b><br><br>Date=03/02/2020<br>Country=%{location}<br>Confirmed=%{z}\", \"hovertext\": [\"Afghanistan\", \"Algeria\", \"Andorra\", \"Armenia\", \"Australia\", \"Austria\", \"Azerbaijan\", \"Bahrain\", \"Belarus\", \"Belgium\", \"Brazil\", \"Cambodia\", \"Canada\", \"Croatia\", \"Czech Republic\", \"Denmark\", \"Dominican Republic\", \"Ecuador\", \"Egypt\", \"Estonia\", \"Finland\", \"France\", \"Georgia\", \"Germany\", \"Greece\", \"Hong Kong\", \"Iceland\", \"India\", \"Indonesia\", \"Iran\", \"Iraq\", \"Ireland\", \"Israel\", \"Italy\", \"Japan\", \"Kuwait\", \"Latvia\", \"Lebanon\", \"Lithuania\", \"Luxembourg\", \"Macau\", \"Mainland China\", \"Malaysia\", \"Mexico\", \"Monaco\", \"Morocco\", \"Nepal\", \"Netherlands\", \"New Zealand\", \"Nigeria\", \"North Macedonia\", \"Norway\", \"Oman\", \"Others\", \"Pakistan\", \"Philippines\", \"Portugal\", \"Qatar\", \"Romania\", \"Russia\", \"San Marino\", \"Saudi Arabia\", \"Senegal\", \"Singapore\", \"South Korea\", \"Spain\", \"Sri Lanka\", \"Sweden\", \"Switzerland\", \"Taiwan\", \"Thailand\", \"UK\", \"US\", \"United Arab Emirates\", \"Vietnam\"], \"locationmode\": \"country names\", \"locations\": [\"Afghanistan\", \"Algeria\", \"Andorra\", \"Armenia\", \"Australia\", \"Austria\", \"Azerbaijan\", \"Bahrain\", \"Belarus\", \"Belgium\", \"Brazil\", \"Cambodia\", \"Canada\", \"Croatia\", \"Czech Republic\", \"Denmark\", \"Dominican Republic\", \"Ecuador\", \"Egypt\", \"Estonia\", \"Finland\", \"France\", \"Georgia\", \"Germany\", \"Greece\", \"Hong Kong\", \"Iceland\", \"India\", \"Indonesia\", \"Iran\", \"Iraq\", \"Ireland\", \"Israel\", \"Italy\", \"Japan\", \"Kuwait\", \"Latvia\", \"Lebanon\", \"Lithuania\", \"Luxembourg\", \"Macau\", \"Mainland China\", \"Malaysia\", \"Mexico\", \"Monaco\", \"Morocco\", \"Nepal\", \"Netherlands\", \"New Zealand\", \"Nigeria\", \"North Macedonia\", \"Norway\", \"Oman\", \"Others\", \"Pakistan\", \"Philippines\", \"Portugal\", \"Qatar\", \"Romania\", \"Russia\", \"San Marino\", \"Saudi Arabia\", \"Senegal\", \"Singapore\", \"South Korea\", \"Spain\", \"Sri Lanka\", \"Sweden\", \"Switzerland\", \"Taiwan\", \"Thailand\", \"UK\", \"US\", \"United Arab Emirates\", \"Vietnam\"], \"name\": \"\", \"z\": [1.0, 3.0, 1.0, 1.0, 30.0, 18.0, 3.0, 49.0, 1.0, 8.0, 2.0, 1.0, 27.0, 7.0, 3.0, 4.0, 1.0, 6.0, 2.0, 1.0, 6.0, 191.0, 3.0, 159.0, 7.0, 100.0, 6.0, 5.0, 2.0, 1501.0, 26.0, 1.0, 10.0, 2036.0, 274.0, 56.0, 1.0, 13.0, 1.0, 1.0, 10.0, 80026.0, 29.0, 5.0, 1.0, 1.0, 1.0, 18.0, 1.0, 1.0, 1.0, 25.0, 6.0, 705.0, 4.0, 3.0, 2.0, 3.0, 3.0, 3.0, 8.0, 1.0, 1.0, 108.0, 4335.0, 120.0, 1.0, 15.0, 42.0, 41.0, 43.0, 40.0, 101.0, 21.0, 16.0], \"type\": \"choropleth\"}], \"name\": \"03/02/2020\"}]);\n",
       "                        }).then(function(){\n",
       "                            \n",
       "var gd = document.getElementById('02cc722c-b175-463c-9c52-cf68bb8e29dd');\n",
       "var x = new MutationObserver(function (mutations, observer) {{\n",
       "        var display = window.getComputedStyle(gd).display;\n",
       "        if (!display || display === 'none') {{\n",
       "            console.log([gd, 'removed!']);\n",
       "            Plotly.purge(gd);\n",
       "            observer.disconnect();\n",
       "        }}\n",
       "}});\n",
       "\n",
       "// Listen for the removal of the full notebook cells\n",
       "var notebookContainer = gd.closest('#notebook-container');\n",
       "if (notebookContainer) {{\n",
       "    x.observe(notebookContainer, {childList: true});\n",
       "}}\n",
       "\n",
       "// Listen for the clearing of the current output cell\n",
       "var outputEl = gd.closest('.output');\n",
       "if (outputEl) {{\n",
       "    x.observe(outputEl, {childList: true});\n",
       "}}\n",
       "\n",
       "                        })\n",
       "                };\n",
       "                });\n",
       "            </script>\n",
       "        </div>"
      ]
     },
     "metadata": {},
     "output_type": "display_data"
    }
   ],
   "source": [
    "fig = px.choropleth(df_countrydate, \n",
    "                    locations=\"Country\", \n",
    "                    locationmode = \"country names\",\n",
    "                    color=\"Confirmed\", \n",
    "                    hover_name=\"Country\", \n",
    "                    animation_frame=\"Date\"\n",
    "                   )\n",
    "\n",
    "fig.update_layout(\n",
    "    title_text = 'Spread of Coronavirus over time',\n",
    "    title_x = 0.5,\n",
    "    geo=dict(\n",
    "        showframe = True,\n",
    "        showcoastlines = False,\n",
    "    ))\n",
    "    \n",
    "fig.show()"
   ]
  },
  {
   "cell_type": "code",
   "execution_count": 11,
   "metadata": {},
   "outputs": [],
   "source": [
    "#R studio https://www.data-to-viz.com/story/MapConnection.html\n",
    "#https://www.geeksforgeeks.org/python-plotting-google-map-using-gmplot-package/\n",
    "#https://plot.ly/python/lines-on-maps/\n"
   ]
  },
  {
   "cell_type": "code",
   "execution_count": 12,
   "metadata": {},
   "outputs": [
    {
     "data": {
      "text/plain": [
       "([<matplotlib.axis.XTick at 0x2e3e6e13630>,\n",
       "  <matplotlib.axis.XTick at 0x2e3e6e10e80>],\n",
       " <a list of 2 Text xticklabel objects>)"
      ]
     },
     "execution_count": 12,
     "metadata": {},
     "output_type": "execute_result"
    },
    {
     "data": {
      "image/png": "[encoded data removed]",
      "text/plain": [
       "<Figure size 216x432 with 1 Axes>"
      ]
     },
     "metadata": {},
     "output_type": "display_data"
    }
   ],
   "source": [
    "sns.set(color_codes=True)\n",
    "sns.countplot(patient['sex'], palette=\"viridis\")\n",
    "sick = plt.gcf()\n",
    "sick.set_size_inches(3,6)\n",
    "plt.title('Amount of Infected Females & Males', fontsize='15')\n",
    "plt.xticks(rotation='vertical',fontsize='10')\n",
    "#plt.xticks(np.arange(0, 1, step=0.2))  # Set label locations\n",
    "plt.xticks(np.arange(2), ['Female', 'Male'])  # Set text labels\n",
    "plt.xticks([0, 1], ['Female', 'Male'], rotation=20)  # Set text labels and properties\n",
    "#plt.savefig('infected.png')"
   ]
  },
  {
   "cell_type": "markdown",
   "metadata": {},
   "source": [
    "- Out of 7135 observations, there were many missing rows showing females/males\n",
    "- Nevertheless, we can still see a sample of those who got infected by the virus\n",
    "- Overall, there were 217 Females and 213 males who got sick \n",
    "\n",
    "- Next we'll see the breakdown of the current state --> whether the person is still isolated (in quarantine), released (stable condition), or deceased (passed away) compared to Age and Gender.\n",
    "- We will also test a hypothesis that those older than 60 years have a higher rate of death than those people who are younger"
   ]
  },
  {
   "cell_type": "code",
   "execution_count": 13,
   "metadata": {},
   "outputs": [
    {
     "data": {
      "application/vnd.plotly.v1+json": {
       "config": {
        "plotlyServerURL": "https://plot.ly"
       },
       "data": [
        {
         "customdata": [
          [
           "isolated"
          ],
          [
           "released"
          ],
          [
           "deceased"
          ]
         ],
         "domain": {
          "x": [
           0,
           1
          ],
          "y": [
           0,
           1
          ]
         },
         "hoverlabel": {
          "namelength": 0
         },
         "hovertemplate": "status=%{label}<br>count=%{value}",
         "labels": [
          "isolated",
          "released",
          "deceased"
         ],
         "legendgroup": "",
         "marker": {
          "colors": [
           "lightcyan",
           "royalblue",
           "red"
          ]
         },
         "name": "",
         "pull": 0.05,
         "rotation": 90,
         "showlegend": true,
         "textinfo": "value+percent+label",
         "type": "pie",
         "values": [
          7047,
          55,
          31
         ]
        }
       ],
       "layout": {
        "legend": {
         "tracegroupgap": 0
        },
        "template": {
         "data": {
          "bar": [
           {
            "error_x": {
             "color": "rgb(36,36,36)"
            },
            "error_y": {
             "color": "rgb(36,36,36)"
            },
            "marker": {
             "line": {
              "color": "rgb(234,234,242)",
              "width": 0.5
             }
            },
            "type": "bar"
           }
          ],
          "barpolar": [
           {
            "marker": {
             "line": {
              "color": "rgb(234,234,242)",
              "width": 0.5
             }
            },
            "type": "barpolar"
           }
          ],
          "carpet": [
           {
            "aaxis": {
             "endlinecolor": "rgb(36,36,36)",
             "gridcolor": "white",
             "linecolor": "white",
             "minorgridcolor": "white",
             "startlinecolor": "rgb(36,36,36)"
            },
            "baxis": {
             "endlinecolor": "rgb(36,36,36)",
             "gridcolor": "white",
             "linecolor": "white",
             "minorgridcolor": "white",
             "startlinecolor": "rgb(36,36,36)"
            },
            "type": "carpet"
           }
          ],
          "choropleth": [
           {
            "colorbar": {
             "outlinewidth": 0,
             "tickcolor": "rgb(36,36,36)",
             "ticklen": 8,
             "ticks": "outside",
             "tickwidth": 2
            },
            "type": "choropleth"
           }
          ],
          "contour": [
           {
            "colorbar": {
             "outlinewidth": 0,
             "tickcolor": "rgb(36,36,36)",
             "ticklen": 8,
             "ticks": "outside",
             "tickwidth": 2
            },
            "colorscale": [
             [
              0,
              "rgb(2,4,25)"
             ],
             [
              0.06274509803921569,
              "rgb(24,15,41)"
             ],
             [
              0.12549019607843137,
              "rgb(47,23,57)"
             ],
             [
              0.18823529411764706,
              "rgb(71,28,72)"
             ],
             [
              0.25098039215686274,
              "rgb(97,30,82)"
             ],
             [
              0.3137254901960784,
              "rgb(123,30,89)"
             ],
             [
              0.3764705882352941,
              "rgb(150,27,91)"
             ],
             [
              0.4392156862745098,
              "rgb(177,22,88)"
             ],
             [
              0.5019607843137255,
              "rgb(203,26,79)"
             ],
             [
              0.5647058823529412,
              "rgb(223,47,67)"
             ],
             [
              0.6274509803921569,
              "rgb(236,76,61)"
             ],
             [
              0.6901960784313725,
              "rgb(242,107,73)"
             ],
             [
              0.7529411764705882,
              "rgb(244,135,95)"
             ],
             [
              0.8156862745098039,
              "rgb(245,162,122)"
             ],
             [
              0.8784313725490196,
              "rgb(246,188,153)"
             ],
             [
              0.9411764705882353,
              "rgb(247,212,187)"
             ],
             [
              1,
              "rgb(250,234,220)"
             ]
            ],
            "type": "contour"
           }
          ],
          "contourcarpet": [
           {
            "colorbar": {
             "outlinewidth": 0,
             "tickcolor": "rgb(36,36,36)",
             "ticklen": 8,
             "ticks": "outside",
             "tickwidth": 2
            },
            "type": "contourcarpet"
           }
          ],
          "heatmap": [
           {
            "colorbar": {
             "outlinewidth": 0,
             "tickcolor": "rgb(36,36,36)",
             "ticklen": 8,
             "ticks": "outside",
             "tickwidth": 2
            },
            "colorscale": [
             [
              0,
              "rgb(2,4,25)"
             ],
             [
              0.06274509803921569,
              "rgb(24,15,41)"
             ],
             [
              0.12549019607843137,
              "rgb(47,23,57)"
             ],
             [
              0.18823529411764706,
              "rgb(71,28,72)"
             ],
             [
              0.25098039215686274,
              "rgb(97,30,82)"
             ],
             [
              0.3137254901960784,
              "rgb(123,30,89)"
             ],
             [
              0.3764705882352941,
              "rgb(150,27,91)"
             ],
             [
              0.4392156862745098,
              "rgb(177,22,88)"
             ],
             [
              0.5019607843137255,
              "rgb(203,26,79)"
             ],
             [
              0.5647058823529412,
              "rgb(223,47,67)"
             ],
             [
              0.6274509803921569,
              "rgb(236,76,61)"
             ],
             [
              0.6901960784313725,
              "rgb(242,107,73)"
             ],
             [
              0.7529411764705882,
              "rgb(244,135,95)"
             ],
             [
              0.8156862745098039,
              "rgb(245,162,122)"
             ],
             [
              0.8784313725490196,
              "rgb(246,188,153)"
             ],
             [
              0.9411764705882353,
              "rgb(247,212,187)"
             ],
             [
              1,
              "rgb(250,234,220)"
             ]
            ],
            "type": "heatmap"
           }
          ],
          "heatmapgl": [
           {
            "colorbar": {
             "outlinewidth": 0,
             "tickcolor": "rgb(36,36,36)",
             "ticklen": 8,
             "ticks": "outside",
             "tickwidth": 2
            },
            "colorscale": [
             [
              0,
              "rgb(2,4,25)"
             ],
             [
              0.06274509803921569,
              "rgb(24,15,41)"
             ],
             [
              0.12549019607843137,
              "rgb(47,23,57)"
             ],
             [
              0.18823529411764706,
              "rgb(71,28,72)"
             ],
             [
              0.25098039215686274,
              "rgb(97,30,82)"
             ],
             [
              0.3137254901960784,
              "rgb(123,30,89)"
             ],
             [
              0.3764705882352941,
              "rgb(150,27,91)"
             ],
             [
              0.4392156862745098,
              "rgb(177,22,88)"
             ],
             [
              0.5019607843137255,
              "rgb(203,26,79)"
             ],
             [
              0.5647058823529412,
              "rgb(223,47,67)"
             ],
             [
              0.6274509803921569,
              "rgb(236,76,61)"
             ],
             [
              0.6901960784313725,
              "rgb(242,107,73)"
             ],
             [
              0.7529411764705882,
              "rgb(244,135,95)"
             ],
             [
              0.8156862745098039,
              "rgb(245,162,122)"
             ],
             [
              0.8784313725490196,
              "rgb(246,188,153)"
             ],
             [
              0.9411764705882353,
              "rgb(247,212,187)"
             ],
             [
              1,
              "rgb(250,234,220)"
             ]
            ],
            "type": "heatmapgl"
           }
          ],
          "histogram": [
           {
            "marker": {
             "colorbar": {
              "outlinewidth": 0,
              "tickcolor": "rgb(36,36,36)",
              "ticklen": 8,
              "ticks": "outside",
              "tickwidth": 2
             }
            },
            "type": "histogram"
           }
          ],
          "histogram2d": [
           {
            "colorbar": {
             "outlinewidth": 0,
             "tickcolor": "rgb(36,36,36)",
             "ticklen": 8,
             "ticks": "outside",
             "tickwidth": 2
            },
            "colorscale": [
             [
              0,
              "rgb(2,4,25)"
             ],
             [
              0.06274509803921569,
              "rgb(24,15,41)"
             ],
             [
              0.12549019607843137,
              "rgb(47,23,57)"
             ],
             [
              0.18823529411764706,
              "rgb(71,28,72)"
             ],
             [
              0.25098039215686274,
              "rgb(97,30,82)"
             ],
             [
              0.3137254901960784,
              "rgb(123,30,89)"
             ],
             [
              0.3764705882352941,
              "rgb(150,27,91)"
             ],
             [
              0.4392156862745098,
              "rgb(177,22,88)"
             ],
             [
              0.5019607843137255,
              "rgb(203,26,79)"
             ],
             [
              0.5647058823529412,
              "rgb(223,47,67)"
             ],
             [
              0.6274509803921569,
              "rgb(236,76,61)"
             ],
             [
              0.6901960784313725,
              "rgb(242,107,73)"
             ],
             [
              0.7529411764705882,
              "rgb(244,135,95)"
             ],
             [
              0.8156862745098039,
              "rgb(245,162,122)"
             ],
             [
              0.8784313725490196,
              "rgb(246,188,153)"
             ],
             [
              0.9411764705882353,
              "rgb(247,212,187)"
             ],
             [
              1,
              "rgb(250,234,220)"
             ]
            ],
            "type": "histogram2d"
           }
          ],
          "histogram2dcontour": [
           {
            "colorbar": {
             "outlinewidth": 0,
             "tickcolor": "rgb(36,36,36)",
             "ticklen": 8,
             "ticks": "outside",
             "tickwidth": 2
            },
            "colorscale": [
             [
              0,
              "rgb(2,4,25)"
             ],
             [
              0.06274509803921569,
              "rgb(24,15,41)"
             ],
             [
              0.12549019607843137,
              "rgb(47,23,57)"
             ],
             [
              0.18823529411764706,
              "rgb(71,28,72)"
             ],
             [
              0.25098039215686274,
              "rgb(97,30,82)"
             ],
             [
              0.3137254901960784,
              "rgb(123,30,89)"
             ],
             [
              0.3764705882352941,
              "rgb(150,27,91)"
             ],
             [
              0.4392156862745098,
              "rgb(177,22,88)"
             ],
             [
              0.5019607843137255,
              "rgb(203,26,79)"
             ],
             [
              0.5647058823529412,
              "rgb(223,47,67)"
             ],
             [
              0.6274509803921569,
              "rgb(236,76,61)"
             ],
             [
              0.6901960784313725,
              "rgb(242,107,73)"
             ],
             [
              0.7529411764705882,
              "rgb(244,135,95)"
             ],
             [
              0.8156862745098039,
              "rgb(245,162,122)"
             ],
             [
              0.8784313725490196,
              "rgb(246,188,153)"
             ],
             [
              0.9411764705882353,
              "rgb(247,212,187)"
             ],
             [
              1,
              "rgb(250,234,220)"
             ]
            ],
            "type": "histogram2dcontour"
           }
          ],
          "mesh3d": [
           {
            "colorbar": {
             "outlinewidth": 0,
             "tickcolor": "rgb(36,36,36)",
             "ticklen": 8,
             "ticks": "outside",
             "tickwidth": 2
            },
            "type": "mesh3d"
           }
          ],
          "parcoords": [
           {
            "line": {
             "colorbar": {
              "outlinewidth": 0,
              "tickcolor": "rgb(36,36,36)",
              "ticklen": 8,
              "ticks": "outside",
              "tickwidth": 2
             }
            },
            "type": "parcoords"
           }
          ],
          "pie": [
           {
            "automargin": true,
            "type": "pie"
           }
          ],
          "scatter": [
           {
            "marker": {
             "colorbar": {
              "outlinewidth": 0,
              "tickcolor": "rgb(36,36,36)",
              "ticklen": 8,
              "ticks": "outside",
              "tickwidth": 2
             }
            },
            "type": "scatter"
           }
          ],
          "scatter3d": [
           {
            "line": {
             "colorbar": {
              "outlinewidth": 0,
              "tickcolor": "rgb(36,36,36)",
              "ticklen": 8,
              "ticks": "outside",
              "tickwidth": 2
             }
            },
            "marker": {
             "colorbar": {
              "outlinewidth": 0,
              "tickcolor": "rgb(36,36,36)",
              "ticklen": 8,
              "ticks": "outside",
              "tickwidth": 2
             }
            },
            "type": "scatter3d"
           }
          ],
          "scattercarpet": [
           {
            "marker": {
             "colorbar": {
              "outlinewidth": 0,
              "tickcolor": "rgb(36,36,36)",
              "ticklen": 8,
              "ticks": "outside",
              "tickwidth": 2
             }
            },
            "type": "scattercarpet"
           }
          ],
          "scattergeo": [
           {
            "marker": {
             "colorbar": {
              "outlinewidth": 0,
              "tickcolor": "rgb(36,36,36)",
              "ticklen": 8,
              "ticks": "outside",
              "tickwidth": 2
             }
            },
            "type": "scattergeo"
           }
          ],
          "scattergl": [
           {
            "marker": {
             "colorbar": {
              "outlinewidth": 0,
              "tickcolor": "rgb(36,36,36)",
              "ticklen": 8,
              "ticks": "outside",
              "tickwidth": 2
             }
            },
            "type": "scattergl"
           }
          ],
          "scattermapbox": [
           {
            "marker": {
             "colorbar": {
              "outlinewidth": 0,
              "tickcolor": "rgb(36,36,36)",
              "ticklen": 8,
              "ticks": "outside",
              "tickwidth": 2
             }
            },
            "type": "scattermapbox"
           }
          ],
          "scatterpolar": [
           {
            "marker": {
             "colorbar": {
              "outlinewidth": 0,
              "tickcolor": "rgb(36,36,36)",
              "ticklen": 8,
              "ticks": "outside",
              "tickwidth": 2
             }
            },
            "type": "scatterpolar"
           }
          ],
          "scatterpolargl": [
           {
            "marker": {
             "colorbar": {
              "outlinewidth": 0,
              "tickcolor": "rgb(36,36,36)",
              "ticklen": 8,
              "ticks": "outside",
              "tickwidth": 2
             }
            },
            "type": "scatterpolargl"
           }
          ],
          "scatterternary": [
           {
            "marker": {
             "colorbar": {
              "outlinewidth": 0,
              "tickcolor": "rgb(36,36,36)",
              "ticklen": 8,
              "ticks": "outside",
              "tickwidth": 2
             }
            },
            "type": "scatterternary"
           }
          ],
          "surface": [
           {
            "colorbar": {
             "outlinewidth": 0,
             "tickcolor": "rgb(36,36,36)",
             "ticklen": 8,
             "ticks": "outside",
             "tickwidth": 2
            },
            "colorscale": [
             [
              0,
              "rgb(2,4,25)"
             ],
             [
              0.06274509803921569,
              "rgb(24,15,41)"
             ],
             [
              0.12549019607843137,
              "rgb(47,23,57)"
             ],
             [
              0.18823529411764706,
              "rgb(71,28,72)"
             ],
             [
              0.25098039215686274,
              "rgb(97,30,82)"
             ],
             [
              0.3137254901960784,
              "rgb(123,30,89)"
             ],
             [
              0.3764705882352941,
              "rgb(150,27,91)"
             ],
             [
              0.4392156862745098,
              "rgb(177,22,88)"
             ],
             [
              0.5019607843137255,
              "rgb(203,26,79)"
             ],
             [
              0.5647058823529412,
              "rgb(223,47,67)"
             ],
             [
              0.6274509803921569,
              "rgb(236,76,61)"
             ],
             [
              0.6901960784313725,
              "rgb(242,107,73)"
             ],
             [
              0.7529411764705882,
              "rgb(244,135,95)"
             ],
             [
              0.8156862745098039,
              "rgb(245,162,122)"
             ],
             [
              0.8784313725490196,
              "rgb(246,188,153)"
             ],
             [
              0.9411764705882353,
              "rgb(247,212,187)"
             ],
             [
              1,
              "rgb(250,234,220)"
             ]
            ],
            "type": "surface"
           }
          ],
          "table": [
           {
            "cells": {
             "fill": {
              "color": "rgb(231,231,240)"
             },
             "line": {
              "color": "white"
             }
            },
            "header": {
             "fill": {
              "color": "rgb(183,183,191)"
             },
             "line": {
              "color": "white"
             }
            },
            "type": "table"
           }
          ]
         },
         "layout": {
          "annotationdefaults": {
           "arrowcolor": "rgb(67,103,167)"
          },
          "coloraxis": {
           "colorbar": {
            "outlinewidth": 0,
            "tickcolor": "rgb(36,36,36)",
            "ticklen": 8,
            "ticks": "outside",
            "tickwidth": 2
           }
          },
          "colorscale": {
           "sequential": [
            [
             0,
             "rgb(2,4,25)"
            ],
            [
             0.06274509803921569,
             "rgb(24,15,41)"
            ],
            [
             0.12549019607843137,
             "rgb(47,23,57)"
            ],
            [
             0.18823529411764706,
             "rgb(71,28,72)"
            ],
            [
             0.25098039215686274,
             "rgb(97,30,82)"
            ],
            [
             0.3137254901960784,
             "rgb(123,30,89)"
            ],
            [
             0.3764705882352941,
             "rgb(150,27,91)"
            ],
            [
             0.4392156862745098,
             "rgb(177,22,88)"
            ],
            [
             0.5019607843137255,
             "rgb(203,26,79)"
            ],
            [
             0.5647058823529412,
             "rgb(223,47,67)"
            ],
            [
             0.6274509803921569,
             "rgb(236,76,61)"
            ],
            [
             0.6901960784313725,
             "rgb(242,107,73)"
            ],
            [
             0.7529411764705882,
             "rgb(244,135,95)"
            ],
            [
             0.8156862745098039,
             "rgb(245,162,122)"
            ],
            [
             0.8784313725490196,
             "rgb(246,188,153)"
            ],
            [
             0.9411764705882353,
             "rgb(247,212,187)"
            ],
            [
             1,
             "rgb(250,234,220)"
            ]
           ],
           "sequentialminus": [
            [
             0,
             "rgb(2,4,25)"
            ],
            [
             0.06274509803921569,
             "rgb(24,15,41)"
            ],
            [
             0.12549019607843137,
             "rgb(47,23,57)"
            ],
            [
             0.18823529411764706,
             "rgb(71,28,72)"
            ],
            [
             0.25098039215686274,
             "rgb(97,30,82)"
            ],
            [
             0.3137254901960784,
             "rgb(123,30,89)"
            ],
            [
             0.3764705882352941,
             "rgb(150,27,91)"
            ],
            [
             0.4392156862745098,
             "rgb(177,22,88)"
            ],
            [
             0.5019607843137255,
             "rgb(203,26,79)"
            ],
            [
             0.5647058823529412,
             "rgb(223,47,67)"
            ],
            [
             0.6274509803921569,
             "rgb(236,76,61)"
            ],
            [
             0.6901960784313725,
             "rgb(242,107,73)"
            ],
            [
             0.7529411764705882,
             "rgb(244,135,95)"
            ],
            [
             0.8156862745098039,
             "rgb(245,162,122)"
            ],
            [
             0.8784313725490196,
             "rgb(246,188,153)"
            ],
            [
             0.9411764705882353,
             "rgb(247,212,187)"
            ],
            [
             1,
             "rgb(250,234,220)"
            ]
           ]
          },
          "colorway": [
           "rgb(76,114,176)",
           "rgb(221,132,82)",
           "rgb(85,168,104)",
           "rgb(196,78,82)",
           "rgb(129,114,179)",
           "rgb(147,120,96)",
           "rgb(218,139,195)",
           "rgb(140,140,140)",
           "rgb(204,185,116)",
           "rgb(100,181,205)"
          ],
          "font": {
           "color": "rgb(36,36,36)"
          },
          "geo": {
           "bgcolor": "white",
           "lakecolor": "white",
           "landcolor": "rgb(234,234,242)",
           "showlakes": true,
           "showland": true,
           "subunitcolor": "white"
          },
          "hoverlabel": {
           "align": "left"
          },
          "hovermode": "closest",
          "paper_bgcolor": "white",
          "plot_bgcolor": "rgb(234,234,242)",
          "polar": {
           "angularaxis": {
            "gridcolor": "white",
            "linecolor": "white",
            "showgrid": true,
            "ticks": ""
           },
           "bgcolor": "rgb(234,234,242)",
           "radialaxis": {
            "gridcolor": "white",
            "linecolor": "white",
            "showgrid": true,
            "ticks": ""
           }
          },
          "scene": {
           "xaxis": {
            "backgroundcolor": "rgb(234,234,242)",
            "gridcolor": "white",
            "gridwidth": 2,
            "linecolor": "white",
            "showbackground": true,
            "showgrid": true,
            "ticks": "",
            "zerolinecolor": "white"
           },
           "yaxis": {
            "backgroundcolor": "rgb(234,234,242)",
            "gridcolor": "white",
            "gridwidth": 2,
            "linecolor": "white",
            "showbackground": true,
            "showgrid": true,
            "ticks": "",
            "zerolinecolor": "white"
           },
           "zaxis": {
            "backgroundcolor": "rgb(234,234,242)",
            "gridcolor": "white",
            "gridwidth": 2,
            "linecolor": "white",
            "showbackground": true,
            "showgrid": true,
            "ticks": "",
            "zerolinecolor": "white"
           }
          },
          "shapedefaults": {
           "fillcolor": "rgb(67,103,167)",
           "line": {
            "width": 0
           },
           "opacity": 0.5
          },
          "ternary": {
           "aaxis": {
            "gridcolor": "white",
            "linecolor": "white",
            "showgrid": true,
            "ticks": ""
           },
           "baxis": {
            "gridcolor": "white",
            "linecolor": "white",
            "showgrid": true,
            "ticks": ""
           },
           "bgcolor": "rgb(234,234,242)",
           "caxis": {
            "gridcolor": "white",
            "linecolor": "white",
            "showgrid": true,
            "ticks": ""
           }
          },
          "xaxis": {
           "automargin": true,
           "gridcolor": "white",
           "linecolor": "white",
           "showgrid": true,
           "ticks": "",
           "title": {
            "standoff": 15
           },
           "zerolinecolor": "white"
          },
          "yaxis": {
           "automargin": true,
           "gridcolor": "white",
           "linecolor": "white",
           "showgrid": true,
           "ticks": "",
           "title": {
            "standoff": 15
           },
           "zerolinecolor": "white"
          }
         }
        },
        "title": {
         "text": "Current state of patients"
        }
       }
      },
      "text/html": [
       "<div>\n",
       "        \n",
       "        \n",
       "            <div id=\"1ae8ff35-3e04-4985-a3c4-293c55c9631f\" class=\"plotly-graph-div\" style=\"height:525px; width:100%;\"></div>\n",
       "            <script type=\"text/javascript\">\n",
       "                require([\"plotly\"], function(Plotly) {\n",
       "                    window.PLOTLYENV=window.PLOTLYENV || {};\n",
       "                    \n",
       "                if (document.getElementById(\"1ae8ff35-3e04-4985-a3c4-293c55c9631f\")) {\n",
       "                    Plotly.newPlot(\n",
       "                        '1ae8ff35-3e04-4985-a3c4-293c55c9631f',\n",
       "                        [{\"customdata\": [[\"isolated\"], [\"released\"], [\"deceased\"]], \"domain\": {\"x\": [0.0, 1.0], \"y\": [0.0, 1.0]}, \"hoverlabel\": {\"namelength\": 0}, \"hovertemplate\": \"status=%{label}<br>count=%{value}\", \"labels\": [\"isolated\", \"released\", \"deceased\"], \"legendgroup\": \"\", \"marker\": {\"colors\": [\"lightcyan\", \"royalblue\", \"red\"]}, \"name\": \"\", \"pull\": 0.05, \"rotation\": 90, \"showlegend\": true, \"textinfo\": \"value+percent+label\", \"type\": \"pie\", \"values\": [7047, 55, 31]}],\n",
       "                        {\"legend\": {\"tracegroupgap\": 0}, \"template\": {\"data\": {\"bar\": [{\"error_x\": {\"color\": \"rgb(36,36,36)\"}, \"error_y\": {\"color\": \"rgb(36,36,36)\"}, \"marker\": {\"line\": {\"color\": \"rgb(234,234,242)\", \"width\": 0.5}}, \"type\": \"bar\"}], \"barpolar\": [{\"marker\": {\"line\": {\"color\": \"rgb(234,234,242)\", \"width\": 0.5}}, \"type\": \"barpolar\"}], \"carpet\": [{\"aaxis\": {\"endlinecolor\": \"rgb(36,36,36)\", \"gridcolor\": \"white\", \"linecolor\": \"white\", \"minorgridcolor\": \"white\", \"startlinecolor\": \"rgb(36,36,36)\"}, \"baxis\": {\"endlinecolor\": \"rgb(36,36,36)\", \"gridcolor\": \"white\", \"linecolor\": \"white\", \"minorgridcolor\": \"white\", \"startlinecolor\": \"rgb(36,36,36)\"}, \"type\": \"carpet\"}], \"choropleth\": [{\"colorbar\": {\"outlinewidth\": 0, \"tickcolor\": \"rgb(36,36,36)\", \"ticklen\": 8, \"ticks\": \"outside\", \"tickwidth\": 2}, \"type\": \"choropleth\"}], \"contour\": [{\"colorbar\": {\"outlinewidth\": 0, \"tickcolor\": \"rgb(36,36,36)\", \"ticklen\": 8, \"ticks\": \"outside\", \"tickwidth\": 2}, \"colorscale\": [[0.0, \"rgb(2,4,25)\"], [0.06274509803921569, \"rgb(24,15,41)\"], [0.12549019607843137, \"rgb(47,23,57)\"], [0.18823529411764706, \"rgb(71,28,72)\"], [0.25098039215686274, \"rgb(97,30,82)\"], [0.3137254901960784, \"rgb(123,30,89)\"], [0.3764705882352941, \"rgb(150,27,91)\"], [0.4392156862745098, \"rgb(177,22,88)\"], [0.5019607843137255, \"rgb(203,26,79)\"], [0.5647058823529412, \"rgb(223,47,67)\"], [0.6274509803921569, \"rgb(236,76,61)\"], [0.6901960784313725, \"rgb(242,107,73)\"], [0.7529411764705882, \"rgb(244,135,95)\"], [0.8156862745098039, \"rgb(245,162,122)\"], [0.8784313725490196, \"rgb(246,188,153)\"], [0.9411764705882353, \"rgb(247,212,187)\"], [1.0, \"rgb(250,234,220)\"]], \"type\": \"contour\"}], \"contourcarpet\": [{\"colorbar\": {\"outlinewidth\": 0, \"tickcolor\": \"rgb(36,36,36)\", \"ticklen\": 8, \"ticks\": \"outside\", \"tickwidth\": 2}, \"type\": \"contourcarpet\"}], \"heatmap\": [{\"colorbar\": {\"outlinewidth\": 0, \"tickcolor\": \"rgb(36,36,36)\", \"ticklen\": 8, \"ticks\": \"outside\", \"tickwidth\": 2}, \"colorscale\": [[0.0, \"rgb(2,4,25)\"], [0.06274509803921569, \"rgb(24,15,41)\"], [0.12549019607843137, \"rgb(47,23,57)\"], [0.18823529411764706, \"rgb(71,28,72)\"], [0.25098039215686274, \"rgb(97,30,82)\"], [0.3137254901960784, \"rgb(123,30,89)\"], [0.3764705882352941, \"rgb(150,27,91)\"], [0.4392156862745098, \"rgb(177,22,88)\"], [0.5019607843137255, \"rgb(203,26,79)\"], [0.5647058823529412, \"rgb(223,47,67)\"], [0.6274509803921569, \"rgb(236,76,61)\"], [0.6901960784313725, \"rgb(242,107,73)\"], [0.7529411764705882, \"rgb(244,135,95)\"], [0.8156862745098039, \"rgb(245,162,122)\"], [0.8784313725490196, \"rgb(246,188,153)\"], [0.9411764705882353, \"rgb(247,212,187)\"], [1.0, \"rgb(250,234,220)\"]], \"type\": \"heatmap\"}], \"heatmapgl\": [{\"colorbar\": {\"outlinewidth\": 0, \"tickcolor\": \"rgb(36,36,36)\", \"ticklen\": 8, \"ticks\": \"outside\", \"tickwidth\": 2}, \"colorscale\": [[0.0, \"rgb(2,4,25)\"], [0.06274509803921569, \"rgb(24,15,41)\"], [0.12549019607843137, \"rgb(47,23,57)\"], [0.18823529411764706, \"rgb(71,28,72)\"], [0.25098039215686274, \"rgb(97,30,82)\"], [0.3137254901960784, \"rgb(123,30,89)\"], [0.3764705882352941, \"rgb(150,27,91)\"], [0.4392156862745098, \"rgb(177,22,88)\"], [0.5019607843137255, \"rgb(203,26,79)\"], [0.5647058823529412, \"rgb(223,47,67)\"], [0.6274509803921569, \"rgb(236,76,61)\"], [0.6901960784313725, \"rgb(242,107,73)\"], [0.7529411764705882, \"rgb(244,135,95)\"], [0.8156862745098039, \"rgb(245,162,122)\"], [0.8784313725490196, \"rgb(246,188,153)\"], [0.9411764705882353, \"rgb(247,212,187)\"], [1.0, \"rgb(250,234,220)\"]], \"type\": \"heatmapgl\"}], \"histogram\": [{\"marker\": {\"colorbar\": {\"outlinewidth\": 0, \"tickcolor\": \"rgb(36,36,36)\", \"ticklen\": 8, \"ticks\": \"outside\", \"tickwidth\": 2}}, \"type\": \"histogram\"}], \"histogram2d\": [{\"colorbar\": {\"outlinewidth\": 0, \"tickcolor\": \"rgb(36,36,36)\", \"ticklen\": 8, \"ticks\": \"outside\", \"tickwidth\": 2}, \"colorscale\": [[0.0, \"rgb(2,4,25)\"], [0.06274509803921569, \"rgb(24,15,41)\"], [0.12549019607843137, \"rgb(47,23,57)\"], [0.18823529411764706, \"rgb(71,28,72)\"], [0.25098039215686274, \"rgb(97,30,82)\"], [0.3137254901960784, \"rgb(123,30,89)\"], [0.3764705882352941, \"rgb(150,27,91)\"], [0.4392156862745098, \"rgb(177,22,88)\"], [0.5019607843137255, \"rgb(203,26,79)\"], [0.5647058823529412, \"rgb(223,47,67)\"], [0.6274509803921569, \"rgb(236,76,61)\"], [0.6901960784313725, \"rgb(242,107,73)\"], [0.7529411764705882, \"rgb(244,135,95)\"], [0.8156862745098039, \"rgb(245,162,122)\"], [0.8784313725490196, \"rgb(246,188,153)\"], [0.9411764705882353, \"rgb(247,212,187)\"], [1.0, \"rgb(250,234,220)\"]], \"type\": \"histogram2d\"}], \"histogram2dcontour\": [{\"colorbar\": {\"outlinewidth\": 0, \"tickcolor\": \"rgb(36,36,36)\", \"ticklen\": 8, \"ticks\": \"outside\", \"tickwidth\": 2}, \"colorscale\": [[0.0, \"rgb(2,4,25)\"], [0.06274509803921569, \"rgb(24,15,41)\"], [0.12549019607843137, \"rgb(47,23,57)\"], [0.18823529411764706, \"rgb(71,28,72)\"], [0.25098039215686274, \"rgb(97,30,82)\"], [0.3137254901960784, \"rgb(123,30,89)\"], [0.3764705882352941, \"rgb(150,27,91)\"], [0.4392156862745098, \"rgb(177,22,88)\"], [0.5019607843137255, \"rgb(203,26,79)\"], [0.5647058823529412, \"rgb(223,47,67)\"], [0.6274509803921569, \"rgb(236,76,61)\"], [0.6901960784313725, \"rgb(242,107,73)\"], [0.7529411764705882, \"rgb(244,135,95)\"], [0.8156862745098039, \"rgb(245,162,122)\"], [0.8784313725490196, \"rgb(246,188,153)\"], [0.9411764705882353, \"rgb(247,212,187)\"], [1.0, \"rgb(250,234,220)\"]], \"type\": \"histogram2dcontour\"}], \"mesh3d\": [{\"colorbar\": {\"outlinewidth\": 0, \"tickcolor\": \"rgb(36,36,36)\", \"ticklen\": 8, \"ticks\": \"outside\", \"tickwidth\": 2}, \"type\": \"mesh3d\"}], \"parcoords\": [{\"line\": {\"colorbar\": {\"outlinewidth\": 0, \"tickcolor\": \"rgb(36,36,36)\", \"ticklen\": 8, \"ticks\": \"outside\", \"tickwidth\": 2}}, \"type\": \"parcoords\"}], \"pie\": [{\"automargin\": true, \"type\": \"pie\"}], \"scatter\": [{\"marker\": {\"colorbar\": {\"outlinewidth\": 0, \"tickcolor\": \"rgb(36,36,36)\", \"ticklen\": 8, \"ticks\": \"outside\", \"tickwidth\": 2}}, \"type\": \"scatter\"}], \"scatter3d\": [{\"line\": {\"colorbar\": {\"outlinewidth\": 0, \"tickcolor\": \"rgb(36,36,36)\", \"ticklen\": 8, \"ticks\": \"outside\", \"tickwidth\": 2}}, \"marker\": {\"colorbar\": {\"outlinewidth\": 0, \"tickcolor\": \"rgb(36,36,36)\", \"ticklen\": 8, \"ticks\": \"outside\", \"tickwidth\": 2}}, \"type\": \"scatter3d\"}], \"scattercarpet\": [{\"marker\": {\"colorbar\": {\"outlinewidth\": 0, \"tickcolor\": \"rgb(36,36,36)\", \"ticklen\": 8, \"ticks\": \"outside\", \"tickwidth\": 2}}, \"type\": \"scattercarpet\"}], \"scattergeo\": [{\"marker\": {\"colorbar\": {\"outlinewidth\": 0, \"tickcolor\": \"rgb(36,36,36)\", \"ticklen\": 8, \"ticks\": \"outside\", \"tickwidth\": 2}}, \"type\": \"scattergeo\"}], \"scattergl\": [{\"marker\": {\"colorbar\": {\"outlinewidth\": 0, \"tickcolor\": \"rgb(36,36,36)\", \"ticklen\": 8, \"ticks\": \"outside\", \"tickwidth\": 2}}, \"type\": \"scattergl\"}], \"scattermapbox\": [{\"marker\": {\"colorbar\": {\"outlinewidth\": 0, \"tickcolor\": \"rgb(36,36,36)\", \"ticklen\": 8, \"ticks\": \"outside\", \"tickwidth\": 2}}, \"type\": \"scattermapbox\"}], \"scatterpolar\": [{\"marker\": {\"colorbar\": {\"outlinewidth\": 0, \"tickcolor\": \"rgb(36,36,36)\", \"ticklen\": 8, \"ticks\": \"outside\", \"tickwidth\": 2}}, \"type\": \"scatterpolar\"}], \"scatterpolargl\": [{\"marker\": {\"colorbar\": {\"outlinewidth\": 0, \"tickcolor\": \"rgb(36,36,36)\", \"ticklen\": 8, \"ticks\": \"outside\", \"tickwidth\": 2}}, \"type\": \"scatterpolargl\"}], \"scatterternary\": [{\"marker\": {\"colorbar\": {\"outlinewidth\": 0, \"tickcolor\": \"rgb(36,36,36)\", \"ticklen\": 8, \"ticks\": \"outside\", \"tickwidth\": 2}}, \"type\": \"scatterternary\"}], \"surface\": [{\"colorbar\": {\"outlinewidth\": 0, \"tickcolor\": \"rgb(36,36,36)\", \"ticklen\": 8, \"ticks\": \"outside\", \"tickwidth\": 2}, \"colorscale\": [[0.0, \"rgb(2,4,25)\"], [0.06274509803921569, \"rgb(24,15,41)\"], [0.12549019607843137, \"rgb(47,23,57)\"], [0.18823529411764706, \"rgb(71,28,72)\"], [0.25098039215686274, \"rgb(97,30,82)\"], [0.3137254901960784, \"rgb(123,30,89)\"], [0.3764705882352941, \"rgb(150,27,91)\"], [0.4392156862745098, \"rgb(177,22,88)\"], [0.5019607843137255, \"rgb(203,26,79)\"], [0.5647058823529412, \"rgb(223,47,67)\"], [0.6274509803921569, \"rgb(236,76,61)\"], [0.6901960784313725, \"rgb(242,107,73)\"], [0.7529411764705882, \"rgb(244,135,95)\"], [0.8156862745098039, \"rgb(245,162,122)\"], [0.8784313725490196, \"rgb(246,188,153)\"], [0.9411764705882353, \"rgb(247,212,187)\"], [1.0, \"rgb(250,234,220)\"]], \"type\": \"surface\"}], \"table\": [{\"cells\": {\"fill\": {\"color\": \"rgb(231,231,240)\"}, \"line\": {\"color\": \"white\"}}, \"header\": {\"fill\": {\"color\": \"rgb(183,183,191)\"}, \"line\": {\"color\": \"white\"}}, \"type\": \"table\"}]}, \"layout\": {\"annotationdefaults\": {\"arrowcolor\": \"rgb(67,103,167)\"}, \"coloraxis\": {\"colorbar\": {\"outlinewidth\": 0, \"tickcolor\": \"rgb(36,36,36)\", \"ticklen\": 8, \"ticks\": \"outside\", \"tickwidth\": 2}}, \"colorscale\": {\"sequential\": [[0.0, \"rgb(2,4,25)\"], [0.06274509803921569, \"rgb(24,15,41)\"], [0.12549019607843137, \"rgb(47,23,57)\"], [0.18823529411764706, \"rgb(71,28,72)\"], [0.25098039215686274, \"rgb(97,30,82)\"], [0.3137254901960784, \"rgb(123,30,89)\"], [0.3764705882352941, \"rgb(150,27,91)\"], [0.4392156862745098, \"rgb(177,22,88)\"], [0.5019607843137255, \"rgb(203,26,79)\"], [0.5647058823529412, \"rgb(223,47,67)\"], [0.6274509803921569, \"rgb(236,76,61)\"], [0.6901960784313725, \"rgb(242,107,73)\"], [0.7529411764705882, \"rgb(244,135,95)\"], [0.8156862745098039, \"rgb(245,162,122)\"], [0.8784313725490196, \"rgb(246,188,153)\"], [0.9411764705882353, \"rgb(247,212,187)\"], [1.0, \"rgb(250,234,220)\"]], \"sequentialminus\": [[0.0, \"rgb(2,4,25)\"], [0.06274509803921569, \"rgb(24,15,41)\"], [0.12549019607843137, \"rgb(47,23,57)\"], [0.18823529411764706, \"rgb(71,28,72)\"], [0.25098039215686274, \"rgb(97,30,82)\"], [0.3137254901960784, \"rgb(123,30,89)\"], [0.3764705882352941, \"rgb(150,27,91)\"], [0.4392156862745098, \"rgb(177,22,88)\"], [0.5019607843137255, \"rgb(203,26,79)\"], [0.5647058823529412, \"rgb(223,47,67)\"], [0.6274509803921569, \"rgb(236,76,61)\"], [0.6901960784313725, \"rgb(242,107,73)\"], [0.7529411764705882, \"rgb(244,135,95)\"], [0.8156862745098039, \"rgb(245,162,122)\"], [0.8784313725490196, \"rgb(246,188,153)\"], [0.9411764705882353, \"rgb(247,212,187)\"], [1.0, \"rgb(250,234,220)\"]]}, \"colorway\": [\"rgb(76,114,176)\", \"rgb(221,132,82)\", \"rgb(85,168,104)\", \"rgb(196,78,82)\", \"rgb(129,114,179)\", \"rgb(147,120,96)\", \"rgb(218,139,195)\", \"rgb(140,140,140)\", \"rgb(204,185,116)\", \"rgb(100,181,205)\"], \"font\": {\"color\": \"rgb(36,36,36)\"}, \"geo\": {\"bgcolor\": \"white\", \"lakecolor\": \"white\", \"landcolor\": \"rgb(234,234,242)\", \"showlakes\": true, \"showland\": true, \"subunitcolor\": \"white\"}, \"hoverlabel\": {\"align\": \"left\"}, \"hovermode\": \"closest\", \"paper_bgcolor\": \"white\", \"plot_bgcolor\": \"rgb(234,234,242)\", \"polar\": {\"angularaxis\": {\"gridcolor\": \"white\", \"linecolor\": \"white\", \"showgrid\": true, \"ticks\": \"\"}, \"bgcolor\": \"rgb(234,234,242)\", \"radialaxis\": {\"gridcolor\": \"white\", \"linecolor\": \"white\", \"showgrid\": true, \"ticks\": \"\"}}, \"scene\": {\"xaxis\": {\"backgroundcolor\": \"rgb(234,234,242)\", \"gridcolor\": \"white\", \"gridwidth\": 2, \"linecolor\": \"white\", \"showbackground\": true, \"showgrid\": true, \"ticks\": \"\", \"zerolinecolor\": \"white\"}, \"yaxis\": {\"backgroundcolor\": \"rgb(234,234,242)\", \"gridcolor\": \"white\", \"gridwidth\": 2, \"linecolor\": \"white\", \"showbackground\": true, \"showgrid\": true, \"ticks\": \"\", \"zerolinecolor\": \"white\"}, \"zaxis\": {\"backgroundcolor\": \"rgb(234,234,242)\", \"gridcolor\": \"white\", \"gridwidth\": 2, \"linecolor\": \"white\", \"showbackground\": true, \"showgrid\": true, \"ticks\": \"\", \"zerolinecolor\": \"white\"}}, \"shapedefaults\": {\"fillcolor\": \"rgb(67,103,167)\", \"line\": {\"width\": 0}, \"opacity\": 0.5}, \"ternary\": {\"aaxis\": {\"gridcolor\": \"white\", \"linecolor\": \"white\", \"showgrid\": true, \"ticks\": \"\"}, \"baxis\": {\"gridcolor\": \"white\", \"linecolor\": \"white\", \"showgrid\": true, \"ticks\": \"\"}, \"bgcolor\": \"rgb(234,234,242)\", \"caxis\": {\"gridcolor\": \"white\", \"linecolor\": \"white\", \"showgrid\": true, \"ticks\": \"\"}}, \"xaxis\": {\"automargin\": true, \"gridcolor\": \"white\", \"linecolor\": \"white\", \"showgrid\": true, \"ticks\": \"\", \"title\": {\"standoff\": 15}, \"zerolinecolor\": \"white\"}, \"yaxis\": {\"automargin\": true, \"gridcolor\": \"white\", \"linecolor\": \"white\", \"showgrid\": true, \"ticks\": \"\", \"title\": {\"standoff\": 15}, \"zerolinecolor\": \"white\"}}}, \"title\": {\"text\": \"Current state of patients\"}},\n",
       "                        {\"responsive\": true}\n",
       "                    ).then(function(){\n",
       "                            \n",
       "var gd = document.getElementById('1ae8ff35-3e04-4985-a3c4-293c55c9631f');\n",
       "var x = new MutationObserver(function (mutations, observer) {{\n",
       "        var display = window.getComputedStyle(gd).display;\n",
       "        if (!display || display === 'none') {{\n",
       "            console.log([gd, 'removed!']);\n",
       "            Plotly.purge(gd);\n",
       "            observer.disconnect();\n",
       "        }}\n",
       "}});\n",
       "\n",
       "// Listen for the removal of the full notebook cells\n",
       "var notebookContainer = gd.closest('#notebook-container');\n",
       "if (notebookContainer) {{\n",
       "    x.observe(notebookContainer, {childList: true});\n",
       "}}\n",
       "\n",
       "// Listen for the clearing of the current output cell\n",
       "var outputEl = gd.closest('.output');\n",
       "if (outputEl) {{\n",
       "    x.observe(outputEl, {childList: true});\n",
       "}}\n",
       "\n",
       "                        })\n",
       "                };\n",
       "                });\n",
       "            </script>\n",
       "        </div>"
      ]
     },
     "metadata": {},
     "output_type": "display_data"
    }
   ],
   "source": [
    "states = pd.DataFrame(patient[\"state\"].value_counts())\n",
    "states[\"status\"] = states.index\n",
    "states.rename(columns={\"state\": \"count\"}, inplace=True)\n",
    "\n",
    "fig = px.pie(states,\n",
    "             values=\"count\",\n",
    "             names=\"status\",\n",
    "             title=\"Current state of patients\",\n",
    "             template=\"seaborn\",\n",
    "             color= \"status\",\n",
    "             color_discrete_map={'isolated':'lightcyan', \n",
    "                                 'released':'royalblue', \n",
    "                                 'deceased':'red'})\n",
    "                                            \n",
    "fig.update_traces(rotation=90, pull=0.05, textinfo=\"value+percent+label\")\n",
    "fig.show()"
   ]
  },
  {
   "cell_type": "markdown",
   "metadata": {},
   "source": [
    "- The majority of patients are currently isolated with 55 released and even fewer who are deceased (31)\n",
    "- Next we'll compare State based on Sex"
   ]
  },
  {
   "cell_type": "code",
   "execution_count": 15,
   "metadata": {},
   "outputs": [
    {
     "data": {
      "text/html": [
       "<div>\n",
       "<style scoped>\n",
       "    .dataframe tbody tr th:only-of-type {\n",
       "        vertical-align: middle;\n",
       "    }\n",
       "\n",
       "    .dataframe tbody tr th {\n",
       "        vertical-align: top;\n",
       "    }\n",
       "\n",
       "    .dataframe thead th {\n",
       "        text-align: right;\n",
       "    }\n",
       "</style>\n",
       "<table border=\"1\" class=\"dataframe\">\n",
       "  <thead>\n",
       "    <tr style=\"text-align: right;\">\n",
       "      <th></th>\n",
       "      <th>id</th>\n",
       "      <th>sex</th>\n",
       "      <th>birth_year</th>\n",
       "      <th>country</th>\n",
       "      <th>region</th>\n",
       "      <th>disease</th>\n",
       "      <th>group</th>\n",
       "      <th>infection_reason</th>\n",
       "      <th>infection_order</th>\n",
       "      <th>infected_by</th>\n",
       "      <th>contact_number</th>\n",
       "      <th>confirmed_date</th>\n",
       "      <th>released_date</th>\n",
       "      <th>deceased_date</th>\n",
       "      <th>state</th>\n",
       "      <th>age</th>\n",
       "    </tr>\n",
       "  </thead>\n",
       "  <tbody>\n",
       "    <tr>\n",
       "      <th>0</th>\n",
       "      <td>1</td>\n",
       "      <td>female</td>\n",
       "      <td>1984.0</td>\n",
       "      <td>China</td>\n",
       "      <td>filtered at airport</td>\n",
       "      <td>NaN</td>\n",
       "      <td>NaN</td>\n",
       "      <td>visit to Wuhan</td>\n",
       "      <td>1.0</td>\n",
       "      <td>NaN</td>\n",
       "      <td>45.0</td>\n",
       "      <td>2020-01-20</td>\n",
       "      <td>2020-02-06</td>\n",
       "      <td>NaN</td>\n",
       "      <td>released</td>\n",
       "      <td>36.0</td>\n",
       "    </tr>\n",
       "    <tr>\n",
       "      <th>1</th>\n",
       "      <td>2</td>\n",
       "      <td>male</td>\n",
       "      <td>1964.0</td>\n",
       "      <td>Korea</td>\n",
       "      <td>filtered at airport</td>\n",
       "      <td>NaN</td>\n",
       "      <td>NaN</td>\n",
       "      <td>visit to Wuhan</td>\n",
       "      <td>1.0</td>\n",
       "      <td>NaN</td>\n",
       "      <td>75.0</td>\n",
       "      <td>2020-01-24</td>\n",
       "      <td>2020-02-05</td>\n",
       "      <td>NaN</td>\n",
       "      <td>released</td>\n",
       "      <td>56.0</td>\n",
       "    </tr>\n",
       "    <tr>\n",
       "      <th>2</th>\n",
       "      <td>3</td>\n",
       "      <td>male</td>\n",
       "      <td>1966.0</td>\n",
       "      <td>Korea</td>\n",
       "      <td>capital area</td>\n",
       "      <td>NaN</td>\n",
       "      <td>NaN</td>\n",
       "      <td>visit to Wuhan</td>\n",
       "      <td>1.0</td>\n",
       "      <td>NaN</td>\n",
       "      <td>16.0</td>\n",
       "      <td>2020-01-26</td>\n",
       "      <td>2020-02-12</td>\n",
       "      <td>NaN</td>\n",
       "      <td>released</td>\n",
       "      <td>54.0</td>\n",
       "    </tr>\n",
       "    <tr>\n",
       "      <th>3</th>\n",
       "      <td>4</td>\n",
       "      <td>male</td>\n",
       "      <td>1964.0</td>\n",
       "      <td>Korea</td>\n",
       "      <td>capital area</td>\n",
       "      <td>NaN</td>\n",
       "      <td>NaN</td>\n",
       "      <td>visit to Wuhan</td>\n",
       "      <td>1.0</td>\n",
       "      <td>NaN</td>\n",
       "      <td>95.0</td>\n",
       "      <td>2020-01-27</td>\n",
       "      <td>2020-02-09</td>\n",
       "      <td>NaN</td>\n",
       "      <td>released</td>\n",
       "      <td>56.0</td>\n",
       "    </tr>\n",
       "    <tr>\n",
       "      <th>4</th>\n",
       "      <td>5</td>\n",
       "      <td>male</td>\n",
       "      <td>1987.0</td>\n",
       "      <td>Korea</td>\n",
       "      <td>capital area</td>\n",
       "      <td>NaN</td>\n",
       "      <td>NaN</td>\n",
       "      <td>visit to Wuhan</td>\n",
       "      <td>1.0</td>\n",
       "      <td>NaN</td>\n",
       "      <td>31.0</td>\n",
       "      <td>2020-01-30</td>\n",
       "      <td>2020-03-02</td>\n",
       "      <td>NaN</td>\n",
       "      <td>released</td>\n",
       "      <td>33.0</td>\n",
       "    </tr>\n",
       "  </tbody>\n",
       "</table>\n",
       "</div>"
      ],
      "text/plain": [
       "   id     sex  birth_year country               region  disease group  \\\n",
       "0   1  female      1984.0   China  filtered at airport      NaN   NaN   \n",
       "1   2    male      1964.0   Korea  filtered at airport      NaN   NaN   \n",
       "2   3    male      1966.0   Korea         capital area      NaN   NaN   \n",
       "3   4    male      1964.0   Korea         capital area      NaN   NaN   \n",
       "4   5    male      1987.0   Korea         capital area      NaN   NaN   \n",
       "\n",
       "  infection_reason  infection_order  infected_by  contact_number  \\\n",
       "0   visit to Wuhan              1.0          NaN            45.0   \n",
       "1   visit to Wuhan              1.0          NaN            75.0   \n",
       "2   visit to Wuhan              1.0          NaN            16.0   \n",
       "3   visit to Wuhan              1.0          NaN            95.0   \n",
       "4   visit to Wuhan              1.0          NaN            31.0   \n",
       "\n",
       "  confirmed_date released_date deceased_date     state   age  \n",
       "0     2020-01-20    2020-02-06           NaN  released  36.0  \n",
       "1     2020-01-24    2020-02-05           NaN  released  56.0  \n",
       "2     2020-01-26    2020-02-12           NaN  released  54.0  \n",
       "3     2020-01-27    2020-02-09           NaN  released  56.0  \n",
       "4     2020-01-30    2020-03-02           NaN  released  33.0  "
      ]
     },
     "execution_count": 15,
     "metadata": {},
     "output_type": "execute_result"
    }
   ],
   "source": [
    "#creating a new column called Age \n",
    "patient['age'] = 2020-patient['birth_year']\n",
    "patient.head()"
   ]
  },
  {
   "cell_type": "code",
   "execution_count": 23,
   "metadata": {},
   "outputs": [
    {
     "data": {
      "text/plain": [
       "(array([ 0,  1,  2,  3,  4,  5,  6,  7,  8,  9, 10, 11, 12, 13, 14, 15, 16,\n",
       "        17, 18, 19, 20, 21, 22, 23]), <a list of 24 Text xticklabel objects>)"
      ]
     },
     "execution_count": 23,
     "metadata": {},
     "output_type": "execute_result"
    },
    {
     "data": {
      "image/png": "[encoded data removed]",
      "text/plain": [
       "<Figure size 1440x288 with 1 Axes>"
      ]
     },
     "metadata": {},
     "output_type": "display_data"
    }
   ],
   "source": [
    "#filtering for patients who passed away\n",
    "Dead= patient[patient['state']=='deceased']\n",
    "\n",
    "sns.countplot(Dead['age'], palette=\"plasma\")\n",
    "sick = plt.gcf()\n",
    "sick.set_size_inches(20,4)\n",
    "plt.title('Age of patients who passed away', fontsize='15')\n",
    "plt.xticks(rotation='vertical',fontsize='10')\n",
    "plt.xticks(rotation=20) "
   ]
  },
  {
   "cell_type": "code",
   "execution_count": 16,
   "metadata": {},
   "outputs": [
    {
     "data": {
      "text/plain": [
       "([<matplotlib.axis.XTick at 0x2e3e8917d30>,\n",
       "  <matplotlib.axis.XTick at 0x2e3e89175c0>,\n",
       "  <matplotlib.axis.XTick at 0x2e3e89172e8>],\n",
       " <a list of 3 Text xticklabel objects>)"
      ]
     },
     "execution_count": 16,
     "metadata": {},
     "output_type": "execute_result"
    },
    {
     "data": {
      "image/png": "[encoded data removed]",
      "text/plain": [
       "<Figure size 216x432 with 1 Axes>"
      ]
     },
     "metadata": {},
     "output_type": "display_data"
    }
   ],
   "source": [
    "#filtering for male\n",
    "Male= patient[patient['sex']=='male']\n",
    "\n",
    "sns.countplot(Male['state'], palette=\"plasma\")\n",
    "sick = plt.gcf()\n",
    "sick.set_size_inches(3,6)\n",
    "plt.title('Current State of Patients', fontsize='15')\n",
    "plt.xticks(rotation='vertical',fontsize='10')\n",
    "plt.xticks(np.arange(3), rotation=20) "
   ]
  },
  {
   "cell_type": "code",
   "execution_count": 17,
   "metadata": {},
   "outputs": [
    {
     "data": {
      "text/plain": [
       "([<matplotlib.axis.XTick at 0x2e3e1abd7b8>,\n",
       "  <matplotlib.axis.XTick at 0x2e3e897aac8>,\n",
       "  <matplotlib.axis.XTick at 0x2e3e897a7f0>],\n",
       " <a list of 3 Text xticklabel objects>)"
      ]
     },
     "execution_count": 17,
     "metadata": {},
     "output_type": "execute_result"
    },
    {
     "data": {
      "image/png": "[encoded data removed]",
      "text/plain": [
       "<Figure size 216x432 with 1 Axes>"
      ]
     },
     "metadata": {},
     "output_type": "display_data"
    }
   ],
   "source": [
    "#filtering for females\n",
    "Female= patient[patient['sex']=='female']\n",
    "\n",
    "sns.countplot(Female['state'], palette=\"plasma\")\n",
    "sick = plt.gcf()\n",
    "sick.set_size_inches(3,6)\n",
    "plt.title('Current State of Patients', fontsize='15')\n",
    "plt.xticks(rotation='vertical',fontsize='10')\n",
    "plt.xticks(np.arange(3), rotation=20) "
   ]
  },
  {
   "cell_type": "markdown",
   "metadata": {},
   "source": [
    "- There seems to be similar distribution of those who have been released and isolated for Males and Females\n",
    "- However, there are more males who have passed away than Females\n",
    "- It is important to note that this was only a small sample out of the whole dataset\n",
    "    - there are many unaccounted patients that have missing values for Sex, Birth Year, Region, Group, Reason of Infection, etc.\n",
    "    "
   ]
  },
  {
   "cell_type": "code",
   "execution_count": 14,
   "metadata": {},
   "outputs": [
    {
     "data": {
      "text/plain": [
       "(array([ 0,  1,  2,  3,  4,  5,  6,  7,  8,  9, 10, 11, 12, 13, 14, 15, 16,\n",
       "        17, 18, 19, 20, 21, 22, 23, 24, 25, 26, 27, 28, 29, 30, 31, 32, 33,\n",
       "        34, 35, 36, 37, 38, 39, 40, 41, 42, 43, 44, 45, 46, 47, 48, 49, 50,\n",
       "        51, 52, 53, 54, 55, 56, 57, 58, 59, 60, 61, 62, 63, 64]),\n",
       " <a list of 65 Text xticklabel objects>)"
      ]
     },
     "execution_count": 14,
     "metadata": {},
     "output_type": "execute_result"
    },
    {
     "data": {
      "image/png": "[encoded data removed]",
      "text/plain": [
       "<Figure size 1440x288 with 1 Axes>"
      ]
     },
     "metadata": {},
     "output_type": "display_data"
    }
   ],
   "source": [
    "sns.countplot(Male['age'], palette=\"plasma\")\n",
    "sick = plt.gcf()\n",
    "sick.set_size_inches(20,4)\n",
    "plt.title('Distribution of Males based on Age', fontsize='15')\n",
    "plt.xticks(rotation='vertical',fontsize='9')\n",
    "plt.xticks(rotation=40) "
   ]
  },
  {
   "cell_type": "markdown",
   "metadata": {},
   "source": [
    "- The youngest male to get sick was 7 with the oldest being 87\n",
    "- The majority of people who got infected were 35 years old followed by those who were 64"
   ]
  },
  {
   "cell_type": "code",
   "execution_count": 15,
   "metadata": {
    "scrolled": true
   },
   "outputs": [
    {
     "data": {
      "text/plain": [
       "(array([ 0,  1,  2,  3,  4,  5,  6,  7,  8,  9, 10, 11, 12, 13, 14, 15, 16,\n",
       "        17, 18, 19, 20, 21, 22, 23, 24, 25, 26, 27, 28, 29, 30, 31, 32, 33,\n",
       "        34, 35, 36, 37, 38, 39, 40, 41, 42, 43, 44, 45, 46, 47, 48, 49, 50,\n",
       "        51, 52, 53, 54, 55, 56, 57, 58, 59, 60, 61, 62, 63, 64, 65, 66, 67]),\n",
       " <a list of 68 Text xticklabel objects>)"
      ]
     },
     "execution_count": 15,
     "metadata": {},
     "output_type": "execute_result"
    },
    {
     "data": {
      "image/png": "[encoded data removed]",
      "text/plain": [
       "<Figure size 1440x288 with 1 Axes>"
      ]
     },
     "metadata": {},
     "output_type": "display_data"
    }
   ],
   "source": [
    "sns.countplot(Female['age'], palette=\"plasma\")\n",
    "sick = plt.gcf()\n",
    "sick.set_size_inches(20,4)\n",
    "plt.title('Distribution of Females based on Age', fontsize='15')\n",
    "plt.xticks(rotation='vertical',fontsize='9')\n",
    "plt.xticks(rotation=40) "
   ]
  },
  {
   "cell_type": "markdown",
   "metadata": {},
   "source": [
    "- There is a lot of variability for Females in terms of age compared to males\n",
    "- The youngest person was aged 2 with the oldest being 91 - a much wider range than males\n",
    "- However similar to Males, the majority of females aged 35 and 60 were infected the most"
   ]
  },
  {
   "cell_type": "code",
   "execution_count": 38,
   "metadata": {},
   "outputs": [
    {
     "data": {
      "text/plain": [
       "<matplotlib.axes._subplots.AxesSubplot at 0x21639917cf8>"
      ]
     },
     "execution_count": 38,
     "metadata": {},
     "output_type": "execute_result"
    },
    {
     "data": {
      "image/png": "[encoded data removed]",
      "text/plain": [
       "<Figure size 720x432 with 1 Axes>"
      ]
     },
     "metadata": {},
     "output_type": "display_data"
    }
   ],
   "source": [
    "male_dead= Male[Male['state']=='deceased']\n",
    "female_dead= Female[Female['state']=='deceased']\n",
    "\n",
    "plt.figure(figsize=(10,6))\n",
    "sns.set_style(\"darkgrid\")\n",
    "plt.title(\"Age distribution of those who passed away by gender\")\n",
    "sns.kdeplot(data=female_dead['age'], label=\"Women\", shade=True, color=\"Red\")\n",
    "sns.kdeplot(data=male_dead['age'],label=\"Male\" ,shade=True, color=\"Blue\")"
   ]
  },
  {
   "cell_type": "code",
   "execution_count": 30,
   "metadata": {},
   "outputs": [
    {
     "data": {
      "text/html": [
       "<div>\n",
       "<style scoped>\n",
       "    .dataframe tbody tr th:only-of-type {\n",
       "        vertical-align: middle;\n",
       "    }\n",
       "\n",
       "    .dataframe tbody tr th {\n",
       "        vertical-align: top;\n",
       "    }\n",
       "\n",
       "    .dataframe thead th {\n",
       "        text-align: right;\n",
       "    }\n",
       "</style>\n",
       "<table border=\"1\" class=\"dataframe\">\n",
       "  <thead>\n",
       "    <tr style=\"text-align: right;\">\n",
       "      <th></th>\n",
       "      <th>id</th>\n",
       "      <th>birth_year</th>\n",
       "      <th>disease</th>\n",
       "      <th>infection_order</th>\n",
       "      <th>infected_by</th>\n",
       "      <th>contact_number</th>\n",
       "      <th>age</th>\n",
       "    </tr>\n",
       "  </thead>\n",
       "  <tbody>\n",
       "    <tr>\n",
       "      <th>count</th>\n",
       "      <td>10.000000</td>\n",
       "      <td>10.000000</td>\n",
       "      <td>7.0</td>\n",
       "      <td>0.0</td>\n",
       "      <td>0.0</td>\n",
       "      <td>0.0</td>\n",
       "      <td>10.000000</td>\n",
       "    </tr>\n",
       "    <tr>\n",
       "      <th>mean</th>\n",
       "      <td>2461.500000</td>\n",
       "      <td>1945.900000</td>\n",
       "      <td>1.0</td>\n",
       "      <td>NaN</td>\n",
       "      <td>NaN</td>\n",
       "      <td>NaN</td>\n",
       "      <td>74.100000</td>\n",
       "    </tr>\n",
       "    <tr>\n",
       "      <th>std</th>\n",
       "      <td>2258.187338</td>\n",
       "      <td>13.527339</td>\n",
       "      <td>0.0</td>\n",
       "      <td>NaN</td>\n",
       "      <td>NaN</td>\n",
       "      <td>NaN</td>\n",
       "      <td>13.527339</td>\n",
       "    </tr>\n",
       "    <tr>\n",
       "      <th>min</th>\n",
       "      <td>38.000000</td>\n",
       "      <td>1929.000000</td>\n",
       "      <td>1.0</td>\n",
       "      <td>NaN</td>\n",
       "      <td>NaN</td>\n",
       "      <td>NaN</td>\n",
       "      <td>55.000000</td>\n",
       "    </tr>\n",
       "    <tr>\n",
       "      <th>25%</th>\n",
       "      <td>907.000000</td>\n",
       "      <td>1934.250000</td>\n",
       "      <td>1.0</td>\n",
       "      <td>NaN</td>\n",
       "      <td>NaN</td>\n",
       "      <td>NaN</td>\n",
       "      <td>60.750000</td>\n",
       "    </tr>\n",
       "    <tr>\n",
       "      <th>50%</th>\n",
       "      <td>1839.000000</td>\n",
       "      <td>1943.000000</td>\n",
       "      <td>1.0</td>\n",
       "      <td>NaN</td>\n",
       "      <td>NaN</td>\n",
       "      <td>NaN</td>\n",
       "      <td>77.000000</td>\n",
       "    </tr>\n",
       "    <tr>\n",
       "      <th>75%</th>\n",
       "      <td>3726.750000</td>\n",
       "      <td>1959.250000</td>\n",
       "      <td>1.0</td>\n",
       "      <td>NaN</td>\n",
       "      <td>NaN</td>\n",
       "      <td>NaN</td>\n",
       "      <td>85.750000</td>\n",
       "    </tr>\n",
       "    <tr>\n",
       "      <th>max</th>\n",
       "      <td>6285.000000</td>\n",
       "      <td>1965.000000</td>\n",
       "      <td>1.0</td>\n",
       "      <td>NaN</td>\n",
       "      <td>NaN</td>\n",
       "      <td>NaN</td>\n",
       "      <td>91.000000</td>\n",
       "    </tr>\n",
       "  </tbody>\n",
       "</table>\n",
       "</div>"
      ],
      "text/plain": [
       "                id   birth_year  disease  infection_order  infected_by  \\\n",
       "count    10.000000    10.000000      7.0              0.0          0.0   \n",
       "mean   2461.500000  1945.900000      1.0              NaN          NaN   \n",
       "std    2258.187338    13.527339      0.0              NaN          NaN   \n",
       "min      38.000000  1929.000000      1.0              NaN          NaN   \n",
       "25%     907.000000  1934.250000      1.0              NaN          NaN   \n",
       "50%    1839.000000  1943.000000      1.0              NaN          NaN   \n",
       "75%    3726.750000  1959.250000      1.0              NaN          NaN   \n",
       "max    6285.000000  1965.000000      1.0              NaN          NaN   \n",
       "\n",
       "       contact_number        age  \n",
       "count             0.0  10.000000  \n",
       "mean              NaN  74.100000  \n",
       "std               NaN  13.527339  \n",
       "min               NaN  55.000000  \n",
       "25%               NaN  60.750000  \n",
       "50%               NaN  77.000000  \n",
       "75%               NaN  85.750000  \n",
       "max               NaN  91.000000  "
      ]
     },
     "execution_count": 30,
     "metadata": {},
     "output_type": "execute_result"
    }
   ],
   "source": [
    "female_dead.describe()"
   ]
  },
  {
   "cell_type": "code",
   "execution_count": 31,
   "metadata": {},
   "outputs": [
    {
     "data": {
      "text/html": [
       "<div>\n",
       "<style scoped>\n",
       "    .dataframe tbody tr th:only-of-type {\n",
       "        vertical-align: middle;\n",
       "    }\n",
       "\n",
       "    .dataframe tbody tr th {\n",
       "        vertical-align: top;\n",
       "    }\n",
       "\n",
       "    .dataframe thead th {\n",
       "        text-align: right;\n",
       "    }\n",
       "</style>\n",
       "<table border=\"1\" class=\"dataframe\">\n",
       "  <thead>\n",
       "    <tr style=\"text-align: right;\">\n",
       "      <th></th>\n",
       "      <th>id</th>\n",
       "      <th>birth_year</th>\n",
       "      <th>disease</th>\n",
       "      <th>infection_order</th>\n",
       "      <th>infected_by</th>\n",
       "      <th>contact_number</th>\n",
       "      <th>age</th>\n",
       "    </tr>\n",
       "  </thead>\n",
       "  <tbody>\n",
       "    <tr>\n",
       "      <th>count</th>\n",
       "      <td>21.000000</td>\n",
       "      <td>21.000000</td>\n",
       "      <td>19.0</td>\n",
       "      <td>0.0</td>\n",
       "      <td>0.0</td>\n",
       "      <td>0.0</td>\n",
       "      <td>21.000000</td>\n",
       "    </tr>\n",
       "    <tr>\n",
       "      <th>mean</th>\n",
       "      <td>1707.857143</td>\n",
       "      <td>1952.428571</td>\n",
       "      <td>1.0</td>\n",
       "      <td>NaN</td>\n",
       "      <td>NaN</td>\n",
       "      <td>NaN</td>\n",
       "      <td>67.571429</td>\n",
       "    </tr>\n",
       "    <tr>\n",
       "      <th>std</th>\n",
       "      <td>1900.102768</td>\n",
       "      <td>13.283717</td>\n",
       "      <td>0.0</td>\n",
       "      <td>NaN</td>\n",
       "      <td>NaN</td>\n",
       "      <td>NaN</td>\n",
       "      <td>13.283717</td>\n",
       "    </tr>\n",
       "    <tr>\n",
       "      <th>min</th>\n",
       "      <td>54.000000</td>\n",
       "      <td>1933.000000</td>\n",
       "      <td>1.0</td>\n",
       "      <td>NaN</td>\n",
       "      <td>NaN</td>\n",
       "      <td>NaN</td>\n",
       "      <td>36.000000</td>\n",
       "    </tr>\n",
       "    <tr>\n",
       "      <th>25%</th>\n",
       "      <td>286.000000</td>\n",
       "      <td>1940.000000</td>\n",
       "      <td>1.0</td>\n",
       "      <td>NaN</td>\n",
       "      <td>NaN</td>\n",
       "      <td>NaN</td>\n",
       "      <td>60.000000</td>\n",
       "    </tr>\n",
       "    <tr>\n",
       "      <th>50%</th>\n",
       "      <td>875.000000</td>\n",
       "      <td>1953.000000</td>\n",
       "      <td>1.0</td>\n",
       "      <td>NaN</td>\n",
       "      <td>NaN</td>\n",
       "      <td>NaN</td>\n",
       "      <td>67.000000</td>\n",
       "    </tr>\n",
       "    <tr>\n",
       "      <th>75%</th>\n",
       "      <td>2579.000000</td>\n",
       "      <td>1960.000000</td>\n",
       "      <td>1.0</td>\n",
       "      <td>NaN</td>\n",
       "      <td>NaN</td>\n",
       "      <td>NaN</td>\n",
       "      <td>80.000000</td>\n",
       "    </tr>\n",
       "    <tr>\n",
       "      <th>max</th>\n",
       "      <td>5767.000000</td>\n",
       "      <td>1984.000000</td>\n",
       "      <td>1.0</td>\n",
       "      <td>NaN</td>\n",
       "      <td>NaN</td>\n",
       "      <td>NaN</td>\n",
       "      <td>87.000000</td>\n",
       "    </tr>\n",
       "  </tbody>\n",
       "</table>\n",
       "</div>"
      ],
      "text/plain": [
       "                id   birth_year  disease  infection_order  infected_by  \\\n",
       "count    21.000000    21.000000     19.0              0.0          0.0   \n",
       "mean   1707.857143  1952.428571      1.0              NaN          NaN   \n",
       "std    1900.102768    13.283717      0.0              NaN          NaN   \n",
       "min      54.000000  1933.000000      1.0              NaN          NaN   \n",
       "25%     286.000000  1940.000000      1.0              NaN          NaN   \n",
       "50%     875.000000  1953.000000      1.0              NaN          NaN   \n",
       "75%    2579.000000  1960.000000      1.0              NaN          NaN   \n",
       "max    5767.000000  1984.000000      1.0              NaN          NaN   \n",
       "\n",
       "       contact_number        age  \n",
       "count             0.0  21.000000  \n",
       "mean              NaN  67.571429  \n",
       "std               NaN  13.283717  \n",
       "min               NaN  36.000000  \n",
       "25%               NaN  60.000000  \n",
       "50%               NaN  67.000000  \n",
       "75%               NaN  80.000000  \n",
       "max               NaN  87.000000  "
      ]
     },
     "execution_count": 31,
     "metadata": {},
     "output_type": "execute_result"
    }
   ],
   "source": [
    "male_dead.describe()"
   ]
  },
  {
   "cell_type": "markdown",
   "metadata": {},
   "source": [
    "- There seems to be a relatively normal distribution of those who died for males with a mean of ~67 years old and a st. dev of 13.28\n",
    "- The oldest female who passed away was 91 and the youngest was 55\n",
    "- The oldest male who passed away was 87 and the youngest was 36"
   ]
  },
  {
   "cell_type": "markdown",
   "metadata": {},
   "source": [
    "Looking at # of Cases over time"
   ]
  },
  {
   "cell_type": "code",
   "execution_count": 30,
   "metadata": {},
   "outputs": [
    {
     "data": {
      "image/png": "[encoded data removed]",
      "text/plain": [
       "<Figure size 432x288 with 1 Axes>"
      ]
     },
     "metadata": {},
     "output_type": "display_data"
    },
    {
     "data": {
      "text/plain": [
       "<Figure size 1008x1440 with 0 Axes>"
      ]
     },
     "metadata": {},
     "output_type": "display_data"
    }
   ],
   "source": [
    "daily_count = patient.groupby(patient.confirmed_date).id.count()\n",
    "accumulated_count = daily_count.cumsum()\n",
    "accumulated_count.plot()\n",
    "plt.title('Accumulated Confirmed # of Cases')\n",
    "plt.figure(figsize=(14,20))\n",
    "sns.set_style(\"darkgrid\")"
   ]
  },
  {
   "cell_type": "code",
   "execution_count": null,
   "metadata": {},
   "outputs": [],
   "source": []
  }
 ],
 "metadata": {
  "kernelspec": {
   "display_name": "Python 3",
   "language": "python",
   "name": "python3"
  },
  "language_info": {
   "codemirror_mode": {
    "name": "ipython",
    "version": 3
   },
   "file_extension": ".py",
   "mimetype": "text/x-python",
   "name": "python",
   "nbconvert_exporter": "python",
   "pygments_lexer": "ipython3",
   "version": "3.7.3"
  }
 },
 "nbformat": 4,
 "nbformat_minor": 2
}
